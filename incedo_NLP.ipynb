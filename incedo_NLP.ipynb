{
 "cells": [
  {
   "cell_type": "code",
   "execution_count": 1,
   "metadata": {},
   "outputs": [
    {
     "name": "stderr",
     "output_type": "stream",
     "text": [
      "C:\\Users\\sngupta\\Anaconda3\\lib\\site-packages\\statsmodels\\compat\\pandas.py:56: FutureWarning: The pandas.core.datetools module is deprecated and will be removed in a future version. Please use the pandas.tseries module instead.\n",
      "  from pandas.core import datetools\n"
     ]
    }
   ],
   "source": [
    "#Import dependencies\n",
    "import numpy as np\n",
    "import pandas as pd\n",
    "import matplotlib.pyplot as plt\n",
    "import seaborn as sns\n",
    "import scipy.stats as st\n",
    "import statsmodels.api as sm\n",
    "from collections import Counter"
   ]
  },
  {
   "cell_type": "code",
   "execution_count": 2,
   "metadata": {},
   "outputs": [],
   "source": [
    "import warnings\n",
    "warnings.filterwarnings('ignore')"
   ]
  },
  {
   "cell_type": "code",
   "execution_count": 3,
   "metadata": {},
   "outputs": [],
   "source": [
    "%matplotlib inline"
   ]
  },
  {
   "cell_type": "code",
   "execution_count": 4,
   "metadata": {},
   "outputs": [],
   "source": [
    "sns.set(color_codes= True, palette= 'muted')\n",
    "\n",
    "pd.options.display.max_columns= 1000\n",
    "pd.options.display.max_rows= 1000"
   ]
  },
  {
   "cell_type": "code",
   "execution_count": 5,
   "metadata": {},
   "outputs": [],
   "source": [
    "#data\n",
    "train= pd.read_csv('train_dataset.csv')\n",
    "test= pd.read_csv('test_dataset.csv')\n",
    "sample= pd.read_csv('sample_submission.csv')"
   ]
  },
  {
   "cell_type": "code",
   "execution_count": 6,
   "metadata": {},
   "outputs": [
    {
     "data": {
      "text/html": [
       "<div>\n",
       "<style scoped>\n",
       "    .dataframe tbody tr th:only-of-type {\n",
       "        vertical-align: middle;\n",
       "    }\n",
       "\n",
       "    .dataframe tbody tr th {\n",
       "        vertical-align: top;\n",
       "    }\n",
       "\n",
       "    .dataframe thead th {\n",
       "        text-align: right;\n",
       "    }\n",
       "</style>\n",
       "<table border=\"1\" class=\"dataframe\">\n",
       "  <thead>\n",
       "    <tr style=\"text-align: right;\">\n",
       "      <th></th>\n",
       "      <th>ID</th>\n",
       "      <th>Essayset</th>\n",
       "      <th>min_score</th>\n",
       "      <th>max_score</th>\n",
       "      <th>score_1</th>\n",
       "      <th>score_2</th>\n",
       "      <th>score_3</th>\n",
       "      <th>score_4</th>\n",
       "      <th>score_5</th>\n",
       "      <th>clarity</th>\n",
       "      <th>coherent</th>\n",
       "      <th>EssayText</th>\n",
       "    </tr>\n",
       "  </thead>\n",
       "  <tbody>\n",
       "    <tr>\n",
       "      <th>0</th>\n",
       "      <td>1</td>\n",
       "      <td>1.0</td>\n",
       "      <td>0</td>\n",
       "      <td>3</td>\n",
       "      <td>1</td>\n",
       "      <td>1</td>\n",
       "      <td>1.0</td>\n",
       "      <td>1.0</td>\n",
       "      <td>1.0</td>\n",
       "      <td>average</td>\n",
       "      <td>worst</td>\n",
       "      <td>Some additional information that we would need...</td>\n",
       "    </tr>\n",
       "    <tr>\n",
       "      <th>1</th>\n",
       "      <td>2</td>\n",
       "      <td>1.0</td>\n",
       "      <td>0</td>\n",
       "      <td>3</td>\n",
       "      <td>1</td>\n",
       "      <td>1</td>\n",
       "      <td>NaN</td>\n",
       "      <td>1.5</td>\n",
       "      <td>1.0</td>\n",
       "      <td>excellent</td>\n",
       "      <td>worst</td>\n",
       "      <td>After reading the expirement, I realized that ...</td>\n",
       "    </tr>\n",
       "    <tr>\n",
       "      <th>2</th>\n",
       "      <td>3</td>\n",
       "      <td>1.0</td>\n",
       "      <td>0</td>\n",
       "      <td>3</td>\n",
       "      <td>1</td>\n",
       "      <td>1</td>\n",
       "      <td>1.0</td>\n",
       "      <td>1.0</td>\n",
       "      <td>1.5</td>\n",
       "      <td>worst</td>\n",
       "      <td>above_average</td>\n",
       "      <td>What you need is more trials, a control set up...</td>\n",
       "    </tr>\n",
       "    <tr>\n",
       "      <th>3</th>\n",
       "      <td>4</td>\n",
       "      <td>1.0</td>\n",
       "      <td>0</td>\n",
       "      <td>3</td>\n",
       "      <td>0</td>\n",
       "      <td>0</td>\n",
       "      <td>0.0</td>\n",
       "      <td>0.0</td>\n",
       "      <td>1.0</td>\n",
       "      <td>worst</td>\n",
       "      <td>worst</td>\n",
       "      <td>The student should list what rock is better an...</td>\n",
       "    </tr>\n",
       "    <tr>\n",
       "      <th>4</th>\n",
       "      <td>5</td>\n",
       "      <td>1.0</td>\n",
       "      <td>0</td>\n",
       "      <td>3</td>\n",
       "      <td>2</td>\n",
       "      <td>2</td>\n",
       "      <td>2.0</td>\n",
       "      <td>2.5</td>\n",
       "      <td>1.0</td>\n",
       "      <td>above_average</td>\n",
       "      <td>worst</td>\n",
       "      <td>For the students to be able to make a replicat...</td>\n",
       "    </tr>\n",
       "  </tbody>\n",
       "</table>\n",
       "</div>"
      ],
      "text/plain": [
       "   ID  Essayset  min_score  max_score  score_1  score_2  score_3  score_4  \\\n",
       "0   1       1.0          0          3        1        1      1.0      1.0   \n",
       "1   2       1.0          0          3        1        1      NaN      1.5   \n",
       "2   3       1.0          0          3        1        1      1.0      1.0   \n",
       "3   4       1.0          0          3        0        0      0.0      0.0   \n",
       "4   5       1.0          0          3        2        2      2.0      2.5   \n",
       "\n",
       "   score_5        clarity       coherent  \\\n",
       "0      1.0        average          worst   \n",
       "1      1.0      excellent          worst   \n",
       "2      1.5          worst  above_average   \n",
       "3      1.0          worst          worst   \n",
       "4      1.0  above_average          worst   \n",
       "\n",
       "                                           EssayText  \n",
       "0  Some additional information that we would need...  \n",
       "1  After reading the expirement, I realized that ...  \n",
       "2  What you need is more trials, a control set up...  \n",
       "3  The student should list what rock is better an...  \n",
       "4  For the students to be able to make a replicat...  "
      ]
     },
     "execution_count": 6,
     "metadata": {},
     "output_type": "execute_result"
    }
   ],
   "source": [
    "train.head()"
   ]
  },
  {
   "cell_type": "code",
   "execution_count": 7,
   "metadata": {},
   "outputs": [
    {
     "data": {
      "text/html": [
       "<div>\n",
       "<style scoped>\n",
       "    .dataframe tbody tr th:only-of-type {\n",
       "        vertical-align: middle;\n",
       "    }\n",
       "\n",
       "    .dataframe tbody tr th {\n",
       "        vertical-align: top;\n",
       "    }\n",
       "\n",
       "    .dataframe thead th {\n",
       "        text-align: right;\n",
       "    }\n",
       "</style>\n",
       "<table border=\"1\" class=\"dataframe\">\n",
       "  <thead>\n",
       "    <tr style=\"text-align: right;\">\n",
       "      <th></th>\n",
       "      <th>ID</th>\n",
       "      <th>Essayset</th>\n",
       "      <th>min_score</th>\n",
       "      <th>max_score</th>\n",
       "      <th>clarity</th>\n",
       "      <th>coherent</th>\n",
       "      <th>EssayText</th>\n",
       "    </tr>\n",
       "  </thead>\n",
       "  <tbody>\n",
       "    <tr>\n",
       "      <th>0</th>\n",
       "      <td>1673</td>\n",
       "      <td>1</td>\n",
       "      <td>0</td>\n",
       "      <td>3</td>\n",
       "      <td>average</td>\n",
       "      <td>worst</td>\n",
       "      <td>The procedures I think they should have includ...</td>\n",
       "    </tr>\n",
       "    <tr>\n",
       "      <th>1</th>\n",
       "      <td>1674</td>\n",
       "      <td>1</td>\n",
       "      <td>0</td>\n",
       "      <td>3</td>\n",
       "      <td>average</td>\n",
       "      <td>worst</td>\n",
       "      <td>In order to replicate this experiment, you wou...</td>\n",
       "    </tr>\n",
       "    <tr>\n",
       "      <th>2</th>\n",
       "      <td>1675</td>\n",
       "      <td>1</td>\n",
       "      <td>0</td>\n",
       "      <td>3</td>\n",
       "      <td>above_average</td>\n",
       "      <td>above_average</td>\n",
       "      <td>In order to replicate their experiment, you wo...</td>\n",
       "    </tr>\n",
       "    <tr>\n",
       "      <th>3</th>\n",
       "      <td>1676</td>\n",
       "      <td>1</td>\n",
       "      <td>0</td>\n",
       "      <td>3</td>\n",
       "      <td>worst</td>\n",
       "      <td>worst</td>\n",
       "      <td>Pleace a simple of one material into one conta...</td>\n",
       "    </tr>\n",
       "    <tr>\n",
       "      <th>4</th>\n",
       "      <td>1677</td>\n",
       "      <td>1</td>\n",
       "      <td>0</td>\n",
       "      <td>3</td>\n",
       "      <td>worst</td>\n",
       "      <td>worst</td>\n",
       "      <td>Determin the mass of four different samples ma...</td>\n",
       "    </tr>\n",
       "  </tbody>\n",
       "</table>\n",
       "</div>"
      ],
      "text/plain": [
       "     ID  Essayset  min_score  max_score        clarity       coherent  \\\n",
       "0  1673         1          0          3        average          worst   \n",
       "1  1674         1          0          3        average          worst   \n",
       "2  1675         1          0          3  above_average  above_average   \n",
       "3  1676         1          0          3          worst          worst   \n",
       "4  1677         1          0          3          worst          worst   \n",
       "\n",
       "                                           EssayText  \n",
       "0  The procedures I think they should have includ...  \n",
       "1  In order to replicate this experiment, you wou...  \n",
       "2  In order to replicate their experiment, you wo...  \n",
       "3  Pleace a simple of one material into one conta...  \n",
       "4  Determin the mass of four different samples ma...  "
      ]
     },
     "execution_count": 7,
     "metadata": {},
     "output_type": "execute_result"
    }
   ],
   "source": [
    "test.head()"
   ]
  },
  {
   "cell_type": "code",
   "execution_count": 8,
   "metadata": {},
   "outputs": [
    {
     "data": {
      "text/plain": [
       "((17043, 12), (5224, 7), (99, 3))"
      ]
     },
     "execution_count": 8,
     "metadata": {},
     "output_type": "execute_result"
    }
   ],
   "source": [
    "train.shape, test.shape, sample.shape"
   ]
  },
  {
   "cell_type": "code",
   "execution_count": 9,
   "metadata": {},
   "outputs": [
    {
     "data": {
      "text/plain": [
       "Essayset     157\n",
       "score_3      147\n",
       "coherent     145\n",
       "score_5      144\n",
       "clarity      138\n",
       "score_4      136\n",
       "EssayText      0\n",
       "score_2        0\n",
       "score_1        0\n",
       "max_score      0\n",
       "min_score      0\n",
       "ID             0\n",
       "dtype: int64"
      ]
     },
     "execution_count": 9,
     "metadata": {},
     "output_type": "execute_result"
    }
   ],
   "source": [
    "train.isnull().sum().sort_values(ascending= False)"
   ]
  },
  {
   "cell_type": "code",
   "execution_count": 10,
   "metadata": {},
   "outputs": [],
   "source": [
    "#Here, I'm going to drop null values\n",
    "train_= train.copy()\n",
    "test_= test.copy()\n",
    "train= train.dropna()"
   ]
  },
  {
   "cell_type": "code",
   "execution_count": 11,
   "metadata": {},
   "outputs": [
    {
     "data": {
      "text/html": [
       "<div>\n",
       "<style scoped>\n",
       "    .dataframe tbody tr th:only-of-type {\n",
       "        vertical-align: middle;\n",
       "    }\n",
       "\n",
       "    .dataframe tbody tr th {\n",
       "        vertical-align: top;\n",
       "    }\n",
       "\n",
       "    .dataframe thead th {\n",
       "        text-align: right;\n",
       "    }\n",
       "</style>\n",
       "<table border=\"1\" class=\"dataframe\">\n",
       "  <thead>\n",
       "    <tr style=\"text-align: right;\">\n",
       "      <th></th>\n",
       "      <th>ID</th>\n",
       "      <th>Essayset</th>\n",
       "      <th>min_score</th>\n",
       "      <th>max_score</th>\n",
       "      <th>score_1</th>\n",
       "      <th>score_2</th>\n",
       "      <th>score_3</th>\n",
       "      <th>score_4</th>\n",
       "      <th>score_5</th>\n",
       "      <th>clarity</th>\n",
       "      <th>coherent</th>\n",
       "      <th>EssayText</th>\n",
       "    </tr>\n",
       "  </thead>\n",
       "  <tbody>\n",
       "    <tr>\n",
       "      <th>0</th>\n",
       "      <td>1</td>\n",
       "      <td>1.0</td>\n",
       "      <td>0</td>\n",
       "      <td>3</td>\n",
       "      <td>1</td>\n",
       "      <td>1</td>\n",
       "      <td>1.0</td>\n",
       "      <td>1.0</td>\n",
       "      <td>1.0</td>\n",
       "      <td>average</td>\n",
       "      <td>worst</td>\n",
       "      <td>Some additional information that we would need...</td>\n",
       "    </tr>\n",
       "    <tr>\n",
       "      <th>2</th>\n",
       "      <td>3</td>\n",
       "      <td>1.0</td>\n",
       "      <td>0</td>\n",
       "      <td>3</td>\n",
       "      <td>1</td>\n",
       "      <td>1</td>\n",
       "      <td>1.0</td>\n",
       "      <td>1.0</td>\n",
       "      <td>1.5</td>\n",
       "      <td>worst</td>\n",
       "      <td>above_average</td>\n",
       "      <td>What you need is more trials, a control set up...</td>\n",
       "    </tr>\n",
       "    <tr>\n",
       "      <th>3</th>\n",
       "      <td>4</td>\n",
       "      <td>1.0</td>\n",
       "      <td>0</td>\n",
       "      <td>3</td>\n",
       "      <td>0</td>\n",
       "      <td>0</td>\n",
       "      <td>0.0</td>\n",
       "      <td>0.0</td>\n",
       "      <td>1.0</td>\n",
       "      <td>worst</td>\n",
       "      <td>worst</td>\n",
       "      <td>The student should list what rock is better an...</td>\n",
       "    </tr>\n",
       "    <tr>\n",
       "      <th>4</th>\n",
       "      <td>5</td>\n",
       "      <td>1.0</td>\n",
       "      <td>0</td>\n",
       "      <td>3</td>\n",
       "      <td>2</td>\n",
       "      <td>2</td>\n",
       "      <td>2.0</td>\n",
       "      <td>2.5</td>\n",
       "      <td>1.0</td>\n",
       "      <td>above_average</td>\n",
       "      <td>worst</td>\n",
       "      <td>For the students to be able to make a replicat...</td>\n",
       "    </tr>\n",
       "    <tr>\n",
       "      <th>5</th>\n",
       "      <td>6</td>\n",
       "      <td>1.0</td>\n",
       "      <td>0</td>\n",
       "      <td>3</td>\n",
       "      <td>1</td>\n",
       "      <td>0</td>\n",
       "      <td>0.0</td>\n",
       "      <td>0.0</td>\n",
       "      <td>0.0</td>\n",
       "      <td>worst</td>\n",
       "      <td>worst</td>\n",
       "      <td>I would need the information of why you would ...</td>\n",
       "    </tr>\n",
       "  </tbody>\n",
       "</table>\n",
       "</div>"
      ],
      "text/plain": [
       "   ID  Essayset  min_score  max_score  score_1  score_2  score_3  score_4  \\\n",
       "0   1       1.0          0          3        1        1      1.0      1.0   \n",
       "2   3       1.0          0          3        1        1      1.0      1.0   \n",
       "3   4       1.0          0          3        0        0      0.0      0.0   \n",
       "4   5       1.0          0          3        2        2      2.0      2.5   \n",
       "5   6       1.0          0          3        1        0      0.0      0.0   \n",
       "\n",
       "   score_5        clarity       coherent  \\\n",
       "0      1.0        average          worst   \n",
       "2      1.5          worst  above_average   \n",
       "3      1.0          worst          worst   \n",
       "4      1.0  above_average          worst   \n",
       "5      0.0          worst          worst   \n",
       "\n",
       "                                           EssayText  \n",
       "0  Some additional information that we would need...  \n",
       "2  What you need is more trials, a control set up...  \n",
       "3  The student should list what rock is better an...  \n",
       "4  For the students to be able to make a replicat...  \n",
       "5  I would need the information of why you would ...  "
      ]
     },
     "execution_count": 11,
     "metadata": {},
     "output_type": "execute_result"
    }
   ],
   "source": [
    "train.head()"
   ]
  },
  {
   "cell_type": "code",
   "execution_count": 12,
   "metadata": {},
   "outputs": [],
   "source": [
    "train['Essayset']= train['Essayset'].astype(int)"
   ]
  },
  {
   "cell_type": "code",
   "execution_count": 13,
   "metadata": {},
   "outputs": [],
   "source": [
    "train['essay_score']= np.mean(train[['score_1', 'score_2', 'score_3', 'score_4', 'score_5']], axis= 1) "
   ]
  },
  {
   "cell_type": "code",
   "execution_count": 14,
   "metadata": {},
   "outputs": [],
   "source": [
    "train['essay_score']= np.round(train['essay_score']).astype(int)"
   ]
  },
  {
   "cell_type": "code",
   "execution_count": 15,
   "metadata": {},
   "outputs": [
    {
     "data": {
      "text/plain": [
       "Counter({0: 6326, 1: 5409, 2: 3757, 3: 684})"
      ]
     },
     "execution_count": 15,
     "metadata": {},
     "output_type": "execute_result"
    }
   ],
   "source": [
    "Counter(train['essay_score'])"
   ]
  },
  {
   "cell_type": "code",
   "execution_count": 16,
   "metadata": {},
   "outputs": [],
   "source": [
    "#Now its become a multiclass classification problem\n",
    "#Lets see what happened next\n",
    "target= train['essay_score']\n",
    "\n",
    "train= train.drop(['ID', 'score_1', 'score_2', 'score_3', 'score_4', 'score_5', 'essay_score'], axis= 1)"
   ]
  },
  {
   "cell_type": "code",
   "execution_count": 17,
   "metadata": {},
   "outputs": [],
   "source": [
    "test.drop(['ID', 'min_score', 'max_score'], axis= 1, inplace= True)"
   ]
  },
  {
   "cell_type": "code",
   "execution_count": 18,
   "metadata": {},
   "outputs": [],
   "source": [
    "train.drop(['min_score', 'max_score'], axis= 1, inplace= True)"
   ]
  },
  {
   "cell_type": "code",
   "execution_count": 19,
   "metadata": {},
   "outputs": [
    {
     "data": {
      "text/plain": [
       "((16176, 4), (5224, 4))"
      ]
     },
     "execution_count": 19,
     "metadata": {},
     "output_type": "execute_result"
    }
   ],
   "source": [
    "train.shape, test.shape"
   ]
  },
  {
   "cell_type": "code",
   "execution_count": 20,
   "metadata": {},
   "outputs": [
    {
     "name": "stderr",
     "output_type": "stream",
     "text": [
      "Using TensorFlow backend.\n"
     ]
    }
   ],
   "source": [
    "#Now I'm going to do text vectorization for the modeling purpose\n",
    "from keras.preprocessing.text import Tokenizer, text_to_word_sequence\n",
    "from keras.preprocessing.sequence import pad_sequences, sequence"
   ]
  },
  {
   "cell_type": "code",
   "execution_count": 21,
   "metadata": {},
   "outputs": [],
   "source": [
    "tokenizer= Tokenizer(num_words= 2000)"
   ]
  },
  {
   "cell_type": "code",
   "execution_count": 22,
   "metadata": {},
   "outputs": [],
   "source": [
    "tokenizer.fit_on_texts(train['EssayText'].values)"
   ]
  },
  {
   "cell_type": "code",
   "execution_count": 23,
   "metadata": {},
   "outputs": [],
   "source": [
    "train_et_vect= tokenizer.texts_to_sequences(train['EssayText'].values)"
   ]
  },
  {
   "cell_type": "code",
   "execution_count": 24,
   "metadata": {},
   "outputs": [],
   "source": [
    "test_et_vect= tokenizer.texts_to_sequences(test['EssayText'].values)"
   ]
  },
  {
   "cell_type": "code",
   "execution_count": 25,
   "metadata": {},
   "outputs": [],
   "source": [
    "train_et_vect= pad_sequences(train_et_vect, maxlen= 100)\n",
    "test_et_vect= pad_sequences(test_et_vect, maxlen= 100)"
   ]
  },
  {
   "cell_type": "code",
   "execution_count": 26,
   "metadata": {},
   "outputs": [
    {
     "data": {
      "text/plain": [
       "numpy.ndarray"
      ]
     },
     "execution_count": 26,
     "metadata": {},
     "output_type": "execute_result"
    }
   ],
   "source": [
    "type(train_et_vect)"
   ]
  },
  {
   "cell_type": "code",
   "execution_count": 27,
   "metadata": {},
   "outputs": [],
   "source": [
    "import re\n",
    "\n",
    "def preprocessing_text_length(tweets):\n",
    "    num_words= []\n",
    "    num_char= []\n",
    "    avg_word_len= []\n",
    "    num_stopwords= []\n",
    "    num_special_char= []\n",
    "    num_upper_cases= []\n",
    "    num_numerics= []\n",
    "\n",
    "    for tweet in tweets:\n",
    "        #remove links \n",
    "        #tweet= re.sub(r'(http|https|ftp)://[a-zA-Z0-9\\./]+', '', tweet, flags= re.I)\n",
    "        #tweet = re.sub(r'^https?:\\/\\/.*[\\r\\n]*', '', tweet, flags=re.MULTILINE)\n",
    "        \n",
    "        tweet= tweet.strip().split()\n",
    "        \n",
    "        #num of words\n",
    "        words= [w for w in tweet]\n",
    "        num_words.append(len(words))\n",
    "        \n",
    "        #num_char\n",
    "        chars= len(tweet)\n",
    "        num_char.append(chars)\n",
    "        \n",
    "        #num_avg word length\n",
    "        words_avg_len= [sum(len(w) for w in tweet)/len(words)]\n",
    "        avg_word_len.append(words_avg_len[0])\n",
    "        \n",
    "        #number of stop words\n",
    "        from nltk.corpus import stopwords\n",
    "        stop= stopwords.words('english')\n",
    "        stopword= [w for w in tweet if w in stop]\n",
    "        num_stopwords.append(len(stopword))\n",
    "        \n",
    "        #number of special character\n",
    "        hastags= [w for w in tweet if w.startswith('#')]\n",
    "        num_special_char.append(len(hastags))\n",
    "        \n",
    "        #number of numerics\n",
    "        numerics= [w for w in tweet if w.isdigit()]\n",
    "        num_numerics.append(len(numerics))\n",
    "        \n",
    "        #number of upper cases\n",
    "        upper_cases= [w for w in tweet if w.isupper()]\n",
    "        num_upper_cases.append(len(upper_cases))\n",
    "        \n",
    "    return num_char, num_numerics, num_special_char, num_stopwords, num_upper_cases, num_words, avg_word_len"
   ]
  },
  {
   "cell_type": "code",
   "execution_count": 28,
   "metadata": {},
   "outputs": [],
   "source": [
    "df_all= pd.concat([train, test])"
   ]
  },
  {
   "cell_type": "code",
   "execution_count": 30,
   "metadata": {},
   "outputs": [
    {
     "data": {
      "text/html": [
       "<div>\n",
       "<style scoped>\n",
       "    .dataframe tbody tr th:only-of-type {\n",
       "        vertical-align: middle;\n",
       "    }\n",
       "\n",
       "    .dataframe tbody tr th {\n",
       "        vertical-align: top;\n",
       "    }\n",
       "\n",
       "    .dataframe thead th {\n",
       "        text-align: right;\n",
       "    }\n",
       "</style>\n",
       "<table border=\"1\" class=\"dataframe\">\n",
       "  <thead>\n",
       "    <tr style=\"text-align: right;\">\n",
       "      <th></th>\n",
       "      <th>Essayset</th>\n",
       "      <th>clarity</th>\n",
       "      <th>coherent</th>\n",
       "      <th>EssayText</th>\n",
       "    </tr>\n",
       "  </thead>\n",
       "  <tbody>\n",
       "    <tr>\n",
       "      <th>0</th>\n",
       "      <td>1</td>\n",
       "      <td>average</td>\n",
       "      <td>worst</td>\n",
       "      <td>Some additional information that we would need...</td>\n",
       "    </tr>\n",
       "    <tr>\n",
       "      <th>2</th>\n",
       "      <td>1</td>\n",
       "      <td>worst</td>\n",
       "      <td>above_average</td>\n",
       "      <td>What you need is more trials, a control set up...</td>\n",
       "    </tr>\n",
       "    <tr>\n",
       "      <th>3</th>\n",
       "      <td>1</td>\n",
       "      <td>worst</td>\n",
       "      <td>worst</td>\n",
       "      <td>The student should list what rock is better an...</td>\n",
       "    </tr>\n",
       "    <tr>\n",
       "      <th>4</th>\n",
       "      <td>1</td>\n",
       "      <td>above_average</td>\n",
       "      <td>worst</td>\n",
       "      <td>For the students to be able to make a replicat...</td>\n",
       "    </tr>\n",
       "    <tr>\n",
       "      <th>5</th>\n",
       "      <td>1</td>\n",
       "      <td>worst</td>\n",
       "      <td>worst</td>\n",
       "      <td>I would need the information of why you would ...</td>\n",
       "    </tr>\n",
       "  </tbody>\n",
       "</table>\n",
       "</div>"
      ],
      "text/plain": [
       "   Essayset        clarity       coherent  \\\n",
       "0         1        average          worst   \n",
       "2         1          worst  above_average   \n",
       "3         1          worst          worst   \n",
       "4         1  above_average          worst   \n",
       "5         1          worst          worst   \n",
       "\n",
       "                                           EssayText  \n",
       "0  Some additional information that we would need...  \n",
       "2  What you need is more trials, a control set up...  \n",
       "3  The student should list what rock is better an...  \n",
       "4  For the students to be able to make a replicat...  \n",
       "5  I would need the information of why you would ...  "
      ]
     },
     "execution_count": 30,
     "metadata": {},
     "output_type": "execute_result"
    }
   ],
   "source": [
    "df_all.head()"
   ]
  },
  {
   "cell_type": "code",
   "execution_count": 31,
   "metadata": {},
   "outputs": [],
   "source": [
    "num_chars, num_numeric, num_special_chars, num_stopword, num_upper_case, num_word, avg_words_len= preprocessing_text_length(df_all['EssayText'])\n",
    "\n",
    "df_all['num_chars']= num_chars\n",
    "df_all['num_numeric']= num_numeric\n",
    "df_all['num_special_chars']= num_special_chars\n",
    "df_all['num_stopword']= num_stopword\n",
    "df_all['num_upper_case']= num_upper_case\n",
    "df_all['num_word']= num_word\n",
    "df_all['avg_words_len']= avg_words_len"
   ]
  },
  {
   "cell_type": "code",
   "execution_count": 32,
   "metadata": {},
   "outputs": [],
   "source": [
    "_train= df_all[:len(train)]\n",
    "_test= df_all[len(train):]"
   ]
  },
  {
   "cell_type": "code",
   "execution_count": 33,
   "metadata": {},
   "outputs": [],
   "source": [
    "_train= _train.drop(['EssayText'], axis= 1)\n",
    "_test= _test.drop(['EssayText'], axis= 1)"
   ]
  },
  {
   "cell_type": "code",
   "execution_count": 34,
   "metadata": {},
   "outputs": [],
   "source": [
    "from scipy.sparse import csr_matrix"
   ]
  },
  {
   "cell_type": "code",
   "execution_count": 35,
   "metadata": {},
   "outputs": [],
   "source": [
    "from sklearn.preprocessing import LabelEncoder"
   ]
  },
  {
   "cell_type": "code",
   "execution_count": 36,
   "metadata": {},
   "outputs": [
    {
     "data": {
      "text/html": [
       "<div>\n",
       "<style scoped>\n",
       "    .dataframe tbody tr th:only-of-type {\n",
       "        vertical-align: middle;\n",
       "    }\n",
       "\n",
       "    .dataframe tbody tr th {\n",
       "        vertical-align: top;\n",
       "    }\n",
       "\n",
       "    .dataframe thead th {\n",
       "        text-align: right;\n",
       "    }\n",
       "</style>\n",
       "<table border=\"1\" class=\"dataframe\">\n",
       "  <thead>\n",
       "    <tr style=\"text-align: right;\">\n",
       "      <th></th>\n",
       "      <th>Essayset</th>\n",
       "      <th>clarity</th>\n",
       "      <th>coherent</th>\n",
       "      <th>num_chars</th>\n",
       "      <th>num_numeric</th>\n",
       "      <th>num_special_chars</th>\n",
       "      <th>num_stopword</th>\n",
       "      <th>num_upper_case</th>\n",
       "      <th>num_word</th>\n",
       "      <th>avg_words_len</th>\n",
       "    </tr>\n",
       "  </thead>\n",
       "  <tbody>\n",
       "    <tr>\n",
       "      <th>0</th>\n",
       "      <td>1</td>\n",
       "      <td>average</td>\n",
       "      <td>worst</td>\n",
       "      <td>56</td>\n",
       "      <td>0</td>\n",
       "      <td>0</td>\n",
       "      <td>28</td>\n",
       "      <td>0</td>\n",
       "      <td>56</td>\n",
       "      <td>4.625000</td>\n",
       "    </tr>\n",
       "    <tr>\n",
       "      <th>2</th>\n",
       "      <td>1</td>\n",
       "      <td>worst</td>\n",
       "      <td>above_average</td>\n",
       "      <td>35</td>\n",
       "      <td>2</td>\n",
       "      <td>0</td>\n",
       "      <td>13</td>\n",
       "      <td>0</td>\n",
       "      <td>35</td>\n",
       "      <td>3.857143</td>\n",
       "    </tr>\n",
       "    <tr>\n",
       "      <th>3</th>\n",
       "      <td>1</td>\n",
       "      <td>worst</td>\n",
       "      <td>worst</td>\n",
       "      <td>17</td>\n",
       "      <td>0</td>\n",
       "      <td>0</td>\n",
       "      <td>9</td>\n",
       "      <td>0</td>\n",
       "      <td>17</td>\n",
       "      <td>4.235294</td>\n",
       "    </tr>\n",
       "    <tr>\n",
       "      <th>4</th>\n",
       "      <td>1</td>\n",
       "      <td>above_average</td>\n",
       "      <td>worst</td>\n",
       "      <td>31</td>\n",
       "      <td>0</td>\n",
       "      <td>0</td>\n",
       "      <td>15</td>\n",
       "      <td>0</td>\n",
       "      <td>31</td>\n",
       "      <td>4.129032</td>\n",
       "    </tr>\n",
       "    <tr>\n",
       "      <th>5</th>\n",
       "      <td>1</td>\n",
       "      <td>worst</td>\n",
       "      <td>worst</td>\n",
       "      <td>24</td>\n",
       "      <td>0</td>\n",
       "      <td>0</td>\n",
       "      <td>11</td>\n",
       "      <td>1</td>\n",
       "      <td>24</td>\n",
       "      <td>4.416667</td>\n",
       "    </tr>\n",
       "  </tbody>\n",
       "</table>\n",
       "</div>"
      ],
      "text/plain": [
       "   Essayset        clarity       coherent  num_chars  num_numeric  \\\n",
       "0         1        average          worst         56            0   \n",
       "2         1          worst  above_average         35            2   \n",
       "3         1          worst          worst         17            0   \n",
       "4         1  above_average          worst         31            0   \n",
       "5         1          worst          worst         24            0   \n",
       "\n",
       "   num_special_chars  num_stopword  num_upper_case  num_word  avg_words_len  \n",
       "0                  0            28               0        56       4.625000  \n",
       "2                  0            13               0        35       3.857143  \n",
       "3                  0             9               0        17       4.235294  \n",
       "4                  0            15               0        31       4.129032  \n",
       "5                  0            11               1        24       4.416667  "
      ]
     },
     "execution_count": 36,
     "metadata": {},
     "output_type": "execute_result"
    }
   ],
   "source": [
    "_train.head()"
   ]
  },
  {
   "cell_type": "code",
   "execution_count": 37,
   "metadata": {},
   "outputs": [],
   "source": [
    "for col in ['clarity', 'coherent']:\n",
    "    encoder= LabelEncoder().fit(_train[col])\n",
    "    _train[col]= encoder.transform(_train[col].astype(str))\n",
    "    _test[col]= encoder.transform(_test[col].astype(str))"
   ]
  },
  {
   "cell_type": "code",
   "execution_count": 38,
   "metadata": {},
   "outputs": [],
   "source": [
    "_train= _train.values\n",
    "_test= _test.values"
   ]
  },
  {
   "cell_type": "code",
   "execution_count": 39,
   "metadata": {},
   "outputs": [
    {
     "data": {
      "text/plain": [
       "numpy.ndarray"
      ]
     },
     "execution_count": 39,
     "metadata": {},
     "output_type": "execute_result"
    }
   ],
   "source": [
    "type(_train)"
   ]
  },
  {
   "cell_type": "code",
   "execution_count": 40,
   "metadata": {},
   "outputs": [
    {
     "data": {
      "text/plain": [
       "((16176, 10), (16176, 100), (5224, 10), (5224, 100))"
      ]
     },
     "execution_count": 40,
     "metadata": {},
     "output_type": "execute_result"
    }
   ],
   "source": [
    "_train.shape, train_et_vect.shape, _test.shape, test_et_vect.shape"
   ]
  },
  {
   "cell_type": "code",
   "execution_count": 41,
   "metadata": {},
   "outputs": [],
   "source": [
    "_train= np.hstack((_train, train_et_vect))\n",
    "_test= np.hstack((_test, test_et_vect))"
   ]
  },
  {
   "cell_type": "code",
   "execution_count": 42,
   "metadata": {},
   "outputs": [
    {
     "data": {
      "text/plain": [
       "((16176, 110), (5224, 110))"
      ]
     },
     "execution_count": 42,
     "metadata": {},
     "output_type": "execute_result"
    }
   ],
   "source": [
    "_train.shape, _test.shape"
   ]
  },
  {
   "cell_type": "code",
   "execution_count": 43,
   "metadata": {},
   "outputs": [
    {
     "name": "stderr",
     "output_type": "stream",
     "text": [
      "C:\\Users\\sngupta\\Anaconda3\\lib\\site-packages\\sklearn\\ensemble\\weight_boosting.py:29: DeprecationWarning: numpy.core.umath_tests is an internal NumPy module and should not be imported. It will be removed in a future NumPy release.\n",
      "  from numpy.core.umath_tests import inner1d\n"
     ]
    }
   ],
   "source": [
    "from sklearn.ensemble import RandomForestClassifier"
   ]
  },
  {
   "cell_type": "code",
   "execution_count": 44,
   "metadata": {},
   "outputs": [],
   "source": [
    "from sklearn.metrics import accuracy_score, f1_score"
   ]
  },
  {
   "cell_type": "code",
   "execution_count": 45,
   "metadata": {},
   "outputs": [],
   "source": [
    "clf_rf= RandomForestClassifier(random_state= 2019)"
   ]
  },
  {
   "cell_type": "code",
   "execution_count": 46,
   "metadata": {},
   "outputs": [
    {
     "data": {
      "text/plain": [
       "RandomForestClassifier(bootstrap=True, class_weight=None, criterion='gini',\n",
       "            max_depth=None, max_features='auto', max_leaf_nodes=None,\n",
       "            min_impurity_decrease=0.0, min_impurity_split=None,\n",
       "            min_samples_leaf=1, min_samples_split=2,\n",
       "            min_weight_fraction_leaf=0.0, n_estimators=10, n_jobs=1,\n",
       "            oob_score=False, random_state=2019, verbose=0,\n",
       "            warm_start=False)"
      ]
     },
     "execution_count": 46,
     "metadata": {},
     "output_type": "execute_result"
    }
   ],
   "source": [
    "clf_rf.fit(_train, target)"
   ]
  },
  {
   "cell_type": "code",
   "execution_count": 47,
   "metadata": {},
   "outputs": [],
   "source": [
    "prediction= clf_rf.predict(_train)"
   ]
  },
  {
   "cell_type": "code",
   "execution_count": 48,
   "metadata": {},
   "outputs": [
    {
     "data": {
      "text/plain": [
       "0.9889342235410484"
      ]
     },
     "execution_count": 48,
     "metadata": {},
     "output_type": "execute_result"
    }
   ],
   "source": [
    "accuracy_score(target, prediction)"
   ]
  },
  {
   "cell_type": "code",
   "execution_count": 49,
   "metadata": {},
   "outputs": [],
   "source": [
    "prediction_1= clf_rf.predict(_test)"
   ]
  },
  {
   "cell_type": "code",
   "execution_count": 50,
   "metadata": {},
   "outputs": [
    {
     "data": {
      "text/html": [
       "<div>\n",
       "<style scoped>\n",
       "    .dataframe tbody tr th:only-of-type {\n",
       "        vertical-align: middle;\n",
       "    }\n",
       "\n",
       "    .dataframe tbody tr th {\n",
       "        vertical-align: top;\n",
       "    }\n",
       "\n",
       "    .dataframe thead th {\n",
       "        text-align: right;\n",
       "    }\n",
       "</style>\n",
       "<table border=\"1\" class=\"dataframe\">\n",
       "  <thead>\n",
       "    <tr style=\"text-align: right;\">\n",
       "      <th></th>\n",
       "      <th>id</th>\n",
       "      <th>essay_set</th>\n",
       "      <th>essay_score</th>\n",
       "    </tr>\n",
       "  </thead>\n",
       "  <tbody>\n",
       "    <tr>\n",
       "      <th>0</th>\n",
       "      <td>1673</td>\n",
       "      <td>1</td>\n",
       "      <td>NaN</td>\n",
       "    </tr>\n",
       "    <tr>\n",
       "      <th>1</th>\n",
       "      <td>1674</td>\n",
       "      <td>1</td>\n",
       "      <td>NaN</td>\n",
       "    </tr>\n",
       "    <tr>\n",
       "      <th>2</th>\n",
       "      <td>1675</td>\n",
       "      <td>1</td>\n",
       "      <td>NaN</td>\n",
       "    </tr>\n",
       "    <tr>\n",
       "      <th>3</th>\n",
       "      <td>1676</td>\n",
       "      <td>1</td>\n",
       "      <td>NaN</td>\n",
       "    </tr>\n",
       "    <tr>\n",
       "      <th>4</th>\n",
       "      <td>1677</td>\n",
       "      <td>1</td>\n",
       "      <td>NaN</td>\n",
       "    </tr>\n",
       "  </tbody>\n",
       "</table>\n",
       "</div>"
      ],
      "text/plain": [
       "     id  essay_set  essay_score\n",
       "0  1673          1          NaN\n",
       "1  1674          1          NaN\n",
       "2  1675          1          NaN\n",
       "3  1676          1          NaN\n",
       "4  1677          1          NaN"
      ]
     },
     "execution_count": 50,
     "metadata": {},
     "output_type": "execute_result"
    }
   ],
   "source": [
    "sample.head()"
   ]
  },
  {
   "cell_type": "code",
   "execution_count": 51,
   "metadata": {},
   "outputs": [],
   "source": [
    "sample_1= pd.DataFrame()"
   ]
  },
  {
   "cell_type": "code",
   "execution_count": 52,
   "metadata": {},
   "outputs": [],
   "source": [
    "sample_1['id']= test_['ID']\n",
    "sample_1['essay_set']= test_['Essayset']\n",
    "sample_1['essay_score']= prediction_1"
   ]
  },
  {
   "cell_type": "code",
   "execution_count": 53,
   "metadata": {},
   "outputs": [
    {
     "data": {
      "text/html": [
       "<div>\n",
       "<style scoped>\n",
       "    .dataframe tbody tr th:only-of-type {\n",
       "        vertical-align: middle;\n",
       "    }\n",
       "\n",
       "    .dataframe tbody tr th {\n",
       "        vertical-align: top;\n",
       "    }\n",
       "\n",
       "    .dataframe thead th {\n",
       "        text-align: right;\n",
       "    }\n",
       "</style>\n",
       "<table border=\"1\" class=\"dataframe\">\n",
       "  <thead>\n",
       "    <tr style=\"text-align: right;\">\n",
       "      <th></th>\n",
       "      <th>id</th>\n",
       "      <th>essay_set</th>\n",
       "      <th>essay_score</th>\n",
       "    </tr>\n",
       "  </thead>\n",
       "  <tbody>\n",
       "    <tr>\n",
       "      <th>0</th>\n",
       "      <td>1673</td>\n",
       "      <td>1</td>\n",
       "      <td>0</td>\n",
       "    </tr>\n",
       "    <tr>\n",
       "      <th>1</th>\n",
       "      <td>1674</td>\n",
       "      <td>1</td>\n",
       "      <td>1</td>\n",
       "    </tr>\n",
       "    <tr>\n",
       "      <th>2</th>\n",
       "      <td>1675</td>\n",
       "      <td>1</td>\n",
       "      <td>2</td>\n",
       "    </tr>\n",
       "    <tr>\n",
       "      <th>3</th>\n",
       "      <td>1676</td>\n",
       "      <td>1</td>\n",
       "      <td>0</td>\n",
       "    </tr>\n",
       "    <tr>\n",
       "      <th>4</th>\n",
       "      <td>1677</td>\n",
       "      <td>1</td>\n",
       "      <td>1</td>\n",
       "    </tr>\n",
       "  </tbody>\n",
       "</table>\n",
       "</div>"
      ],
      "text/plain": [
       "     id  essay_set  essay_score\n",
       "0  1673          1            0\n",
       "1  1674          1            1\n",
       "2  1675          1            2\n",
       "3  1676          1            0\n",
       "4  1677          1            1"
      ]
     },
     "execution_count": 53,
     "metadata": {},
     "output_type": "execute_result"
    }
   ],
   "source": [
    "sample_1.head()"
   ]
  },
  {
   "cell_type": "code",
   "execution_count": 47,
   "metadata": {},
   "outputs": [],
   "source": [
    "sample_1.to_csv('sample_6.csv', index= False)"
   ]
  },
  {
   "cell_type": "code",
   "execution_count": 54,
   "metadata": {},
   "outputs": [],
   "source": [
    "import lightgbm as lgbm"
   ]
  },
  {
   "cell_type": "code",
   "execution_count": 56,
   "metadata": {},
   "outputs": [],
   "source": [
    "from sklearn.model_selection import train_test_split"
   ]
  },
  {
   "cell_type": "code",
   "execution_count": 57,
   "metadata": {},
   "outputs": [],
   "source": [
    "def run_LGBM(train, target, test):\n",
    "    np.random.seed(2019)\n",
    "    \n",
    "    X_train, X_test, y_train, y_test= train_test_split(train, target, test_size= 0.20, random_state= 2019)\n",
    "    print(X_train.shape, X_test.shape, y_train.shape, y_test.shape)\n",
    "    dtrain= lgbm.Dataset(X_train, y_train, silent= False)\n",
    "    dtest= lgbm.Dataset(X_test, y_test, silent= False)\n",
    "    \n",
    "    param_lgbm= {}\n",
    "    param_lgbm['learning_rate']= 0.1\n",
    "    param_lgbm['num_leaves']= 21\n",
    "    param_lgbm['objective']= 'multiclass'\n",
    "    param_lgbm['num_iterations']= 10000\n",
    "    param_lgbm['seed']= 2019\n",
    "    param_lgbm['num_class']= 7\n",
    "    #param_lgbm['metric']= 'auc'\n",
    "    #param_lgbm['is_unbalance']= True\n",
    "    \n",
    "    model= lgbm.train(param_lgbm, dtrain, valid_sets= (dtrain, dtest), valid_names= ('train', 'valid'), \n",
    "                      verbose_eval= 100, early_stopping_rounds= 50)\n",
    "    \n",
    "    prediction= model.predict(X_test)\n",
    "    \n",
    "    #prediction_= np.round(prediction).astype(int)\n",
    "    \n",
    "    #fpr, tpr, _ = roc_curve(y_test, prediction)\n",
    "    \n",
    "    #auc_= auc(fpr, tpr)\n",
    "    #prediction= np.argsort(prediction)\n",
    "    #prediction= prediction.flatten()\n",
    "    prediction= [np.argmax(line) for line in prediction]\n",
    "        \n",
    "    \n",
    "    print('Accuracy Score: {:.4f}' .format(accuracy_score(y_test, prediction)))\n",
    "    #print('ROC AUC Score: {:.4f}' .format(roc_auc_score(y_test, prediction_)))\n",
    "    print('f1 Score: {:.4f}' .format(f1_score(y_test, prediction, average= 'weighted')))\n",
    "    #print('The ROC CURVE (AUC): {:.4f}' .format(auc_))\n",
    "    \n",
    "    return model.predict(test)"
   ]
  },
  {
   "cell_type": "code",
   "execution_count": 57,
   "metadata": {},
   "outputs": [
    {
     "name": "stdout",
     "output_type": "stream",
     "text": [
      "(12940, 110) (3236, 110) (12940,) (3236,)\n",
      "Training until validation scores don't improve for 50 rounds.\n",
      "[100]\ttrain's multi_logloss: 0.355976\tvalid's multi_logloss: 0.513837\n",
      "Early stopping, best iteration is:\n",
      "[142]\ttrain's multi_logloss: 0.305385\tvalid's multi_logloss: 0.512594\n",
      "Accuracy Score: 0.7506\n",
      "f1 Score: 0.7462\n"
     ]
    }
   ],
   "source": [
    "pred_lgbm_1= run_LGBM(_train, target, _test)"
   ]
  },
  {
   "cell_type": "code",
   "execution_count": 58,
   "metadata": {},
   "outputs": [],
   "source": [
    "pred_lgbm_1= [np.argmax(line) for line in pred_lgbm_1]"
   ]
  },
  {
   "cell_type": "code",
   "execution_count": 59,
   "metadata": {},
   "outputs": [
    {
     "data": {
      "text/plain": [
       "Counter({0: 2297, 1: 1267, 2: 1485, 3: 175})"
      ]
     },
     "execution_count": 59,
     "metadata": {},
     "output_type": "execute_result"
    }
   ],
   "source": [
    "Counter(pred_lgbm_1)"
   ]
  },
  {
   "cell_type": "code",
   "execution_count": 60,
   "metadata": {},
   "outputs": [],
   "source": [
    "sample_1['essay_score']= pred_lgbm_1"
   ]
  },
  {
   "cell_type": "code",
   "execution_count": 55,
   "metadata": {},
   "outputs": [],
   "source": [
    "sample_1.to_csv('sample_7.csv', index= False)"
   ]
  },
  {
   "cell_type": "code",
   "execution_count": 58,
   "metadata": {},
   "outputs": [],
   "source": [
    "from sklearn.model_selection import GroupKFold, KFold"
   ]
  },
  {
   "cell_type": "code",
   "execution_count": 62,
   "metadata": {},
   "outputs": [],
   "source": [
    "def run_LGBM(X_train, X_test, y_train, y_test):\n",
    "    np.random.seed(2019)\n",
    "    \n",
    "    #X_train, X_test, y_train, y_test= train_test_split(train, target, test_size= 0.30, random_state= 2019)\n",
    "    #print(X_train.shape, X_test.shape, y_train.shape, y_test.shape)\n",
    "    dtrain= lgbm.Dataset(X_train, y_train)\n",
    "    dtest= lgbm.Dataset(X_test, y_test)\n",
    "    \n",
    "    param_lgbm= {}\n",
    "    param_lgbm['learning_rate']= 0.03\n",
    "    #param_lgbm['num_leaves']= 21\n",
    "    param_lgbm['objective']= 'multiclass'\n",
    "    param_lgbm['num_iterations']= 10000\n",
    "    param_lgbm['seed']= 2019\n",
    "    param_lgbm['num_class']= 4\n",
    "    #param_lgbm['metric']= 'auc'\n",
    "    #param_lgbm['is_unbalance']= True\n",
    "    \n",
    "    model= lgbm.train(param_lgbm, dtrain, valid_sets= (dtrain, dtest), valid_names= ('train', 'valid'), \n",
    "                      verbose_eval= 100, early_stopping_rounds= 50)\n",
    "    \n",
    "    prediction= model.predict(X_test)\n",
    "    \n",
    "    #prediction_= np.round(prediction).astype(int)\n",
    "    \n",
    "    #fpr, tpr, _ = roc_curve(y_test, prediction)\n",
    "    \n",
    "    #auc_= auc(fpr, tpr)\n",
    "    #prediction= np.argsort(prediction)\n",
    "    #prediction= prediction.flatten()\n",
    "    prediction= [np.argmax(line) for line in prediction]\n",
    "        \n",
    "    \n",
    "    print('Accuracy Score: {:.4f}' .format(accuracy_score(y_test, prediction)))\n",
    "    #print('ROC AUC Score: {:.4f}' .format(roc_auc_score(y_test, prediction_)))\n",
    "    print('f1 Score: {:.4f}' .format(f1_score(y_test, prediction, average= 'weighted')))\n",
    "    #print('The ROC CURVE (AUC): {:.4f}' .format(auc_))\n",
    "    \n",
    "    return model, prediction"
   ]
  },
  {
   "cell_type": "code",
   "execution_count": 63,
   "metadata": {},
   "outputs": [],
   "source": [
    "pred_train= np.zeros(len(target), dtype= int)"
   ]
  },
  {
   "cell_type": "code",
   "execution_count": 64,
   "metadata": {},
   "outputs": [],
   "source": [
    "pred_test= []"
   ]
  },
  {
   "cell_type": "code",
   "execution_count": 65,
   "metadata": {},
   "outputs": [],
   "source": [
    "fold= GroupKFold(n_splits= 5)"
   ]
  },
  {
   "cell_type": "code",
   "execution_count": 66,
   "metadata": {},
   "outputs": [],
   "source": [
    "target_= target.copy()\n",
    "target= target.values"
   ]
  },
  {
   "cell_type": "code",
   "execution_count": 67,
   "metadata": {},
   "outputs": [
    {
     "name": "stdout",
     "output_type": "stream",
     "text": [
      "Fold: 1\n",
      "Training until validation scores don't improve for 50 rounds.\n",
      "[100]\ttrain's multi_logloss: 0.485261\tvalid's multi_logloss: 0.713873\n",
      "[200]\ttrain's multi_logloss: 0.35946\tvalid's multi_logloss: 0.664861\n",
      "Early stopping, best iteration is:\n",
      "[249]\ttrain's multi_logloss: 0.325721\tvalid's multi_logloss: 0.661836\n",
      "Accuracy Score: 0.6510\n",
      "f1 Score: 0.6185\n",
      "Fold: 2\n",
      "Training until validation scores don't improve for 50 rounds.\n",
      "[100]\ttrain's multi_logloss: 0.494109\tvalid's multi_logloss: 0.710071\n",
      "[200]\ttrain's multi_logloss: 0.369293\tvalid's multi_logloss: 0.655519\n",
      "[300]\ttrain's multi_logloss: 0.305886\tvalid's multi_logloss: 0.648262\n",
      "Early stopping, best iteration is:\n",
      "[290]\ttrain's multi_logloss: 0.310992\tvalid's multi_logloss: 0.647911\n",
      "Accuracy Score: 0.6771\n",
      "f1 Score: 0.6878\n",
      "Fold: 3\n",
      "Training until validation scores don't improve for 50 rounds.\n",
      "[100]\ttrain's multi_logloss: 0.495775\tvalid's multi_logloss: 0.683247\n",
      "[200]\ttrain's multi_logloss: 0.36474\tvalid's multi_logloss: 0.635057\n",
      "[300]\ttrain's multi_logloss: 0.300156\tvalid's multi_logloss: 0.632557\n",
      "Early stopping, best iteration is:\n",
      "[257]\ttrain's multi_logloss: 0.324889\tvalid's multi_logloss: 0.631151\n",
      "Accuracy Score: 0.7129\n",
      "f1 Score: 0.7120\n",
      "Fold: 4\n",
      "Training until validation scores don't improve for 50 rounds.\n",
      "[100]\ttrain's multi_logloss: 0.480835\tvalid's multi_logloss: 0.734499\n",
      "[200]\ttrain's multi_logloss: 0.354511\tvalid's multi_logloss: 0.684901\n",
      "Early stopping, best iteration is:\n",
      "[243]\ttrain's multi_logloss: 0.324318\tvalid's multi_logloss: 0.681095\n",
      "Accuracy Score: 0.6329\n",
      "f1 Score: 0.6065\n",
      "Fold: 5\n",
      "Training until validation scores don't improve for 50 rounds.\n",
      "[100]\ttrain's multi_logloss: 0.543544\tvalid's multi_logloss: 0.56093\n",
      "[200]\ttrain's multi_logloss: 0.41188\tvalid's multi_logloss: 0.53771\n",
      "Early stopping, best iteration is:\n",
      "[177]\ttrain's multi_logloss: 0.432831\tvalid's multi_logloss: 0.535209\n",
      "Accuracy Score: 0.8221\n",
      "f1 Score: 0.8215\n",
      "Accuracy: 0.7010385756676558\n"
     ]
    }
   ],
   "source": [
    "for i, (train_idx, test_idx) in enumerate(fold.split(_train, target, train['Essayset'])):\n",
    "    print('Fold: {}' .format(i+1))\n",
    "    \n",
    "    X_train, X_test= _train[train_idx], _train[test_idx]\n",
    "    y_train, y_test= target[train_idx], target[test_idx]\n",
    "    \n",
    "    model, _pred_train= run_LGBM(X_train, X_test, y_train, y_test)\n",
    "    \n",
    "    _pred_test= model.predict(_test)\n",
    "    \n",
    "    pred_train[test_idx]= _pred_train\n",
    "    \n",
    "    _pred_test= [np.argmax(line) for line in _pred_test]\n",
    "    pred_test.append(_pred_test)\n",
    "    \n",
    "    del model, _pred_train, _pred_test\n",
    "    \n",
    "print('Accuracy: {}' .format(accuracy_score(target, pred_train)))"
   ]
  },
  {
   "cell_type": "code",
   "execution_count": 68,
   "metadata": {},
   "outputs": [],
   "source": [
    "pred_test_1= np.round(np.mean(pred_test, axis= 0)).astype(int)"
   ]
  },
  {
   "cell_type": "code",
   "execution_count": 69,
   "metadata": {},
   "outputs": [],
   "source": [
    "sample_1['essay_score']= pred_test_1"
   ]
  },
  {
   "cell_type": "code",
   "execution_count": 70,
   "metadata": {},
   "outputs": [],
   "source": [
    "sample_1.to_csv('sample_10.csv', index= False)"
   ]
  },
  {
   "cell_type": "code",
   "execution_count": 59,
   "metadata": {},
   "outputs": [],
   "source": [
    "import catboost as cb"
   ]
  },
  {
   "cell_type": "code",
   "execution_count": 60,
   "metadata": {},
   "outputs": [],
   "source": [
    "def run_CB(train, target, test):\n",
    "    \n",
    "    X_train, X_test, y_train, y_test= train_test_split(train, target, test_size= 0.25, random_state= 2019)\n",
    "    \n",
    "    model= cb.CatBoostClassifier(random_seed= 2019)\n",
    "    \n",
    "    model.fit(X_train, y_train)\n",
    "    \n",
    "    prediction= model.predict(X_test)\n",
    "    \n",
    "    print('Accuracy Score: {:.4f}' .format(accuracy_score(y_test, prediction)))\n",
    "    #print('ROC AUC Score: {:.4f}' .format(roc_auc_score(y_test, prediction_)))\n",
    "    print('f1 Score: {:.4f}' .format(f1_score(y_test, prediction, average= 'weighted')))\n",
    "    #print('The ROC CURVE (AUC): {:.4f}' .format(auc_))\n",
    "    \n",
    "    return model.predict(test)"
   ]
  },
  {
   "cell_type": "code",
   "execution_count": 70,
   "metadata": {},
   "outputs": [
    {
     "name": "stdout",
     "output_type": "stream",
     "text": [
      "Learning rate set to 0.033953\n",
      "0:\tlearn: 0.6530225\ttotal: 232ms\tremaining: 3m 51s\n",
      "1:\tlearn: 0.6183651\ttotal: 320ms\tremaining: 2m 39s\n",
      "2:\tlearn: 0.5870094\ttotal: 418ms\tremaining: 2m 19s\n",
      "3:\tlearn: 0.5591670\ttotal: 522ms\tremaining: 2m 10s\n",
      "4:\tlearn: 0.5366018\ttotal: 611ms\tremaining: 2m 1s\n",
      "5:\tlearn: 0.5165120\ttotal: 705ms\tremaining: 1m 56s\n",
      "6:\tlearn: 0.4988224\ttotal: 809ms\tremaining: 1m 54s\n",
      "7:\tlearn: 0.4843510\ttotal: 903ms\tremaining: 1m 52s\n",
      "8:\tlearn: 0.4711888\ttotal: 1.01s\tremaining: 1m 51s\n",
      "9:\tlearn: 0.4596784\ttotal: 1.11s\tremaining: 1m 50s\n",
      "10:\tlearn: 0.4489654\ttotal: 1.2s\tremaining: 1m 47s\n",
      "11:\tlearn: 0.4402669\ttotal: 1.3s\tremaining: 1m 47s\n",
      "12:\tlearn: 0.4330831\ttotal: 1.4s\tremaining: 1m 46s\n",
      "13:\tlearn: 0.4254461\ttotal: 1.49s\tremaining: 1m 44s\n",
      "14:\tlearn: 0.4177810\ttotal: 1.59s\tremaining: 1m 44s\n",
      "15:\tlearn: 0.4106093\ttotal: 1.69s\tremaining: 1m 43s\n",
      "16:\tlearn: 0.4053379\ttotal: 1.78s\tremaining: 1m 42s\n",
      "17:\tlearn: 0.4015597\ttotal: 1.9s\tremaining: 1m 43s\n",
      "18:\tlearn: 0.3970774\ttotal: 2s\tremaining: 1m 43s\n",
      "19:\tlearn: 0.3929432\ttotal: 2.11s\tremaining: 1m 43s\n",
      "20:\tlearn: 0.3893588\ttotal: 2.22s\tremaining: 1m 43s\n",
      "21:\tlearn: 0.3839703\ttotal: 2.32s\tremaining: 1m 43s\n",
      "22:\tlearn: 0.3807082\ttotal: 2.42s\tremaining: 1m 42s\n",
      "23:\tlearn: 0.3763245\ttotal: 2.53s\tremaining: 1m 42s\n",
      "24:\tlearn: 0.3735673\ttotal: 2.62s\tremaining: 1m 42s\n",
      "25:\tlearn: 0.3723670\ttotal: 2.74s\tremaining: 1m 42s\n",
      "26:\tlearn: 0.3704026\ttotal: 2.88s\tremaining: 1m 43s\n",
      "27:\tlearn: 0.3678553\ttotal: 2.99s\tremaining: 1m 43s\n",
      "28:\tlearn: 0.3639157\ttotal: 3.09s\tremaining: 1m 43s\n",
      "29:\tlearn: 0.3620578\ttotal: 3.22s\tremaining: 1m 44s\n",
      "30:\tlearn: 0.3599844\ttotal: 3.33s\tremaining: 1m 44s\n",
      "31:\tlearn: 0.3582238\ttotal: 3.45s\tremaining: 1m 44s\n",
      "32:\tlearn: 0.3567152\ttotal: 3.56s\tremaining: 1m 44s\n",
      "33:\tlearn: 0.3555730\ttotal: 3.67s\tremaining: 1m 44s\n",
      "34:\tlearn: 0.3544128\ttotal: 3.81s\tremaining: 1m 45s\n",
      "35:\tlearn: 0.3532156\ttotal: 4.01s\tremaining: 1m 47s\n",
      "36:\tlearn: 0.3518675\ttotal: 4.15s\tremaining: 1m 48s\n",
      "37:\tlearn: 0.3509245\ttotal: 4.29s\tremaining: 1m 48s\n",
      "38:\tlearn: 0.3484496\ttotal: 4.43s\tremaining: 1m 49s\n",
      "39:\tlearn: 0.3474293\ttotal: 4.57s\tremaining: 1m 49s\n",
      "40:\tlearn: 0.3462824\ttotal: 4.67s\tremaining: 1m 49s\n",
      "41:\tlearn: 0.3443212\ttotal: 4.77s\tremaining: 1m 48s\n",
      "42:\tlearn: 0.3432573\ttotal: 4.88s\tremaining: 1m 48s\n",
      "43:\tlearn: 0.3427136\ttotal: 4.99s\tremaining: 1m 48s\n",
      "44:\tlearn: 0.3419604\ttotal: 5.1s\tremaining: 1m 48s\n",
      "45:\tlearn: 0.3411939\ttotal: 5.24s\tremaining: 1m 48s\n",
      "46:\tlearn: 0.3397558\ttotal: 5.35s\tremaining: 1m 48s\n",
      "47:\tlearn: 0.3383329\ttotal: 5.47s\tremaining: 1m 48s\n",
      "48:\tlearn: 0.3376950\ttotal: 5.57s\tremaining: 1m 48s\n",
      "49:\tlearn: 0.3369181\ttotal: 5.67s\tremaining: 1m 47s\n",
      "50:\tlearn: 0.3365153\ttotal: 5.87s\tremaining: 1m 49s\n",
      "51:\tlearn: 0.3359958\ttotal: 6s\tremaining: 1m 49s\n",
      "52:\tlearn: 0.3356105\ttotal: 6.11s\tremaining: 1m 49s\n",
      "53:\tlearn: 0.3352352\ttotal: 6.27s\tremaining: 1m 49s\n",
      "54:\tlearn: 0.3346063\ttotal: 6.39s\tremaining: 1m 49s\n",
      "55:\tlearn: 0.3343496\ttotal: 6.51s\tremaining: 1m 49s\n",
      "56:\tlearn: 0.3336774\ttotal: 6.63s\tremaining: 1m 49s\n",
      "57:\tlearn: 0.3333924\ttotal: 6.75s\tremaining: 1m 49s\n",
      "58:\tlearn: 0.3328013\ttotal: 6.88s\tremaining: 1m 49s\n",
      "59:\tlearn: 0.3325779\ttotal: 7.01s\tremaining: 1m 49s\n",
      "60:\tlearn: 0.3322193\ttotal: 7.16s\tremaining: 1m 50s\n",
      "61:\tlearn: 0.3319846\ttotal: 7.29s\tremaining: 1m 50s\n",
      "62:\tlearn: 0.3317033\ttotal: 7.4s\tremaining: 1m 50s\n",
      "63:\tlearn: 0.3313049\ttotal: 7.53s\tremaining: 1m 50s\n",
      "64:\tlearn: 0.3310019\ttotal: 7.64s\tremaining: 1m 49s\n",
      "65:\tlearn: 0.3299397\ttotal: 7.76s\tremaining: 1m 49s\n",
      "66:\tlearn: 0.3296131\ttotal: 7.87s\tremaining: 1m 49s\n",
      "67:\tlearn: 0.3291066\ttotal: 7.99s\tremaining: 1m 49s\n",
      "68:\tlearn: 0.3279566\ttotal: 8.1s\tremaining: 1m 49s\n",
      "69:\tlearn: 0.3275367\ttotal: 8.23s\tremaining: 1m 49s\n",
      "70:\tlearn: 0.3271211\ttotal: 8.34s\tremaining: 1m 49s\n",
      "71:\tlearn: 0.3269115\ttotal: 8.45s\tremaining: 1m 48s\n",
      "72:\tlearn: 0.3266961\ttotal: 8.58s\tremaining: 1m 48s\n",
      "73:\tlearn: 0.3264700\ttotal: 8.7s\tremaining: 1m 48s\n",
      "74:\tlearn: 0.3262518\ttotal: 8.85s\tremaining: 1m 49s\n",
      "75:\tlearn: 0.3261031\ttotal: 9.03s\tremaining: 1m 49s\n",
      "76:\tlearn: 0.3258190\ttotal: 9.18s\tremaining: 1m 49s\n",
      "77:\tlearn: 0.3255997\ttotal: 9.31s\tremaining: 1m 50s\n",
      "78:\tlearn: 0.3253250\ttotal: 9.43s\tremaining: 1m 49s\n",
      "79:\tlearn: 0.3250742\ttotal: 9.55s\tremaining: 1m 49s\n",
      "80:\tlearn: 0.3242019\ttotal: 9.66s\tremaining: 1m 49s\n",
      "81:\tlearn: 0.3239261\ttotal: 9.78s\tremaining: 1m 49s\n",
      "82:\tlearn: 0.3231823\ttotal: 9.89s\tremaining: 1m 49s\n",
      "83:\tlearn: 0.3229275\ttotal: 10s\tremaining: 1m 49s\n",
      "84:\tlearn: 0.3227292\ttotal: 10.1s\tremaining: 1m 49s\n",
      "85:\tlearn: 0.3220548\ttotal: 10.3s\tremaining: 1m 49s\n",
      "86:\tlearn: 0.3215033\ttotal: 10.4s\tremaining: 1m 48s\n",
      "87:\tlearn: 0.3211709\ttotal: 10.5s\tremaining: 1m 48s\n",
      "88:\tlearn: 0.3209700\ttotal: 10.6s\tremaining: 1m 48s\n",
      "89:\tlearn: 0.3207334\ttotal: 10.8s\tremaining: 1m 48s\n",
      "90:\tlearn: 0.3205199\ttotal: 10.9s\tremaining: 1m 48s\n",
      "91:\tlearn: 0.3203039\ttotal: 11s\tremaining: 1m 48s\n",
      "92:\tlearn: 0.3201240\ttotal: 11.1s\tremaining: 1m 48s\n",
      "93:\tlearn: 0.3198485\ttotal: 11.2s\tremaining: 1m 48s\n",
      "94:\tlearn: 0.3195704\ttotal: 11.3s\tremaining: 1m 47s\n",
      "95:\tlearn: 0.3194115\ttotal: 11.4s\tremaining: 1m 47s\n",
      "96:\tlearn: 0.3188593\ttotal: 11.5s\tremaining: 1m 47s\n",
      "97:\tlearn: 0.3186233\ttotal: 11.7s\tremaining: 1m 47s\n",
      "98:\tlearn: 0.3183503\ttotal: 11.8s\tremaining: 1m 47s\n",
      "99:\tlearn: 0.3182207\ttotal: 11.9s\tremaining: 1m 46s\n",
      "100:\tlearn: 0.3179691\ttotal: 12s\tremaining: 1m 46s\n",
      "101:\tlearn: 0.3177402\ttotal: 12.1s\tremaining: 1m 46s\n",
      "102:\tlearn: 0.3175601\ttotal: 12.2s\tremaining: 1m 46s\n",
      "103:\tlearn: 0.3173851\ttotal: 12.3s\tremaining: 1m 46s\n",
      "104:\tlearn: 0.3172369\ttotal: 12.4s\tremaining: 1m 46s\n",
      "105:\tlearn: 0.3170240\ttotal: 12.6s\tremaining: 1m 45s\n",
      "106:\tlearn: 0.3169028\ttotal: 12.7s\tremaining: 1m 45s\n",
      "107:\tlearn: 0.3166761\ttotal: 12.8s\tremaining: 1m 45s\n",
      "108:\tlearn: 0.3165013\ttotal: 12.9s\tremaining: 1m 45s\n",
      "109:\tlearn: 0.3163433\ttotal: 13s\tremaining: 1m 45s\n",
      "110:\tlearn: 0.3162198\ttotal: 13.1s\tremaining: 1m 45s\n",
      "111:\tlearn: 0.3160693\ttotal: 13.2s\tremaining: 1m 44s\n",
      "112:\tlearn: 0.3159109\ttotal: 13.4s\tremaining: 1m 44s\n",
      "113:\tlearn: 0.3157219\ttotal: 13.5s\tremaining: 1m 44s\n",
      "114:\tlearn: 0.3155277\ttotal: 13.6s\tremaining: 1m 44s\n",
      "115:\tlearn: 0.3154159\ttotal: 13.7s\tremaining: 1m 44s\n",
      "116:\tlearn: 0.3153078\ttotal: 13.8s\tremaining: 1m 44s\n",
      "117:\tlearn: 0.3151551\ttotal: 13.9s\tremaining: 1m 43s\n",
      "118:\tlearn: 0.3149399\ttotal: 14s\tremaining: 1m 43s\n",
      "119:\tlearn: 0.3146819\ttotal: 14.1s\tremaining: 1m 43s\n",
      "120:\tlearn: 0.3144818\ttotal: 14.2s\tremaining: 1m 43s\n",
      "121:\tlearn: 0.3143456\ttotal: 14.4s\tremaining: 1m 43s\n",
      "122:\tlearn: 0.3142309\ttotal: 14.5s\tremaining: 1m 43s\n",
      "123:\tlearn: 0.3140529\ttotal: 14.7s\tremaining: 1m 43s\n",
      "124:\tlearn: 0.3136170\ttotal: 14.9s\tremaining: 1m 44s\n",
      "125:\tlearn: 0.3134451\ttotal: 15.1s\tremaining: 1m 44s\n",
      "126:\tlearn: 0.3132645\ttotal: 15.2s\tremaining: 1m 44s\n",
      "127:\tlearn: 0.3131475\ttotal: 15.5s\tremaining: 1m 45s\n",
      "128:\tlearn: 0.3129727\ttotal: 15.6s\tremaining: 1m 45s\n",
      "129:\tlearn: 0.3128287\ttotal: 15.8s\tremaining: 1m 45s\n",
      "130:\tlearn: 0.3126942\ttotal: 16s\tremaining: 1m 45s\n",
      "131:\tlearn: 0.3125458\ttotal: 16.1s\tremaining: 1m 45s\n",
      "132:\tlearn: 0.3123121\ttotal: 16.3s\tremaining: 1m 45s\n",
      "133:\tlearn: 0.3121891\ttotal: 16.4s\tremaining: 1m 45s\n",
      "134:\tlearn: 0.3118796\ttotal: 16.6s\tremaining: 1m 46s\n",
      "135:\tlearn: 0.3117602\ttotal: 16.7s\tremaining: 1m 46s\n",
      "136:\tlearn: 0.3116334\ttotal: 16.8s\tremaining: 1m 46s\n",
      "137:\tlearn: 0.3114567\ttotal: 17s\tremaining: 1m 45s\n",
      "138:\tlearn: 0.3112173\ttotal: 17.1s\tremaining: 1m 45s\n",
      "139:\tlearn: 0.3111342\ttotal: 17.2s\tremaining: 1m 45s\n",
      "140:\tlearn: 0.3109071\ttotal: 17.3s\tremaining: 1m 45s\n",
      "141:\tlearn: 0.3107755\ttotal: 17.4s\tremaining: 1m 45s\n",
      "142:\tlearn: 0.3106620\ttotal: 17.5s\tremaining: 1m 45s\n",
      "143:\tlearn: 0.3104572\ttotal: 17.7s\tremaining: 1m 45s\n",
      "144:\tlearn: 0.3102895\ttotal: 17.8s\tremaining: 1m 44s\n",
      "145:\tlearn: 0.3101192\ttotal: 17.9s\tremaining: 1m 44s\n",
      "146:\tlearn: 0.3099312\ttotal: 18s\tremaining: 1m 44s\n",
      "147:\tlearn: 0.3098160\ttotal: 18.1s\tremaining: 1m 44s\n",
      "148:\tlearn: 0.3096042\ttotal: 18.2s\tremaining: 1m 44s\n",
      "149:\tlearn: 0.3094220\ttotal: 18.3s\tremaining: 1m 43s\n",
      "150:\tlearn: 0.3093123\ttotal: 18.4s\tremaining: 1m 43s\n",
      "151:\tlearn: 0.3091102\ttotal: 18.5s\tremaining: 1m 43s\n",
      "152:\tlearn: 0.3088885\ttotal: 18.7s\tremaining: 1m 43s\n",
      "153:\tlearn: 0.3088029\ttotal: 18.8s\tremaining: 1m 43s\n",
      "154:\tlearn: 0.3087090\ttotal: 18.9s\tremaining: 1m 43s\n",
      "155:\tlearn: 0.3084788\ttotal: 19s\tremaining: 1m 42s\n",
      "156:\tlearn: 0.3080409\ttotal: 19.2s\tremaining: 1m 42s\n",
      "157:\tlearn: 0.3078981\ttotal: 19.3s\tremaining: 1m 42s\n",
      "158:\tlearn: 0.3076888\ttotal: 19.4s\tremaining: 1m 42s\n",
      "159:\tlearn: 0.3074707\ttotal: 19.5s\tremaining: 1m 42s\n",
      "160:\tlearn: 0.3073217\ttotal: 19.6s\tremaining: 1m 42s\n",
      "161:\tlearn: 0.3071948\ttotal: 19.8s\tremaining: 1m 42s\n",
      "162:\tlearn: 0.3068375\ttotal: 19.9s\tremaining: 1m 42s\n",
      "163:\tlearn: 0.3066614\ttotal: 20s\tremaining: 1m 42s\n",
      "164:\tlearn: 0.3065523\ttotal: 20.1s\tremaining: 1m 41s\n",
      "165:\tlearn: 0.3064307\ttotal: 20.2s\tremaining: 1m 41s\n",
      "166:\tlearn: 0.3062847\ttotal: 20.4s\tremaining: 1m 41s\n",
      "167:\tlearn: 0.3061268\ttotal: 20.5s\tremaining: 1m 41s\n",
      "168:\tlearn: 0.3059248\ttotal: 20.6s\tremaining: 1m 41s\n",
      "169:\tlearn: 0.3056069\ttotal: 20.7s\tremaining: 1m 41s\n",
      "170:\tlearn: 0.3054434\ttotal: 20.8s\tremaining: 1m 41s\n",
      "171:\tlearn: 0.3053713\ttotal: 21s\tremaining: 1m 40s\n",
      "172:\tlearn: 0.3052291\ttotal: 21.1s\tremaining: 1m 40s\n",
      "173:\tlearn: 0.3050801\ttotal: 21.2s\tremaining: 1m 40s\n",
      "174:\tlearn: 0.3049131\ttotal: 21.3s\tremaining: 1m 40s\n",
      "175:\tlearn: 0.3047054\ttotal: 21.4s\tremaining: 1m 40s\n",
      "176:\tlearn: 0.3045574\ttotal: 21.5s\tremaining: 1m 40s\n",
      "177:\tlearn: 0.3044513\ttotal: 21.6s\tremaining: 1m 39s\n",
      "178:\tlearn: 0.3042748\ttotal: 21.8s\tremaining: 1m 39s\n",
      "179:\tlearn: 0.3041233\ttotal: 21.9s\tremaining: 1m 39s\n",
      "180:\tlearn: 0.3039853\ttotal: 22s\tremaining: 1m 39s\n",
      "181:\tlearn: 0.3038550\ttotal: 22.1s\tremaining: 1m 39s\n",
      "182:\tlearn: 0.3037723\ttotal: 22.2s\tremaining: 1m 39s\n",
      "183:\tlearn: 0.3035423\ttotal: 22.4s\tremaining: 1m 39s\n",
      "184:\tlearn: 0.3034614\ttotal: 22.5s\tremaining: 1m 38s\n",
      "185:\tlearn: 0.3033152\ttotal: 22.6s\tremaining: 1m 38s\n",
      "186:\tlearn: 0.3032459\ttotal: 22.7s\tremaining: 1m 38s\n",
      "187:\tlearn: 0.3030962\ttotal: 22.8s\tremaining: 1m 38s\n",
      "188:\tlearn: 0.3029944\ttotal: 22.9s\tremaining: 1m 38s\n",
      "189:\tlearn: 0.3028462\ttotal: 23s\tremaining: 1m 38s\n",
      "190:\tlearn: 0.3027366\ttotal: 23.2s\tremaining: 1m 38s\n",
      "191:\tlearn: 0.3026114\ttotal: 23.3s\tremaining: 1m 37s\n",
      "192:\tlearn: 0.3023980\ttotal: 23.4s\tremaining: 1m 37s\n",
      "193:\tlearn: 0.3022668\ttotal: 23.6s\tremaining: 1m 37s\n",
      "194:\tlearn: 0.3021716\ttotal: 23.7s\tremaining: 1m 37s\n",
      "195:\tlearn: 0.3020658\ttotal: 23.8s\tremaining: 1m 37s\n",
      "196:\tlearn: 0.3017694\ttotal: 23.9s\tremaining: 1m 37s\n",
      "197:\tlearn: 0.3016550\ttotal: 24s\tremaining: 1m 37s\n",
      "198:\tlearn: 0.3015171\ttotal: 24.1s\tremaining: 1m 37s\n",
      "199:\tlearn: 0.3013528\ttotal: 24.3s\tremaining: 1m 37s\n",
      "200:\tlearn: 0.3012215\ttotal: 24.4s\tremaining: 1m 36s\n",
      "201:\tlearn: 0.3011110\ttotal: 24.5s\tremaining: 1m 36s\n",
      "202:\tlearn: 0.3010112\ttotal: 24.6s\tremaining: 1m 36s\n",
      "203:\tlearn: 0.3008758\ttotal: 24.7s\tremaining: 1m 36s\n",
      "204:\tlearn: 0.3007801\ttotal: 24.8s\tremaining: 1m 36s\n",
      "205:\tlearn: 0.3006376\ttotal: 25s\tremaining: 1m 36s\n",
      "206:\tlearn: 0.3003521\ttotal: 25.1s\tremaining: 1m 36s\n",
      "207:\tlearn: 0.3001945\ttotal: 25.2s\tremaining: 1m 35s\n",
      "208:\tlearn: 0.3000003\ttotal: 25.3s\tremaining: 1m 35s\n",
      "209:\tlearn: 0.2999398\ttotal: 25.4s\tremaining: 1m 35s\n",
      "210:\tlearn: 0.2997940\ttotal: 25.5s\tremaining: 1m 35s\n",
      "211:\tlearn: 0.2996368\ttotal: 25.7s\tremaining: 1m 35s\n",
      "212:\tlearn: 0.2995468\ttotal: 25.8s\tremaining: 1m 35s\n",
      "213:\tlearn: 0.2994127\ttotal: 25.9s\tremaining: 1m 35s\n",
      "214:\tlearn: 0.2992122\ttotal: 26s\tremaining: 1m 34s\n",
      "215:\tlearn: 0.2990676\ttotal: 26.1s\tremaining: 1m 34s\n",
      "216:\tlearn: 0.2989891\ttotal: 26.2s\tremaining: 1m 34s\n",
      "217:\tlearn: 0.2989217\ttotal: 26.3s\tremaining: 1m 34s\n",
      "218:\tlearn: 0.2988198\ttotal: 26.4s\tremaining: 1m 34s\n",
      "219:\tlearn: 0.2986288\ttotal: 26.6s\tremaining: 1m 34s\n",
      "220:\tlearn: 0.2983996\ttotal: 26.7s\tremaining: 1m 34s\n",
      "221:\tlearn: 0.2982362\ttotal: 26.8s\tremaining: 1m 34s\n",
      "222:\tlearn: 0.2980600\ttotal: 27s\tremaining: 1m 33s\n",
      "223:\tlearn: 0.2977935\ttotal: 27.1s\tremaining: 1m 33s\n",
      "224:\tlearn: 0.2976801\ttotal: 27.2s\tremaining: 1m 33s\n",
      "225:\tlearn: 0.2975601\ttotal: 27.3s\tremaining: 1m 33s\n",
      "226:\tlearn: 0.2974415\ttotal: 27.5s\tremaining: 1m 33s\n",
      "227:\tlearn: 0.2973230\ttotal: 27.6s\tremaining: 1m 33s\n",
      "228:\tlearn: 0.2972150\ttotal: 27.8s\tremaining: 1m 33s\n",
      "229:\tlearn: 0.2970385\ttotal: 27.9s\tremaining: 1m 33s\n",
      "230:\tlearn: 0.2968666\ttotal: 28s\tremaining: 1m 33s\n",
      "231:\tlearn: 0.2967495\ttotal: 28.2s\tremaining: 1m 33s\n",
      "232:\tlearn: 0.2965026\ttotal: 28.3s\tremaining: 1m 33s\n",
      "233:\tlearn: 0.2963643\ttotal: 28.4s\tremaining: 1m 33s\n",
      "234:\tlearn: 0.2962201\ttotal: 28.5s\tremaining: 1m 32s\n",
      "235:\tlearn: 0.2960771\ttotal: 28.7s\tremaining: 1m 32s\n",
      "236:\tlearn: 0.2960006\ttotal: 28.8s\tremaining: 1m 32s\n",
      "237:\tlearn: 0.2959071\ttotal: 28.9s\tremaining: 1m 32s\n",
      "238:\tlearn: 0.2957956\ttotal: 29s\tremaining: 1m 32s\n",
      "239:\tlearn: 0.2957243\ttotal: 29.1s\tremaining: 1m 32s\n",
      "240:\tlearn: 0.2955901\ttotal: 29.2s\tremaining: 1m 31s\n",
      "241:\tlearn: 0.2954546\ttotal: 29.3s\tremaining: 1m 31s\n",
      "242:\tlearn: 0.2954064\ttotal: 29.4s\tremaining: 1m 31s\n",
      "243:\tlearn: 0.2951293\ttotal: 29.6s\tremaining: 1m 31s\n",
      "244:\tlearn: 0.2950532\ttotal: 29.7s\tremaining: 1m 31s\n",
      "245:\tlearn: 0.2948669\ttotal: 29.8s\tremaining: 1m 31s\n",
      "246:\tlearn: 0.2947448\ttotal: 30s\tremaining: 1m 31s\n",
      "247:\tlearn: 0.2946151\ttotal: 30.1s\tremaining: 1m 31s\n",
      "248:\tlearn: 0.2945071\ttotal: 30.2s\tremaining: 1m 31s\n",
      "249:\tlearn: 0.2943484\ttotal: 30.3s\tremaining: 1m 30s\n",
      "250:\tlearn: 0.2942834\ttotal: 30.4s\tremaining: 1m 30s\n",
      "251:\tlearn: 0.2941531\ttotal: 30.5s\tremaining: 1m 30s\n",
      "252:\tlearn: 0.2940756\ttotal: 30.7s\tremaining: 1m 30s\n",
      "253:\tlearn: 0.2938964\ttotal: 30.9s\tremaining: 1m 30s\n",
      "254:\tlearn: 0.2938222\ttotal: 31s\tremaining: 1m 30s\n",
      "255:\tlearn: 0.2935850\ttotal: 31.1s\tremaining: 1m 30s\n",
      "256:\tlearn: 0.2934448\ttotal: 31.3s\tremaining: 1m 30s\n",
      "257:\tlearn: 0.2932257\ttotal: 31.4s\tremaining: 1m 30s\n",
      "258:\tlearn: 0.2930816\ttotal: 31.5s\tremaining: 1m 30s\n",
      "259:\tlearn: 0.2929148\ttotal: 31.6s\tremaining: 1m 29s\n",
      "260:\tlearn: 0.2927938\ttotal: 31.7s\tremaining: 1m 29s\n",
      "261:\tlearn: 0.2926783\ttotal: 31.9s\tremaining: 1m 29s\n",
      "262:\tlearn: 0.2926012\ttotal: 32.1s\tremaining: 1m 29s\n",
      "263:\tlearn: 0.2924648\ttotal: 32.2s\tremaining: 1m 29s\n",
      "264:\tlearn: 0.2922748\ttotal: 32.4s\tremaining: 1m 29s\n",
      "265:\tlearn: 0.2921038\ttotal: 32.5s\tremaining: 1m 29s\n",
      "266:\tlearn: 0.2919624\ttotal: 32.6s\tremaining: 1m 29s\n",
      "267:\tlearn: 0.2918126\ttotal: 32.7s\tremaining: 1m 29s\n",
      "268:\tlearn: 0.2917342\ttotal: 32.8s\tremaining: 1m 29s\n",
      "269:\tlearn: 0.2915355\ttotal: 33s\tremaining: 1m 29s\n",
      "270:\tlearn: 0.2913628\ttotal: 33.1s\tremaining: 1m 28s\n",
      "271:\tlearn: 0.2911872\ttotal: 33.2s\tremaining: 1m 28s\n",
      "272:\tlearn: 0.2910747\ttotal: 33.3s\tremaining: 1m 28s\n",
      "273:\tlearn: 0.2909375\ttotal: 33.4s\tremaining: 1m 28s\n",
      "274:\tlearn: 0.2908866\ttotal: 33.5s\tremaining: 1m 28s\n",
      "275:\tlearn: 0.2908141\ttotal: 33.6s\tremaining: 1m 28s\n",
      "276:\tlearn: 0.2906479\ttotal: 33.8s\tremaining: 1m 28s\n",
      "277:\tlearn: 0.2904570\ttotal: 33.9s\tremaining: 1m 27s\n",
      "278:\tlearn: 0.2903419\ttotal: 34s\tremaining: 1m 27s\n",
      "279:\tlearn: 0.2901560\ttotal: 34.1s\tremaining: 1m 27s\n",
      "280:\tlearn: 0.2900059\ttotal: 34.3s\tremaining: 1m 27s\n",
      "281:\tlearn: 0.2897832\ttotal: 34.4s\tremaining: 1m 27s\n",
      "282:\tlearn: 0.2896179\ttotal: 34.5s\tremaining: 1m 27s\n",
      "283:\tlearn: 0.2895012\ttotal: 34.6s\tremaining: 1m 27s\n",
      "284:\tlearn: 0.2893582\ttotal: 34.7s\tremaining: 1m 27s\n",
      "285:\tlearn: 0.2892274\ttotal: 34.8s\tremaining: 1m 26s\n",
      "286:\tlearn: 0.2890932\ttotal: 35s\tremaining: 1m 26s\n",
      "287:\tlearn: 0.2889373\ttotal: 35.1s\tremaining: 1m 26s\n",
      "288:\tlearn: 0.2888092\ttotal: 35.3s\tremaining: 1m 26s\n",
      "289:\tlearn: 0.2886886\ttotal: 35.4s\tremaining: 1m 26s\n",
      "290:\tlearn: 0.2885836\ttotal: 35.5s\tremaining: 1m 26s\n",
      "291:\tlearn: 0.2884825\ttotal: 35.6s\tremaining: 1m 26s\n",
      "292:\tlearn: 0.2883308\ttotal: 35.8s\tremaining: 1m 26s\n",
      "293:\tlearn: 0.2881441\ttotal: 35.9s\tremaining: 1m 26s\n",
      "294:\tlearn: 0.2880074\ttotal: 36s\tremaining: 1m 26s\n",
      "295:\tlearn: 0.2877692\ttotal: 36.2s\tremaining: 1m 26s\n",
      "296:\tlearn: 0.2874400\ttotal: 36.3s\tremaining: 1m 26s\n",
      "297:\tlearn: 0.2872186\ttotal: 36.5s\tremaining: 1m 25s\n",
      "298:\tlearn: 0.2870893\ttotal: 36.6s\tremaining: 1m 25s\n",
      "299:\tlearn: 0.2869709\ttotal: 36.7s\tremaining: 1m 25s\n",
      "300:\tlearn: 0.2868265\ttotal: 36.9s\tremaining: 1m 25s\n",
      "301:\tlearn: 0.2866340\ttotal: 37s\tremaining: 1m 25s\n",
      "302:\tlearn: 0.2864719\ttotal: 37.1s\tremaining: 1m 25s\n",
      "303:\tlearn: 0.2863528\ttotal: 37.2s\tremaining: 1m 25s\n",
      "304:\tlearn: 0.2861167\ttotal: 37.4s\tremaining: 1m 25s\n",
      "305:\tlearn: 0.2860422\ttotal: 37.5s\tremaining: 1m 25s\n",
      "306:\tlearn: 0.2858670\ttotal: 37.6s\tremaining: 1m 24s\n",
      "307:\tlearn: 0.2856321\ttotal: 37.8s\tremaining: 1m 24s\n",
      "308:\tlearn: 0.2855109\ttotal: 37.9s\tremaining: 1m 24s\n",
      "309:\tlearn: 0.2854162\ttotal: 38.1s\tremaining: 1m 24s\n",
      "310:\tlearn: 0.2853054\ttotal: 38.2s\tremaining: 1m 24s\n",
      "311:\tlearn: 0.2851480\ttotal: 38.3s\tremaining: 1m 24s\n",
      "312:\tlearn: 0.2849913\ttotal: 38.5s\tremaining: 1m 24s\n",
      "313:\tlearn: 0.2848793\ttotal: 38.7s\tremaining: 1m 24s\n",
      "314:\tlearn: 0.2846846\ttotal: 38.8s\tremaining: 1m 24s\n",
      "315:\tlearn: 0.2845646\ttotal: 38.9s\tremaining: 1m 24s\n",
      "316:\tlearn: 0.2844121\ttotal: 39s\tremaining: 1m 24s\n",
      "317:\tlearn: 0.2842216\ttotal: 39.2s\tremaining: 1m 24s\n",
      "318:\tlearn: 0.2840497\ttotal: 39.4s\tremaining: 1m 24s\n",
      "319:\tlearn: 0.2839026\ttotal: 39.5s\tremaining: 1m 23s\n",
      "320:\tlearn: 0.2837574\ttotal: 39.6s\tremaining: 1m 23s\n",
      "321:\tlearn: 0.2836506\ttotal: 39.8s\tremaining: 1m 23s\n",
      "322:\tlearn: 0.2834852\ttotal: 39.9s\tremaining: 1m 23s\n",
      "323:\tlearn: 0.2833784\ttotal: 40.1s\tremaining: 1m 23s\n",
      "324:\tlearn: 0.2832215\ttotal: 40.2s\tremaining: 1m 23s\n",
      "325:\tlearn: 0.2831470\ttotal: 40.3s\tremaining: 1m 23s\n",
      "326:\tlearn: 0.2830191\ttotal: 40.4s\tremaining: 1m 23s\n",
      "327:\tlearn: 0.2828703\ttotal: 40.6s\tremaining: 1m 23s\n",
      "328:\tlearn: 0.2827076\ttotal: 40.7s\tremaining: 1m 23s\n",
      "329:\tlearn: 0.2825123\ttotal: 40.8s\tremaining: 1m 22s\n",
      "330:\tlearn: 0.2823532\ttotal: 41s\tremaining: 1m 22s\n",
      "331:\tlearn: 0.2822180\ttotal: 41.1s\tremaining: 1m 22s\n",
      "332:\tlearn: 0.2820667\ttotal: 41.2s\tremaining: 1m 22s\n",
      "333:\tlearn: 0.2818427\ttotal: 41.3s\tremaining: 1m 22s\n",
      "334:\tlearn: 0.2816903\ttotal: 41.4s\tremaining: 1m 22s\n",
      "335:\tlearn: 0.2815889\ttotal: 41.5s\tremaining: 1m 22s\n",
      "336:\tlearn: 0.2814479\ttotal: 41.6s\tremaining: 1m 21s\n",
      "337:\tlearn: 0.2813255\ttotal: 41.8s\tremaining: 1m 21s\n",
      "338:\tlearn: 0.2812414\ttotal: 41.9s\tremaining: 1m 21s\n",
      "339:\tlearn: 0.2810738\ttotal: 42s\tremaining: 1m 21s\n",
      "340:\tlearn: 0.2809303\ttotal: 42.1s\tremaining: 1m 21s\n",
      "341:\tlearn: 0.2807595\ttotal: 42.2s\tremaining: 1m 21s\n",
      "342:\tlearn: 0.2806233\ttotal: 42.3s\tremaining: 1m 21s\n",
      "343:\tlearn: 0.2805643\ttotal: 42.5s\tremaining: 1m 20s\n",
      "344:\tlearn: 0.2803962\ttotal: 42.6s\tremaining: 1m 20s\n",
      "345:\tlearn: 0.2802246\ttotal: 42.7s\tremaining: 1m 20s\n",
      "346:\tlearn: 0.2800609\ttotal: 42.8s\tremaining: 1m 20s\n",
      "347:\tlearn: 0.2799374\ttotal: 43s\tremaining: 1m 20s\n",
      "348:\tlearn: 0.2797943\ttotal: 43.1s\tremaining: 1m 20s\n",
      "349:\tlearn: 0.2795902\ttotal: 43.2s\tremaining: 1m 20s\n",
      "350:\tlearn: 0.2793892\ttotal: 43.4s\tremaining: 1m 20s\n",
      "351:\tlearn: 0.2792899\ttotal: 43.5s\tremaining: 1m 20s\n",
      "352:\tlearn: 0.2790267\ttotal: 43.7s\tremaining: 1m 20s\n",
      "353:\tlearn: 0.2788536\ttotal: 43.8s\tremaining: 1m 19s\n",
      "354:\tlearn: 0.2786794\ttotal: 43.9s\tremaining: 1m 19s\n",
      "355:\tlearn: 0.2785579\ttotal: 44s\tremaining: 1m 19s\n",
      "356:\tlearn: 0.2784215\ttotal: 44.1s\tremaining: 1m 19s\n",
      "357:\tlearn: 0.2782844\ttotal: 44.3s\tremaining: 1m 19s\n",
      "358:\tlearn: 0.2781512\ttotal: 44.4s\tremaining: 1m 19s\n",
      "359:\tlearn: 0.2779471\ttotal: 44.5s\tremaining: 1m 19s\n",
      "360:\tlearn: 0.2777620\ttotal: 44.6s\tremaining: 1m 18s\n",
      "361:\tlearn: 0.2776378\ttotal: 44.7s\tremaining: 1m 18s\n",
      "362:\tlearn: 0.2774276\ttotal: 44.8s\tremaining: 1m 18s\n",
      "363:\tlearn: 0.2772494\ttotal: 45s\tremaining: 1m 18s\n",
      "364:\tlearn: 0.2771195\ttotal: 45.1s\tremaining: 1m 18s\n",
      "365:\tlearn: 0.2770592\ttotal: 45.2s\tremaining: 1m 18s\n",
      "366:\tlearn: 0.2769625\ttotal: 45.3s\tremaining: 1m 18s\n",
      "367:\tlearn: 0.2767023\ttotal: 45.5s\tremaining: 1m 18s\n",
      "368:\tlearn: 0.2765609\ttotal: 45.6s\tremaining: 1m 17s\n",
      "369:\tlearn: 0.2764463\ttotal: 45.7s\tremaining: 1m 17s\n",
      "370:\tlearn: 0.2762190\ttotal: 45.8s\tremaining: 1m 17s\n",
      "371:\tlearn: 0.2760542\ttotal: 45.9s\tremaining: 1m 17s\n",
      "372:\tlearn: 0.2759131\ttotal: 46s\tremaining: 1m 17s\n",
      "373:\tlearn: 0.2757937\ttotal: 46.1s\tremaining: 1m 17s\n",
      "374:\tlearn: 0.2756716\ttotal: 46.3s\tremaining: 1m 17s\n",
      "375:\tlearn: 0.2755221\ttotal: 46.4s\tremaining: 1m 16s\n",
      "376:\tlearn: 0.2754391\ttotal: 46.5s\tremaining: 1m 16s\n",
      "377:\tlearn: 0.2752691\ttotal: 46.6s\tremaining: 1m 16s\n",
      "378:\tlearn: 0.2752394\ttotal: 46.7s\tremaining: 1m 16s\n",
      "379:\tlearn: 0.2750664\ttotal: 46.8s\tremaining: 1m 16s\n",
      "380:\tlearn: 0.2749452\ttotal: 47s\tremaining: 1m 16s\n",
      "381:\tlearn: 0.2747895\ttotal: 47.1s\tremaining: 1m 16s\n",
      "382:\tlearn: 0.2746966\ttotal: 47.2s\tremaining: 1m 16s\n",
      "383:\tlearn: 0.2746150\ttotal: 47.3s\tremaining: 1m 15s\n",
      "384:\tlearn: 0.2743736\ttotal: 47.4s\tremaining: 1m 15s\n",
      "385:\tlearn: 0.2742176\ttotal: 47.5s\tremaining: 1m 15s\n",
      "386:\tlearn: 0.2740975\ttotal: 47.6s\tremaining: 1m 15s\n",
      "387:\tlearn: 0.2740287\ttotal: 47.7s\tremaining: 1m 15s\n",
      "388:\tlearn: 0.2738476\ttotal: 47.8s\tremaining: 1m 15s\n",
      "389:\tlearn: 0.2737184\ttotal: 47.9s\tremaining: 1m 14s\n",
      "390:\tlearn: 0.2736026\ttotal: 48s\tremaining: 1m 14s\n",
      "391:\tlearn: 0.2734443\ttotal: 48.1s\tremaining: 1m 14s\n",
      "392:\tlearn: 0.2732911\ttotal: 48.2s\tremaining: 1m 14s\n",
      "393:\tlearn: 0.2731471\ttotal: 48.3s\tremaining: 1m 14s\n",
      "394:\tlearn: 0.2730011\ttotal: 48.4s\tremaining: 1m 14s\n",
      "395:\tlearn: 0.2728100\ttotal: 48.5s\tremaining: 1m 13s\n",
      "396:\tlearn: 0.2726319\ttotal: 48.6s\tremaining: 1m 13s\n",
      "397:\tlearn: 0.2725719\ttotal: 48.7s\tremaining: 1m 13s\n",
      "398:\tlearn: 0.2724550\ttotal: 48.8s\tremaining: 1m 13s\n",
      "399:\tlearn: 0.2723196\ttotal: 48.9s\tremaining: 1m 13s\n",
      "400:\tlearn: 0.2721736\ttotal: 49s\tremaining: 1m 13s\n",
      "401:\tlearn: 0.2720826\ttotal: 49.1s\tremaining: 1m 13s\n",
      "402:\tlearn: 0.2719294\ttotal: 49.2s\tremaining: 1m 12s\n",
      "403:\tlearn: 0.2717992\ttotal: 49.3s\tremaining: 1m 12s\n",
      "404:\tlearn: 0.2717392\ttotal: 49.4s\tremaining: 1m 12s\n",
      "405:\tlearn: 0.2716343\ttotal: 49.5s\tremaining: 1m 12s\n",
      "406:\tlearn: 0.2714194\ttotal: 49.6s\tremaining: 1m 12s\n",
      "407:\tlearn: 0.2712952\ttotal: 49.7s\tremaining: 1m 12s\n",
      "408:\tlearn: 0.2711751\ttotal: 49.8s\tremaining: 1m 11s\n",
      "409:\tlearn: 0.2710344\ttotal: 49.9s\tremaining: 1m 11s\n",
      "410:\tlearn: 0.2708372\ttotal: 50s\tremaining: 1m 11s\n",
      "411:\tlearn: 0.2708072\ttotal: 50.1s\tremaining: 1m 11s\n",
      "412:\tlearn: 0.2706737\ttotal: 50.2s\tremaining: 1m 11s\n",
      "413:\tlearn: 0.2706035\ttotal: 50.3s\tremaining: 1m 11s\n",
      "414:\tlearn: 0.2705125\ttotal: 50.4s\tremaining: 1m 11s\n",
      "415:\tlearn: 0.2703880\ttotal: 50.5s\tremaining: 1m 10s\n",
      "416:\tlearn: 0.2702088\ttotal: 50.6s\tremaining: 1m 10s\n",
      "417:\tlearn: 0.2701151\ttotal: 50.7s\tremaining: 1m 10s\n",
      "418:\tlearn: 0.2699628\ttotal: 50.8s\tremaining: 1m 10s\n",
      "419:\tlearn: 0.2697769\ttotal: 50.9s\tremaining: 1m 10s\n",
      "420:\tlearn: 0.2696756\ttotal: 51.1s\tremaining: 1m 10s\n",
      "421:\tlearn: 0.2696034\ttotal: 51.2s\tremaining: 1m 10s\n",
      "422:\tlearn: 0.2694368\ttotal: 51.3s\tremaining: 1m 10s\n",
      "423:\tlearn: 0.2693429\ttotal: 51.4s\tremaining: 1m 9s\n",
      "424:\tlearn: 0.2691642\ttotal: 51.6s\tremaining: 1m 9s\n",
      "425:\tlearn: 0.2689476\ttotal: 51.7s\tremaining: 1m 9s\n",
      "426:\tlearn: 0.2687639\ttotal: 51.8s\tremaining: 1m 9s\n",
      "427:\tlearn: 0.2686482\ttotal: 51.9s\tremaining: 1m 9s\n",
      "428:\tlearn: 0.2685253\ttotal: 52.1s\tremaining: 1m 9s\n",
      "429:\tlearn: 0.2683851\ttotal: 52.2s\tremaining: 1m 9s\n",
      "430:\tlearn: 0.2682932\ttotal: 52.3s\tremaining: 1m 9s\n",
      "431:\tlearn: 0.2681765\ttotal: 52.4s\tremaining: 1m 8s\n",
      "432:\tlearn: 0.2680807\ttotal: 52.5s\tremaining: 1m 8s\n",
      "433:\tlearn: 0.2679612\ttotal: 52.6s\tremaining: 1m 8s\n",
      "434:\tlearn: 0.2677805\ttotal: 52.7s\tremaining: 1m 8s\n",
      "435:\tlearn: 0.2675424\ttotal: 52.8s\tremaining: 1m 8s\n",
      "436:\tlearn: 0.2674009\ttotal: 53s\tremaining: 1m 8s\n",
      "437:\tlearn: 0.2672916\ttotal: 53.1s\tremaining: 1m 8s\n",
      "438:\tlearn: 0.2671214\ttotal: 53.2s\tremaining: 1m 7s\n",
      "439:\tlearn: 0.2669662\ttotal: 53.3s\tremaining: 1m 7s\n",
      "440:\tlearn: 0.2668275\ttotal: 53.4s\tremaining: 1m 7s\n",
      "441:\tlearn: 0.2666979\ttotal: 53.7s\tremaining: 1m 7s\n",
      "442:\tlearn: 0.2664703\ttotal: 54s\tremaining: 1m 7s\n",
      "443:\tlearn: 0.2662370\ttotal: 54.1s\tremaining: 1m 7s\n",
      "444:\tlearn: 0.2661627\ttotal: 54.3s\tremaining: 1m 7s\n",
      "445:\tlearn: 0.2659990\ttotal: 54.4s\tremaining: 1m 7s\n",
      "446:\tlearn: 0.2658281\ttotal: 54.6s\tremaining: 1m 7s\n",
      "447:\tlearn: 0.2656373\ttotal: 54.8s\tremaining: 1m 7s\n",
      "448:\tlearn: 0.2655094\ttotal: 54.9s\tremaining: 1m 7s\n",
      "449:\tlearn: 0.2653846\ttotal: 55.1s\tremaining: 1m 7s\n",
      "450:\tlearn: 0.2652841\ttotal: 55.4s\tremaining: 1m 7s\n",
      "451:\tlearn: 0.2651667\ttotal: 55.5s\tremaining: 1m 7s\n",
      "452:\tlearn: 0.2650455\ttotal: 55.7s\tremaining: 1m 7s\n",
      "453:\tlearn: 0.2648938\ttotal: 55.9s\tremaining: 1m 7s\n",
      "454:\tlearn: 0.2646987\ttotal: 56s\tremaining: 1m 7s\n",
      "455:\tlearn: 0.2645861\ttotal: 56.1s\tremaining: 1m 6s\n",
      "456:\tlearn: 0.2644607\ttotal: 56.3s\tremaining: 1m 6s\n",
      "457:\tlearn: 0.2643166\ttotal: 56.5s\tremaining: 1m 6s\n",
      "458:\tlearn: 0.2642144\ttotal: 56.6s\tremaining: 1m 6s\n",
      "459:\tlearn: 0.2640968\ttotal: 56.8s\tremaining: 1m 6s\n",
      "460:\tlearn: 0.2639774\ttotal: 57s\tremaining: 1m 6s\n",
      "461:\tlearn: 0.2638375\ttotal: 57.1s\tremaining: 1m 6s\n",
      "462:\tlearn: 0.2636694\ttotal: 57.3s\tremaining: 1m 6s\n",
      "463:\tlearn: 0.2634883\ttotal: 57.5s\tremaining: 1m 6s\n",
      "464:\tlearn: 0.2633905\ttotal: 57.6s\tremaining: 1m 6s\n",
      "465:\tlearn: 0.2632800\ttotal: 57.8s\tremaining: 1m 6s\n",
      "466:\tlearn: 0.2631276\ttotal: 58s\tremaining: 1m 6s\n",
      "467:\tlearn: 0.2630035\ttotal: 58.2s\tremaining: 1m 6s\n",
      "468:\tlearn: 0.2628422\ttotal: 58.4s\tremaining: 1m 6s\n",
      "469:\tlearn: 0.2627445\ttotal: 58.5s\tremaining: 1m 6s\n",
      "470:\tlearn: 0.2625446\ttotal: 58.7s\tremaining: 1m 5s\n",
      "471:\tlearn: 0.2625058\ttotal: 58.8s\tremaining: 1m 5s\n",
      "472:\tlearn: 0.2624343\ttotal: 59.1s\tremaining: 1m 5s\n",
      "473:\tlearn: 0.2622127\ttotal: 59.2s\tremaining: 1m 5s\n",
      "474:\tlearn: 0.2620546\ttotal: 59.4s\tremaining: 1m 5s\n",
      "475:\tlearn: 0.2618351\ttotal: 59.6s\tremaining: 1m 5s\n",
      "476:\tlearn: 0.2617466\ttotal: 59.7s\tremaining: 1m 5s\n",
      "477:\tlearn: 0.2616684\ttotal: 59.9s\tremaining: 1m 5s\n",
      "478:\tlearn: 0.2615197\ttotal: 1m\tremaining: 1m 5s\n",
      "479:\tlearn: 0.2613374\ttotal: 1m\tremaining: 1m 5s\n",
      "480:\tlearn: 0.2612644\ttotal: 1m\tremaining: 1m 5s\n",
      "481:\tlearn: 0.2612031\ttotal: 1m\tremaining: 1m 5s\n",
      "482:\tlearn: 0.2610908\ttotal: 1m\tremaining: 1m 5s\n",
      "483:\tlearn: 0.2609665\ttotal: 1m 1s\tremaining: 1m 5s\n",
      "484:\tlearn: 0.2608215\ttotal: 1m 1s\tremaining: 1m 5s\n",
      "485:\tlearn: 0.2606781\ttotal: 1m 1s\tremaining: 1m 4s\n",
      "486:\tlearn: 0.2605362\ttotal: 1m 1s\tremaining: 1m 4s\n",
      "487:\tlearn: 0.2603805\ttotal: 1m 1s\tremaining: 1m 4s\n",
      "488:\tlearn: 0.2601963\ttotal: 1m 1s\tremaining: 1m 4s\n",
      "489:\tlearn: 0.2600578\ttotal: 1m 1s\tremaining: 1m 4s\n",
      "490:\tlearn: 0.2599419\ttotal: 1m 2s\tremaining: 1m 4s\n",
      "491:\tlearn: 0.2597802\ttotal: 1m 2s\tremaining: 1m 4s\n",
      "492:\tlearn: 0.2596520\ttotal: 1m 2s\tremaining: 1m 4s\n",
      "493:\tlearn: 0.2595038\ttotal: 1m 2s\tremaining: 1m 4s\n",
      "494:\tlearn: 0.2593509\ttotal: 1m 2s\tremaining: 1m 3s\n",
      "495:\tlearn: 0.2592505\ttotal: 1m 2s\tremaining: 1m 3s\n",
      "496:\tlearn: 0.2590964\ttotal: 1m 2s\tremaining: 1m 3s\n",
      "497:\tlearn: 0.2589801\ttotal: 1m 3s\tremaining: 1m 3s\n",
      "498:\tlearn: 0.2588077\ttotal: 1m 3s\tremaining: 1m 3s\n",
      "499:\tlearn: 0.2586432\ttotal: 1m 3s\tremaining: 1m 3s\n",
      "500:\tlearn: 0.2584720\ttotal: 1m 3s\tremaining: 1m 3s\n",
      "501:\tlearn: 0.2582848\ttotal: 1m 3s\tremaining: 1m 3s\n",
      "502:\tlearn: 0.2581681\ttotal: 1m 3s\tremaining: 1m 2s\n",
      "503:\tlearn: 0.2580381\ttotal: 1m 3s\tremaining: 1m 2s\n",
      "504:\tlearn: 0.2579646\ttotal: 1m 4s\tremaining: 1m 2s\n",
      "505:\tlearn: 0.2577759\ttotal: 1m 4s\tremaining: 1m 2s\n",
      "506:\tlearn: 0.2575855\ttotal: 1m 4s\tremaining: 1m 2s\n",
      "507:\tlearn: 0.2575183\ttotal: 1m 4s\tremaining: 1m 2s\n",
      "508:\tlearn: 0.2574085\ttotal: 1m 4s\tremaining: 1m 2s\n",
      "509:\tlearn: 0.2572156\ttotal: 1m 4s\tremaining: 1m 2s\n",
      "510:\tlearn: 0.2570781\ttotal: 1m 4s\tremaining: 1m 2s\n",
      "511:\tlearn: 0.2569407\ttotal: 1m 4s\tremaining: 1m 1s\n",
      "512:\tlearn: 0.2567979\ttotal: 1m 5s\tremaining: 1m 1s\n",
      "513:\tlearn: 0.2567053\ttotal: 1m 5s\tremaining: 1m 1s\n",
      "514:\tlearn: 0.2565670\ttotal: 1m 5s\tremaining: 1m 1s\n",
      "515:\tlearn: 0.2564029\ttotal: 1m 5s\tremaining: 1m 1s\n",
      "516:\tlearn: 0.2562688\ttotal: 1m 5s\tremaining: 1m 1s\n",
      "517:\tlearn: 0.2561948\ttotal: 1m 5s\tremaining: 1m 1s\n",
      "518:\tlearn: 0.2560591\ttotal: 1m 5s\tremaining: 1m 1s\n",
      "519:\tlearn: 0.2559368\ttotal: 1m 5s\tremaining: 1m\n",
      "520:\tlearn: 0.2558705\ttotal: 1m 6s\tremaining: 1m\n",
      "521:\tlearn: 0.2557672\ttotal: 1m 6s\tremaining: 1m\n",
      "522:\tlearn: 0.2557132\ttotal: 1m 6s\tremaining: 1m\n",
      "523:\tlearn: 0.2556145\ttotal: 1m 6s\tremaining: 1m\n",
      "524:\tlearn: 0.2555148\ttotal: 1m 6s\tremaining: 1m\n",
      "525:\tlearn: 0.2554053\ttotal: 1m 6s\tremaining: 1m\n",
      "526:\tlearn: 0.2552246\ttotal: 1m 6s\tremaining: 1m\n",
      "527:\tlearn: 0.2550723\ttotal: 1m 7s\tremaining: 60s\n",
      "528:\tlearn: 0.2550158\ttotal: 1m 7s\tremaining: 59.9s\n",
      "529:\tlearn: 0.2548375\ttotal: 1m 7s\tremaining: 59.7s\n",
      "530:\tlearn: 0.2547373\ttotal: 1m 7s\tremaining: 59.6s\n",
      "531:\tlearn: 0.2546815\ttotal: 1m 7s\tremaining: 59.5s\n",
      "532:\tlearn: 0.2545636\ttotal: 1m 7s\tremaining: 59.3s\n",
      "533:\tlearn: 0.2544494\ttotal: 1m 7s\tremaining: 59.2s\n",
      "534:\tlearn: 0.2542520\ttotal: 1m 7s\tremaining: 59.1s\n",
      "535:\tlearn: 0.2541519\ttotal: 1m 8s\tremaining: 58.9s\n",
      "536:\tlearn: 0.2539627\ttotal: 1m 8s\tremaining: 58.8s\n",
      "537:\tlearn: 0.2537481\ttotal: 1m 8s\tremaining: 58.6s\n",
      "538:\tlearn: 0.2536947\ttotal: 1m 8s\tremaining: 58.5s\n",
      "539:\tlearn: 0.2534700\ttotal: 1m 8s\tremaining: 58.4s\n",
      "540:\tlearn: 0.2533346\ttotal: 1m 8s\tremaining: 58.2s\n",
      "541:\tlearn: 0.2532624\ttotal: 1m 8s\tremaining: 58.1s\n",
      "542:\tlearn: 0.2531085\ttotal: 1m 8s\tremaining: 57.9s\n",
      "543:\tlearn: 0.2530018\ttotal: 1m 8s\tremaining: 57.8s\n",
      "544:\tlearn: 0.2528862\ttotal: 1m 9s\tremaining: 57.7s\n",
      "545:\tlearn: 0.2528076\ttotal: 1m 9s\tremaining: 57.6s\n",
      "546:\tlearn: 0.2527090\ttotal: 1m 9s\tremaining: 57.4s\n",
      "547:\tlearn: 0.2525459\ttotal: 1m 9s\tremaining: 57.3s\n",
      "548:\tlearn: 0.2525059\ttotal: 1m 9s\tremaining: 57.2s\n",
      "549:\tlearn: 0.2524054\ttotal: 1m 9s\tremaining: 57.1s\n",
      "550:\tlearn: 0.2522841\ttotal: 1m 9s\tremaining: 56.9s\n",
      "551:\tlearn: 0.2521585\ttotal: 1m 9s\tremaining: 56.8s\n",
      "552:\tlearn: 0.2520679\ttotal: 1m 10s\tremaining: 56.7s\n",
      "553:\tlearn: 0.2519298\ttotal: 1m 10s\tremaining: 56.5s\n",
      "554:\tlearn: 0.2517609\ttotal: 1m 10s\tremaining: 56.4s\n",
      "555:\tlearn: 0.2516821\ttotal: 1m 10s\tremaining: 56.3s\n",
      "556:\tlearn: 0.2514977\ttotal: 1m 10s\tremaining: 56.1s\n",
      "557:\tlearn: 0.2513544\ttotal: 1m 10s\tremaining: 56s\n",
      "558:\tlearn: 0.2512555\ttotal: 1m 10s\tremaining: 55.9s\n",
      "559:\tlearn: 0.2510834\ttotal: 1m 10s\tremaining: 55.7s\n",
      "560:\tlearn: 0.2509890\ttotal: 1m 11s\tremaining: 55.6s\n",
      "561:\tlearn: 0.2508236\ttotal: 1m 11s\tremaining: 55.5s\n",
      "562:\tlearn: 0.2506949\ttotal: 1m 11s\tremaining: 55.3s\n",
      "563:\tlearn: 0.2505655\ttotal: 1m 11s\tremaining: 55.2s\n",
      "564:\tlearn: 0.2504530\ttotal: 1m 11s\tremaining: 55.1s\n",
      "565:\tlearn: 0.2503870\ttotal: 1m 11s\tremaining: 55s\n",
      "566:\tlearn: 0.2503160\ttotal: 1m 11s\tremaining: 54.9s\n",
      "567:\tlearn: 0.2501879\ttotal: 1m 11s\tremaining: 54.7s\n",
      "568:\tlearn: 0.2500623\ttotal: 1m 12s\tremaining: 54.6s\n",
      "569:\tlearn: 0.2499397\ttotal: 1m 12s\tremaining: 54.5s\n",
      "570:\tlearn: 0.2498355\ttotal: 1m 12s\tremaining: 54.3s\n",
      "571:\tlearn: 0.2497417\ttotal: 1m 12s\tremaining: 54.2s\n",
      "572:\tlearn: 0.2497096\ttotal: 1m 12s\tremaining: 54s\n",
      "573:\tlearn: 0.2496017\ttotal: 1m 12s\tremaining: 53.9s\n",
      "574:\tlearn: 0.2494395\ttotal: 1m 12s\tremaining: 53.8s\n",
      "575:\tlearn: 0.2492922\ttotal: 1m 12s\tremaining: 53.6s\n",
      "576:\tlearn: 0.2491012\ttotal: 1m 12s\tremaining: 53.5s\n",
      "577:\tlearn: 0.2489604\ttotal: 1m 13s\tremaining: 53.3s\n",
      "578:\tlearn: 0.2487959\ttotal: 1m 13s\tremaining: 53.2s\n",
      "579:\tlearn: 0.2486277\ttotal: 1m 13s\tremaining: 53.1s\n",
      "580:\tlearn: 0.2485439\ttotal: 1m 13s\tremaining: 53s\n",
      "581:\tlearn: 0.2484130\ttotal: 1m 13s\tremaining: 52.8s\n",
      "582:\tlearn: 0.2482673\ttotal: 1m 13s\tremaining: 52.7s\n",
      "583:\tlearn: 0.2482109\ttotal: 1m 13s\tremaining: 52.6s\n",
      "584:\tlearn: 0.2481144\ttotal: 1m 13s\tremaining: 52.4s\n",
      "585:\tlearn: 0.2479833\ttotal: 1m 14s\tremaining: 52.3s\n",
      "586:\tlearn: 0.2478213\ttotal: 1m 14s\tremaining: 52.2s\n",
      "587:\tlearn: 0.2476622\ttotal: 1m 14s\tremaining: 52s\n",
      "588:\tlearn: 0.2475145\ttotal: 1m 14s\tremaining: 51.9s\n",
      "589:\tlearn: 0.2473594\ttotal: 1m 14s\tremaining: 51.8s\n",
      "590:\tlearn: 0.2472670\ttotal: 1m 14s\tremaining: 51.7s\n",
      "591:\tlearn: 0.2471183\ttotal: 1m 14s\tremaining: 51.6s\n",
      "592:\tlearn: 0.2469838\ttotal: 1m 14s\tremaining: 51.4s\n",
      "593:\tlearn: 0.2468718\ttotal: 1m 15s\tremaining: 51.3s\n",
      "594:\tlearn: 0.2467859\ttotal: 1m 15s\tremaining: 51.2s\n",
      "595:\tlearn: 0.2467010\ttotal: 1m 15s\tremaining: 51s\n",
      "596:\tlearn: 0.2465386\ttotal: 1m 15s\tremaining: 50.9s\n",
      "597:\tlearn: 0.2464255\ttotal: 1m 15s\tremaining: 50.8s\n",
      "598:\tlearn: 0.2462865\ttotal: 1m 15s\tremaining: 50.7s\n",
      "599:\tlearn: 0.2462066\ttotal: 1m 15s\tremaining: 50.6s\n",
      "600:\tlearn: 0.2460836\ttotal: 1m 15s\tremaining: 50.4s\n",
      "601:\tlearn: 0.2459267\ttotal: 1m 16s\tremaining: 50.3s\n",
      "602:\tlearn: 0.2457757\ttotal: 1m 16s\tremaining: 50.1s\n",
      "603:\tlearn: 0.2456191\ttotal: 1m 16s\tremaining: 50s\n",
      "604:\tlearn: 0.2455150\ttotal: 1m 16s\tremaining: 49.9s\n",
      "605:\tlearn: 0.2453957\ttotal: 1m 16s\tremaining: 49.8s\n",
      "606:\tlearn: 0.2452441\ttotal: 1m 16s\tremaining: 49.6s\n",
      "607:\tlearn: 0.2451281\ttotal: 1m 16s\tremaining: 49.5s\n",
      "608:\tlearn: 0.2450171\ttotal: 1m 16s\tremaining: 49.4s\n",
      "609:\tlearn: 0.2449253\ttotal: 1m 17s\tremaining: 49.2s\n",
      "610:\tlearn: 0.2448140\ttotal: 1m 17s\tremaining: 49.1s\n",
      "611:\tlearn: 0.2445468\ttotal: 1m 17s\tremaining: 49s\n",
      "612:\tlearn: 0.2444127\ttotal: 1m 17s\tremaining: 48.8s\n",
      "613:\tlearn: 0.2442716\ttotal: 1m 17s\tremaining: 48.7s\n",
      "614:\tlearn: 0.2441252\ttotal: 1m 17s\tremaining: 48.6s\n",
      "615:\tlearn: 0.2439662\ttotal: 1m 17s\tremaining: 48.5s\n",
      "616:\tlearn: 0.2438577\ttotal: 1m 17s\tremaining: 48.4s\n",
      "617:\tlearn: 0.2436829\ttotal: 1m 18s\tremaining: 48.2s\n",
      "618:\tlearn: 0.2435941\ttotal: 1m 18s\tremaining: 48.1s\n",
      "619:\tlearn: 0.2434474\ttotal: 1m 18s\tremaining: 48s\n",
      "620:\tlearn: 0.2433542\ttotal: 1m 18s\tremaining: 47.8s\n",
      "621:\tlearn: 0.2432189\ttotal: 1m 18s\tremaining: 47.8s\n",
      "622:\tlearn: 0.2430400\ttotal: 1m 18s\tremaining: 47.6s\n",
      "623:\tlearn: 0.2429151\ttotal: 1m 18s\tremaining: 47.5s\n",
      "624:\tlearn: 0.2428168\ttotal: 1m 19s\tremaining: 47.4s\n",
      "625:\tlearn: 0.2427163\ttotal: 1m 19s\tremaining: 47.3s\n",
      "626:\tlearn: 0.2425826\ttotal: 1m 19s\tremaining: 47.1s\n",
      "627:\tlearn: 0.2424218\ttotal: 1m 19s\tremaining: 47s\n",
      "628:\tlearn: 0.2423009\ttotal: 1m 19s\tremaining: 46.9s\n",
      "629:\tlearn: 0.2421858\ttotal: 1m 19s\tremaining: 46.7s\n",
      "630:\tlearn: 0.2420662\ttotal: 1m 19s\tremaining: 46.6s\n",
      "631:\tlearn: 0.2418649\ttotal: 1m 19s\tremaining: 46.5s\n",
      "632:\tlearn: 0.2417665\ttotal: 1m 19s\tremaining: 46.3s\n",
      "633:\tlearn: 0.2415598\ttotal: 1m 20s\tremaining: 46.2s\n",
      "634:\tlearn: 0.2414993\ttotal: 1m 20s\tremaining: 46.1s\n",
      "635:\tlearn: 0.2413216\ttotal: 1m 20s\tremaining: 45.9s\n",
      "636:\tlearn: 0.2411230\ttotal: 1m 20s\tremaining: 45.8s\n",
      "637:\tlearn: 0.2409746\ttotal: 1m 20s\tremaining: 45.7s\n",
      "638:\tlearn: 0.2409222\ttotal: 1m 20s\tremaining: 45.6s\n",
      "639:\tlearn: 0.2408469\ttotal: 1m 20s\tremaining: 45.4s\n",
      "640:\tlearn: 0.2407026\ttotal: 1m 20s\tremaining: 45.3s\n",
      "641:\tlearn: 0.2406359\ttotal: 1m 20s\tremaining: 45.2s\n",
      "642:\tlearn: 0.2404967\ttotal: 1m 21s\tremaining: 45s\n",
      "643:\tlearn: 0.2403566\ttotal: 1m 21s\tremaining: 44.9s\n",
      "644:\tlearn: 0.2402690\ttotal: 1m 21s\tremaining: 44.8s\n",
      "645:\tlearn: 0.2401059\ttotal: 1m 21s\tremaining: 44.6s\n",
      "646:\tlearn: 0.2399636\ttotal: 1m 21s\tremaining: 44.5s\n",
      "647:\tlearn: 0.2397759\ttotal: 1m 21s\tremaining: 44.3s\n",
      "648:\tlearn: 0.2395721\ttotal: 1m 21s\tremaining: 44.2s\n",
      "649:\tlearn: 0.2394858\ttotal: 1m 21s\tremaining: 44.1s\n",
      "650:\tlearn: 0.2393969\ttotal: 1m 21s\tremaining: 43.9s\n",
      "651:\tlearn: 0.2393704\ttotal: 1m 22s\tremaining: 43.8s\n",
      "652:\tlearn: 0.2392824\ttotal: 1m 22s\tremaining: 43.6s\n",
      "653:\tlearn: 0.2391846\ttotal: 1m 22s\tremaining: 43.5s\n",
      "654:\tlearn: 0.2391201\ttotal: 1m 22s\tremaining: 43.4s\n",
      "655:\tlearn: 0.2390388\ttotal: 1m 22s\tremaining: 43.2s\n",
      "656:\tlearn: 0.2388499\ttotal: 1m 22s\tremaining: 43.1s\n",
      "657:\tlearn: 0.2387416\ttotal: 1m 22s\tremaining: 43s\n",
      "658:\tlearn: 0.2386757\ttotal: 1m 22s\tremaining: 42.8s\n",
      "659:\tlearn: 0.2385150\ttotal: 1m 22s\tremaining: 42.7s\n",
      "660:\tlearn: 0.2383690\ttotal: 1m 23s\tremaining: 42.6s\n",
      "661:\tlearn: 0.2382247\ttotal: 1m 23s\tremaining: 42.4s\n",
      "662:\tlearn: 0.2381256\ttotal: 1m 23s\tremaining: 42.3s\n",
      "663:\tlearn: 0.2380295\ttotal: 1m 23s\tremaining: 42.2s\n",
      "664:\tlearn: 0.2379007\ttotal: 1m 23s\tremaining: 42.1s\n",
      "665:\tlearn: 0.2377483\ttotal: 1m 23s\tremaining: 42s\n",
      "666:\tlearn: 0.2375906\ttotal: 1m 23s\tremaining: 41.8s\n",
      "667:\tlearn: 0.2374799\ttotal: 1m 23s\tremaining: 41.7s\n",
      "668:\tlearn: 0.2373915\ttotal: 1m 24s\tremaining: 41.6s\n",
      "669:\tlearn: 0.2372768\ttotal: 1m 24s\tremaining: 41.5s\n",
      "670:\tlearn: 0.2371761\ttotal: 1m 24s\tremaining: 41.3s\n",
      "671:\tlearn: 0.2369786\ttotal: 1m 24s\tremaining: 41.2s\n",
      "672:\tlearn: 0.2369163\ttotal: 1m 24s\tremaining: 41.1s\n",
      "673:\tlearn: 0.2368104\ttotal: 1m 24s\tremaining: 41s\n",
      "674:\tlearn: 0.2366826\ttotal: 1m 24s\tremaining: 40.8s\n",
      "675:\tlearn: 0.2365986\ttotal: 1m 24s\tremaining: 40.7s\n",
      "676:\tlearn: 0.2365323\ttotal: 1m 25s\tremaining: 40.6s\n",
      "677:\tlearn: 0.2363780\ttotal: 1m 25s\tremaining: 40.5s\n",
      "678:\tlearn: 0.2362884\ttotal: 1m 25s\tremaining: 40.3s\n",
      "679:\tlearn: 0.2361686\ttotal: 1m 25s\tremaining: 40.2s\n",
      "680:\tlearn: 0.2361187\ttotal: 1m 25s\tremaining: 40.1s\n",
      "681:\tlearn: 0.2360464\ttotal: 1m 25s\tremaining: 40s\n",
      "682:\tlearn: 0.2359413\ttotal: 1m 25s\tremaining: 39.8s\n",
      "683:\tlearn: 0.2358646\ttotal: 1m 25s\tremaining: 39.7s\n",
      "684:\tlearn: 0.2357744\ttotal: 1m 26s\tremaining: 39.6s\n",
      "685:\tlearn: 0.2356859\ttotal: 1m 26s\tremaining: 39.5s\n",
      "686:\tlearn: 0.2355746\ttotal: 1m 26s\tremaining: 39.3s\n",
      "687:\tlearn: 0.2354898\ttotal: 1m 26s\tremaining: 39.2s\n",
      "688:\tlearn: 0.2353555\ttotal: 1m 26s\tremaining: 39.1s\n",
      "689:\tlearn: 0.2352425\ttotal: 1m 26s\tremaining: 38.9s\n",
      "690:\tlearn: 0.2351733\ttotal: 1m 26s\tremaining: 38.8s\n",
      "691:\tlearn: 0.2351357\ttotal: 1m 26s\tremaining: 38.7s\n",
      "692:\tlearn: 0.2349964\ttotal: 1m 27s\tremaining: 38.6s\n",
      "693:\tlearn: 0.2349186\ttotal: 1m 27s\tremaining: 38.4s\n",
      "694:\tlearn: 0.2347215\ttotal: 1m 27s\tremaining: 38.3s\n",
      "695:\tlearn: 0.2346729\ttotal: 1m 27s\tremaining: 38.2s\n",
      "696:\tlearn: 0.2344967\ttotal: 1m 27s\tremaining: 38s\n",
      "697:\tlearn: 0.2343961\ttotal: 1m 27s\tremaining: 37.9s\n",
      "698:\tlearn: 0.2343041\ttotal: 1m 27s\tremaining: 37.8s\n",
      "699:\tlearn: 0.2342243\ttotal: 1m 27s\tremaining: 37.7s\n",
      "700:\tlearn: 0.2341006\ttotal: 1m 28s\tremaining: 37.5s\n",
      "701:\tlearn: 0.2340362\ttotal: 1m 28s\tremaining: 37.4s\n",
      "702:\tlearn: 0.2339050\ttotal: 1m 28s\tremaining: 37.3s\n",
      "703:\tlearn: 0.2338010\ttotal: 1m 28s\tremaining: 37.2s\n",
      "704:\tlearn: 0.2337198\ttotal: 1m 28s\tremaining: 37s\n",
      "705:\tlearn: 0.2336565\ttotal: 1m 28s\tremaining: 36.9s\n",
      "706:\tlearn: 0.2334922\ttotal: 1m 28s\tremaining: 36.8s\n",
      "707:\tlearn: 0.2333695\ttotal: 1m 28s\tremaining: 36.7s\n",
      "708:\tlearn: 0.2333145\ttotal: 1m 29s\tremaining: 36.5s\n",
      "709:\tlearn: 0.2332438\ttotal: 1m 29s\tremaining: 36.4s\n",
      "710:\tlearn: 0.2331720\ttotal: 1m 29s\tremaining: 36.3s\n",
      "711:\tlearn: 0.2331177\ttotal: 1m 29s\tremaining: 36.2s\n",
      "712:\tlearn: 0.2330696\ttotal: 1m 29s\tremaining: 36s\n",
      "713:\tlearn: 0.2329976\ttotal: 1m 29s\tremaining: 35.9s\n",
      "714:\tlearn: 0.2329213\ttotal: 1m 29s\tremaining: 35.8s\n",
      "715:\tlearn: 0.2327969\ttotal: 1m 29s\tremaining: 35.7s\n",
      "716:\tlearn: 0.2325959\ttotal: 1m 30s\tremaining: 35.5s\n",
      "717:\tlearn: 0.2324959\ttotal: 1m 30s\tremaining: 35.4s\n",
      "718:\tlearn: 0.2323274\ttotal: 1m 30s\tremaining: 35.3s\n",
      "719:\tlearn: 0.2322093\ttotal: 1m 30s\tremaining: 35.2s\n",
      "720:\tlearn: 0.2320432\ttotal: 1m 30s\tremaining: 35s\n",
      "721:\tlearn: 0.2318888\ttotal: 1m 30s\tremaining: 34.9s\n",
      "722:\tlearn: 0.2317812\ttotal: 1m 30s\tremaining: 34.8s\n",
      "723:\tlearn: 0.2317039\ttotal: 1m 30s\tremaining: 34.7s\n",
      "724:\tlearn: 0.2315656\ttotal: 1m 31s\tremaining: 34.5s\n",
      "725:\tlearn: 0.2314580\ttotal: 1m 31s\tremaining: 34.4s\n",
      "726:\tlearn: 0.2313452\ttotal: 1m 31s\tremaining: 34.3s\n",
      "727:\tlearn: 0.2312434\ttotal: 1m 31s\tremaining: 34.2s\n",
      "728:\tlearn: 0.2311275\ttotal: 1m 31s\tremaining: 34s\n",
      "729:\tlearn: 0.2310521\ttotal: 1m 31s\tremaining: 33.9s\n",
      "730:\tlearn: 0.2309559\ttotal: 1m 31s\tremaining: 33.8s\n",
      "731:\tlearn: 0.2308577\ttotal: 1m 31s\tremaining: 33.7s\n",
      "732:\tlearn: 0.2307145\ttotal: 1m 32s\tremaining: 33.5s\n",
      "733:\tlearn: 0.2306210\ttotal: 1m 32s\tremaining: 33.4s\n",
      "734:\tlearn: 0.2304800\ttotal: 1m 32s\tremaining: 33.3s\n",
      "735:\tlearn: 0.2303596\ttotal: 1m 32s\tremaining: 33.2s\n",
      "736:\tlearn: 0.2302494\ttotal: 1m 32s\tremaining: 33s\n",
      "737:\tlearn: 0.2302084\ttotal: 1m 32s\tremaining: 32.9s\n",
      "738:\tlearn: 0.2300611\ttotal: 1m 32s\tremaining: 32.8s\n",
      "739:\tlearn: 0.2299847\ttotal: 1m 32s\tremaining: 32.6s\n",
      "740:\tlearn: 0.2298740\ttotal: 1m 33s\tremaining: 32.5s\n",
      "741:\tlearn: 0.2297565\ttotal: 1m 33s\tremaining: 32.4s\n",
      "742:\tlearn: 0.2296189\ttotal: 1m 33s\tremaining: 32.3s\n",
      "743:\tlearn: 0.2295306\ttotal: 1m 33s\tremaining: 32.1s\n",
      "744:\tlearn: 0.2294174\ttotal: 1m 33s\tremaining: 32s\n",
      "745:\tlearn: 0.2292382\ttotal: 1m 33s\tremaining: 31.9s\n",
      "746:\tlearn: 0.2290166\ttotal: 1m 33s\tremaining: 31.8s\n",
      "747:\tlearn: 0.2289441\ttotal: 1m 33s\tremaining: 31.6s\n",
      "748:\tlearn: 0.2288125\ttotal: 1m 34s\tremaining: 31.5s\n",
      "749:\tlearn: 0.2286741\ttotal: 1m 34s\tremaining: 31.4s\n",
      "750:\tlearn: 0.2285355\ttotal: 1m 34s\tremaining: 31.3s\n",
      "751:\tlearn: 0.2284426\ttotal: 1m 34s\tremaining: 31.1s\n",
      "752:\tlearn: 0.2283817\ttotal: 1m 34s\tremaining: 31s\n",
      "753:\tlearn: 0.2282455\ttotal: 1m 34s\tremaining: 30.9s\n",
      "754:\tlearn: 0.2281567\ttotal: 1m 34s\tremaining: 30.7s\n",
      "755:\tlearn: 0.2280865\ttotal: 1m 34s\tremaining: 30.6s\n",
      "756:\tlearn: 0.2279411\ttotal: 1m 34s\tremaining: 30.5s\n",
      "757:\tlearn: 0.2278305\ttotal: 1m 35s\tremaining: 30.3s\n",
      "758:\tlearn: 0.2276876\ttotal: 1m 35s\tremaining: 30.2s\n",
      "759:\tlearn: 0.2275994\ttotal: 1m 35s\tremaining: 30.1s\n",
      "760:\tlearn: 0.2275149\ttotal: 1m 35s\tremaining: 29.9s\n",
      "761:\tlearn: 0.2273384\ttotal: 1m 35s\tremaining: 29.8s\n",
      "762:\tlearn: 0.2272569\ttotal: 1m 35s\tremaining: 29.7s\n",
      "763:\tlearn: 0.2270900\ttotal: 1m 35s\tremaining: 29.5s\n",
      "764:\tlearn: 0.2270247\ttotal: 1m 35s\tremaining: 29.4s\n",
      "765:\tlearn: 0.2269843\ttotal: 1m 35s\tremaining: 29.3s\n",
      "766:\tlearn: 0.2269004\ttotal: 1m 35s\tremaining: 29.2s\n",
      "767:\tlearn: 0.2268390\ttotal: 1m 36s\tremaining: 29s\n",
      "768:\tlearn: 0.2266935\ttotal: 1m 36s\tremaining: 28.9s\n",
      "769:\tlearn: 0.2266094\ttotal: 1m 36s\tremaining: 28.8s\n",
      "770:\tlearn: 0.2264954\ttotal: 1m 36s\tremaining: 28.6s\n",
      "771:\tlearn: 0.2264028\ttotal: 1m 36s\tremaining: 28.5s\n",
      "772:\tlearn: 0.2262811\ttotal: 1m 36s\tremaining: 28.4s\n",
      "773:\tlearn: 0.2261674\ttotal: 1m 36s\tremaining: 28.2s\n",
      "774:\tlearn: 0.2260909\ttotal: 1m 36s\tremaining: 28.1s\n",
      "775:\tlearn: 0.2260015\ttotal: 1m 36s\tremaining: 28s\n",
      "776:\tlearn: 0.2259400\ttotal: 1m 37s\tremaining: 27.8s\n",
      "777:\tlearn: 0.2258588\ttotal: 1m 37s\tremaining: 27.7s\n",
      "778:\tlearn: 0.2257675\ttotal: 1m 37s\tremaining: 27.6s\n",
      "779:\tlearn: 0.2256377\ttotal: 1m 37s\tremaining: 27.5s\n",
      "780:\tlearn: 0.2255772\ttotal: 1m 37s\tremaining: 27.3s\n",
      "781:\tlearn: 0.2254607\ttotal: 1m 37s\tremaining: 27.2s\n",
      "782:\tlearn: 0.2253486\ttotal: 1m 37s\tremaining: 27.1s\n",
      "783:\tlearn: 0.2251874\ttotal: 1m 37s\tremaining: 26.9s\n",
      "784:\tlearn: 0.2250816\ttotal: 1m 37s\tremaining: 26.8s\n",
      "785:\tlearn: 0.2249856\ttotal: 1m 37s\tremaining: 26.7s\n",
      "786:\tlearn: 0.2248328\ttotal: 1m 38s\tremaining: 26.5s\n",
      "787:\tlearn: 0.2246971\ttotal: 1m 38s\tremaining: 26.4s\n",
      "788:\tlearn: 0.2245823\ttotal: 1m 38s\tremaining: 26.3s\n",
      "789:\tlearn: 0.2245058\ttotal: 1m 38s\tremaining: 26.2s\n",
      "790:\tlearn: 0.2244495\ttotal: 1m 38s\tremaining: 26s\n",
      "791:\tlearn: 0.2243587\ttotal: 1m 38s\tremaining: 25.9s\n",
      "792:\tlearn: 0.2242586\ttotal: 1m 38s\tremaining: 25.8s\n",
      "793:\tlearn: 0.2242020\ttotal: 1m 38s\tremaining: 25.7s\n",
      "794:\tlearn: 0.2241110\ttotal: 1m 39s\tremaining: 25.5s\n",
      "795:\tlearn: 0.2240261\ttotal: 1m 39s\tremaining: 25.4s\n",
      "796:\tlearn: 0.2239378\ttotal: 1m 39s\tremaining: 25.3s\n",
      "797:\tlearn: 0.2238408\ttotal: 1m 39s\tremaining: 25.2s\n",
      "798:\tlearn: 0.2237763\ttotal: 1m 39s\tremaining: 25s\n",
      "799:\tlearn: 0.2237046\ttotal: 1m 39s\tremaining: 24.9s\n",
      "800:\tlearn: 0.2236105\ttotal: 1m 39s\tremaining: 24.8s\n",
      "801:\tlearn: 0.2235385\ttotal: 1m 39s\tremaining: 24.7s\n",
      "802:\tlearn: 0.2234715\ttotal: 1m 40s\tremaining: 24.6s\n",
      "803:\tlearn: 0.2233776\ttotal: 1m 40s\tremaining: 24.4s\n",
      "804:\tlearn: 0.2233177\ttotal: 1m 40s\tremaining: 24.3s\n",
      "805:\tlearn: 0.2232267\ttotal: 1m 40s\tremaining: 24.2s\n",
      "806:\tlearn: 0.2231111\ttotal: 1m 40s\tremaining: 24.1s\n",
      "807:\tlearn: 0.2230251\ttotal: 1m 40s\tremaining: 23.9s\n",
      "808:\tlearn: 0.2229380\ttotal: 1m 40s\tremaining: 23.8s\n",
      "809:\tlearn: 0.2227796\ttotal: 1m 40s\tremaining: 23.7s\n",
      "810:\tlearn: 0.2226712\ttotal: 1m 41s\tremaining: 23.6s\n",
      "811:\tlearn: 0.2225641\ttotal: 1m 41s\tremaining: 23.5s\n",
      "812:\tlearn: 0.2223944\ttotal: 1m 41s\tremaining: 23.3s\n",
      "813:\tlearn: 0.2222662\ttotal: 1m 41s\tremaining: 23.2s\n",
      "814:\tlearn: 0.2221383\ttotal: 1m 41s\tremaining: 23.1s\n",
      "815:\tlearn: 0.2220596\ttotal: 1m 41s\tremaining: 23s\n",
      "816:\tlearn: 0.2219728\ttotal: 1m 41s\tremaining: 22.8s\n",
      "817:\tlearn: 0.2218820\ttotal: 1m 42s\tremaining: 22.7s\n",
      "818:\tlearn: 0.2217629\ttotal: 1m 42s\tremaining: 22.6s\n",
      "819:\tlearn: 0.2216127\ttotal: 1m 42s\tremaining: 22.5s\n",
      "820:\tlearn: 0.2215334\ttotal: 1m 42s\tremaining: 22.3s\n",
      "821:\tlearn: 0.2214756\ttotal: 1m 42s\tremaining: 22.2s\n",
      "822:\tlearn: 0.2213654\ttotal: 1m 42s\tremaining: 22.1s\n",
      "823:\tlearn: 0.2212662\ttotal: 1m 42s\tremaining: 22s\n",
      "824:\tlearn: 0.2211562\ttotal: 1m 42s\tremaining: 21.8s\n",
      "825:\tlearn: 0.2210703\ttotal: 1m 43s\tremaining: 21.7s\n",
      "826:\tlearn: 0.2209655\ttotal: 1m 43s\tremaining: 21.6s\n",
      "827:\tlearn: 0.2209000\ttotal: 1m 43s\tremaining: 21.5s\n",
      "828:\tlearn: 0.2207703\ttotal: 1m 43s\tremaining: 21.4s\n",
      "829:\tlearn: 0.2207408\ttotal: 1m 43s\tremaining: 21.2s\n",
      "830:\tlearn: 0.2206894\ttotal: 1m 43s\tremaining: 21.1s\n",
      "831:\tlearn: 0.2205660\ttotal: 1m 44s\tremaining: 21s\n",
      "832:\tlearn: 0.2204250\ttotal: 1m 44s\tremaining: 20.9s\n",
      "833:\tlearn: 0.2202707\ttotal: 1m 44s\tremaining: 20.8s\n",
      "834:\tlearn: 0.2201748\ttotal: 1m 44s\tremaining: 20.6s\n",
      "835:\tlearn: 0.2200661\ttotal: 1m 44s\tremaining: 20.5s\n",
      "836:\tlearn: 0.2199505\ttotal: 1m 44s\tremaining: 20.4s\n",
      "837:\tlearn: 0.2198453\ttotal: 1m 44s\tremaining: 20.3s\n",
      "838:\tlearn: 0.2197183\ttotal: 1m 44s\tremaining: 20.1s\n",
      "839:\tlearn: 0.2196082\ttotal: 1m 45s\tremaining: 20s\n",
      "840:\tlearn: 0.2195436\ttotal: 1m 45s\tremaining: 19.9s\n",
      "841:\tlearn: 0.2194241\ttotal: 1m 45s\tremaining: 19.8s\n",
      "842:\tlearn: 0.2193296\ttotal: 1m 45s\tremaining: 19.6s\n",
      "843:\tlearn: 0.2191652\ttotal: 1m 45s\tremaining: 19.5s\n",
      "844:\tlearn: 0.2190928\ttotal: 1m 45s\tremaining: 19.4s\n",
      "845:\tlearn: 0.2189769\ttotal: 1m 45s\tremaining: 19.3s\n",
      "846:\tlearn: 0.2188369\ttotal: 1m 45s\tremaining: 19.1s\n",
      "847:\tlearn: 0.2187172\ttotal: 1m 46s\tremaining: 19s\n",
      "848:\tlearn: 0.2185961\ttotal: 1m 46s\tremaining: 18.9s\n",
      "849:\tlearn: 0.2185300\ttotal: 1m 46s\tremaining: 18.8s\n",
      "850:\tlearn: 0.2184362\ttotal: 1m 46s\tremaining: 18.6s\n",
      "851:\tlearn: 0.2183480\ttotal: 1m 46s\tremaining: 18.5s\n",
      "852:\tlearn: 0.2182540\ttotal: 1m 46s\tremaining: 18.4s\n",
      "853:\tlearn: 0.2181604\ttotal: 1m 46s\tremaining: 18.3s\n",
      "854:\tlearn: 0.2180833\ttotal: 1m 47s\tremaining: 18.2s\n",
      "855:\tlearn: 0.2180119\ttotal: 1m 47s\tremaining: 18s\n",
      "856:\tlearn: 0.2179221\ttotal: 1m 47s\tremaining: 17.9s\n",
      "857:\tlearn: 0.2177144\ttotal: 1m 47s\tremaining: 17.8s\n",
      "858:\tlearn: 0.2176460\ttotal: 1m 47s\tremaining: 17.7s\n",
      "859:\tlearn: 0.2175872\ttotal: 1m 47s\tremaining: 17.6s\n",
      "860:\tlearn: 0.2174341\ttotal: 1m 48s\tremaining: 17.4s\n",
      "861:\tlearn: 0.2172813\ttotal: 1m 48s\tremaining: 17.3s\n",
      "862:\tlearn: 0.2171346\ttotal: 1m 48s\tremaining: 17.2s\n",
      "863:\tlearn: 0.2170773\ttotal: 1m 48s\tremaining: 17.1s\n",
      "864:\tlearn: 0.2169627\ttotal: 1m 48s\tremaining: 17s\n",
      "865:\tlearn: 0.2169024\ttotal: 1m 48s\tremaining: 16.8s\n",
      "866:\tlearn: 0.2167793\ttotal: 1m 48s\tremaining: 16.7s\n",
      "867:\tlearn: 0.2166571\ttotal: 1m 49s\tremaining: 16.6s\n",
      "868:\tlearn: 0.2165708\ttotal: 1m 49s\tremaining: 16.5s\n",
      "869:\tlearn: 0.2164682\ttotal: 1m 49s\tremaining: 16.3s\n",
      "870:\tlearn: 0.2163838\ttotal: 1m 49s\tremaining: 16.2s\n",
      "871:\tlearn: 0.2163358\ttotal: 1m 49s\tremaining: 16.1s\n",
      "872:\tlearn: 0.2162252\ttotal: 1m 49s\tremaining: 16s\n",
      "873:\tlearn: 0.2161162\ttotal: 1m 49s\tremaining: 15.8s\n",
      "874:\tlearn: 0.2160002\ttotal: 1m 50s\tremaining: 15.7s\n",
      "875:\tlearn: 0.2159064\ttotal: 1m 50s\tremaining: 15.6s\n",
      "876:\tlearn: 0.2158545\ttotal: 1m 50s\tremaining: 15.5s\n",
      "877:\tlearn: 0.2157483\ttotal: 1m 50s\tremaining: 15.3s\n",
      "878:\tlearn: 0.2156983\ttotal: 1m 50s\tremaining: 15.2s\n",
      "879:\tlearn: 0.2155961\ttotal: 1m 50s\tremaining: 15.1s\n",
      "880:\tlearn: 0.2155236\ttotal: 1m 50s\tremaining: 15s\n",
      "881:\tlearn: 0.2154495\ttotal: 1m 51s\tremaining: 14.9s\n",
      "882:\tlearn: 0.2153831\ttotal: 1m 51s\tremaining: 14.7s\n",
      "883:\tlearn: 0.2152168\ttotal: 1m 51s\tremaining: 14.6s\n",
      "884:\tlearn: 0.2151613\ttotal: 1m 51s\tremaining: 14.5s\n",
      "885:\tlearn: 0.2150252\ttotal: 1m 51s\tremaining: 14.3s\n",
      "886:\tlearn: 0.2148654\ttotal: 1m 51s\tremaining: 14.2s\n",
      "887:\tlearn: 0.2147944\ttotal: 1m 51s\tremaining: 14.1s\n",
      "888:\tlearn: 0.2146798\ttotal: 1m 51s\tremaining: 14s\n",
      "889:\tlearn: 0.2145811\ttotal: 1m 52s\tremaining: 13.8s\n",
      "890:\tlearn: 0.2144798\ttotal: 1m 52s\tremaining: 13.7s\n",
      "891:\tlearn: 0.2144318\ttotal: 1m 52s\tremaining: 13.6s\n",
      "892:\tlearn: 0.2143930\ttotal: 1m 52s\tremaining: 13.5s\n",
      "893:\tlearn: 0.2142958\ttotal: 1m 52s\tremaining: 13.3s\n",
      "894:\tlearn: 0.2142399\ttotal: 1m 52s\tremaining: 13.2s\n",
      "895:\tlearn: 0.2141049\ttotal: 1m 52s\tremaining: 13.1s\n",
      "896:\tlearn: 0.2140222\ttotal: 1m 52s\tremaining: 13s\n",
      "897:\tlearn: 0.2139699\ttotal: 1m 53s\tremaining: 12.8s\n",
      "898:\tlearn: 0.2138733\ttotal: 1m 53s\tremaining: 12.7s\n",
      "899:\tlearn: 0.2137583\ttotal: 1m 53s\tremaining: 12.6s\n",
      "900:\tlearn: 0.2136825\ttotal: 1m 53s\tremaining: 12.5s\n",
      "901:\tlearn: 0.2135932\ttotal: 1m 53s\tremaining: 12.3s\n",
      "902:\tlearn: 0.2135100\ttotal: 1m 53s\tremaining: 12.2s\n",
      "903:\tlearn: 0.2134103\ttotal: 1m 53s\tremaining: 12.1s\n",
      "904:\tlearn: 0.2133582\ttotal: 1m 53s\tremaining: 12s\n",
      "905:\tlearn: 0.2132754\ttotal: 1m 53s\tremaining: 11.8s\n",
      "906:\tlearn: 0.2132038\ttotal: 1m 54s\tremaining: 11.7s\n",
      "907:\tlearn: 0.2131165\ttotal: 1m 54s\tremaining: 11.6s\n",
      "908:\tlearn: 0.2130405\ttotal: 1m 54s\tremaining: 11.4s\n",
      "909:\tlearn: 0.2129189\ttotal: 1m 54s\tremaining: 11.3s\n",
      "910:\tlearn: 0.2127695\ttotal: 1m 54s\tremaining: 11.2s\n",
      "911:\tlearn: 0.2126655\ttotal: 1m 54s\tremaining: 11.1s\n",
      "912:\tlearn: 0.2125367\ttotal: 1m 54s\tremaining: 10.9s\n",
      "913:\tlearn: 0.2124216\ttotal: 1m 55s\tremaining: 10.8s\n",
      "914:\tlearn: 0.2123301\ttotal: 1m 55s\tremaining: 10.7s\n",
      "915:\tlearn: 0.2121986\ttotal: 1m 55s\tremaining: 10.6s\n",
      "916:\tlearn: 0.2121489\ttotal: 1m 55s\tremaining: 10.5s\n",
      "917:\tlearn: 0.2120492\ttotal: 1m 55s\tremaining: 10.3s\n",
      "918:\tlearn: 0.2119792\ttotal: 1m 55s\tremaining: 10.2s\n",
      "919:\tlearn: 0.2118994\ttotal: 1m 55s\tremaining: 10.1s\n",
      "920:\tlearn: 0.2118219\ttotal: 1m 56s\tremaining: 9.95s\n",
      "921:\tlearn: 0.2117375\ttotal: 1m 56s\tremaining: 9.83s\n",
      "922:\tlearn: 0.2116708\ttotal: 1m 56s\tremaining: 9.7s\n",
      "923:\tlearn: 0.2116175\ttotal: 1m 56s\tremaining: 9.58s\n",
      "924:\tlearn: 0.2115387\ttotal: 1m 56s\tremaining: 9.45s\n",
      "925:\tlearn: 0.2114289\ttotal: 1m 56s\tremaining: 9.32s\n",
      "926:\tlearn: 0.2113264\ttotal: 1m 56s\tremaining: 9.2s\n",
      "927:\tlearn: 0.2112567\ttotal: 1m 56s\tremaining: 9.07s\n",
      "928:\tlearn: 0.2112008\ttotal: 1m 57s\tremaining: 8.95s\n",
      "929:\tlearn: 0.2111350\ttotal: 1m 57s\tremaining: 8.82s\n",
      "930:\tlearn: 0.2110501\ttotal: 1m 57s\tremaining: 8.7s\n",
      "931:\tlearn: 0.2109934\ttotal: 1m 57s\tremaining: 8.57s\n",
      "932:\tlearn: 0.2108802\ttotal: 1m 57s\tremaining: 8.44s\n",
      "933:\tlearn: 0.2107860\ttotal: 1m 57s\tremaining: 8.32s\n",
      "934:\tlearn: 0.2106493\ttotal: 1m 57s\tremaining: 8.19s\n",
      "935:\tlearn: 0.2105447\ttotal: 1m 57s\tremaining: 8.07s\n",
      "936:\tlearn: 0.2104347\ttotal: 1m 58s\tremaining: 7.94s\n",
      "937:\tlearn: 0.2103592\ttotal: 1m 58s\tremaining: 7.82s\n",
      "938:\tlearn: 0.2103016\ttotal: 1m 58s\tremaining: 7.69s\n",
      "939:\tlearn: 0.2102302\ttotal: 1m 58s\tremaining: 7.57s\n",
      "940:\tlearn: 0.2101825\ttotal: 1m 58s\tremaining: 7.44s\n",
      "941:\tlearn: 0.2100902\ttotal: 1m 58s\tremaining: 7.32s\n",
      "942:\tlearn: 0.2099931\ttotal: 1m 58s\tremaining: 7.19s\n",
      "943:\tlearn: 0.2099472\ttotal: 1m 59s\tremaining: 7.07s\n",
      "944:\tlearn: 0.2098451\ttotal: 1m 59s\tremaining: 6.94s\n",
      "945:\tlearn: 0.2097673\ttotal: 1m 59s\tremaining: 6.82s\n",
      "946:\tlearn: 0.2096553\ttotal: 1m 59s\tremaining: 6.69s\n",
      "947:\tlearn: 0.2095161\ttotal: 1m 59s\tremaining: 6.56s\n",
      "948:\tlearn: 0.2094572\ttotal: 1m 59s\tremaining: 6.44s\n",
      "949:\tlearn: 0.2094167\ttotal: 1m 59s\tremaining: 6.31s\n",
      "950:\tlearn: 0.2093228\ttotal: 2m\tremaining: 6.18s\n",
      "951:\tlearn: 0.2092405\ttotal: 2m\tremaining: 6.06s\n",
      "952:\tlearn: 0.2091225\ttotal: 2m\tremaining: 5.93s\n",
      "953:\tlearn: 0.2090624\ttotal: 2m\tremaining: 5.81s\n",
      "954:\tlearn: 0.2089682\ttotal: 2m\tremaining: 5.68s\n",
      "955:\tlearn: 0.2088758\ttotal: 2m\tremaining: 5.56s\n",
      "956:\tlearn: 0.2088246\ttotal: 2m\tremaining: 5.43s\n",
      "957:\tlearn: 0.2087246\ttotal: 2m 1s\tremaining: 5.31s\n",
      "958:\tlearn: 0.2086607\ttotal: 2m 1s\tremaining: 5.18s\n",
      "959:\tlearn: 0.2085989\ttotal: 2m 1s\tremaining: 5.05s\n",
      "960:\tlearn: 0.2084372\ttotal: 2m 1s\tremaining: 4.93s\n",
      "961:\tlearn: 0.2082871\ttotal: 2m 1s\tremaining: 4.8s\n",
      "962:\tlearn: 0.2081039\ttotal: 2m 1s\tremaining: 4.68s\n",
      "963:\tlearn: 0.2080073\ttotal: 2m 1s\tremaining: 4.55s\n",
      "964:\tlearn: 0.2079705\ttotal: 2m 2s\tremaining: 4.43s\n",
      "965:\tlearn: 0.2078861\ttotal: 2m 2s\tremaining: 4.3s\n",
      "966:\tlearn: 0.2077715\ttotal: 2m 2s\tremaining: 4.17s\n",
      "967:\tlearn: 0.2076952\ttotal: 2m 2s\tremaining: 4.05s\n",
      "968:\tlearn: 0.2076201\ttotal: 2m 2s\tremaining: 3.92s\n",
      "969:\tlearn: 0.2075146\ttotal: 2m 2s\tremaining: 3.79s\n",
      "970:\tlearn: 0.2074269\ttotal: 2m 2s\tremaining: 3.67s\n",
      "971:\tlearn: 0.2073820\ttotal: 2m 2s\tremaining: 3.54s\n",
      "972:\tlearn: 0.2072855\ttotal: 2m 3s\tremaining: 3.42s\n",
      "973:\tlearn: 0.2071991\ttotal: 2m 3s\tremaining: 3.29s\n",
      "974:\tlearn: 0.2071656\ttotal: 2m 3s\tremaining: 3.16s\n",
      "975:\tlearn: 0.2070312\ttotal: 2m 3s\tremaining: 3.04s\n",
      "976:\tlearn: 0.2069651\ttotal: 2m 3s\tremaining: 2.91s\n",
      "977:\tlearn: 0.2068438\ttotal: 2m 3s\tremaining: 2.78s\n",
      "978:\tlearn: 0.2067670\ttotal: 2m 3s\tremaining: 2.66s\n",
      "979:\tlearn: 0.2066983\ttotal: 2m 4s\tremaining: 2.53s\n",
      "980:\tlearn: 0.2065556\ttotal: 2m 4s\tremaining: 2.4s\n",
      "981:\tlearn: 0.2064076\ttotal: 2m 4s\tremaining: 2.28s\n",
      "982:\tlearn: 0.2063002\ttotal: 2m 4s\tremaining: 2.15s\n",
      "983:\tlearn: 0.2061615\ttotal: 2m 4s\tremaining: 2.03s\n",
      "984:\tlearn: 0.2060237\ttotal: 2m 4s\tremaining: 1.9s\n",
      "985:\tlearn: 0.2059519\ttotal: 2m 4s\tremaining: 1.77s\n",
      "986:\tlearn: 0.2058759\ttotal: 2m 5s\tremaining: 1.65s\n",
      "987:\tlearn: 0.2057913\ttotal: 2m 5s\tremaining: 1.52s\n",
      "988:\tlearn: 0.2057431\ttotal: 2m 5s\tremaining: 1.39s\n",
      "989:\tlearn: 0.2056681\ttotal: 2m 5s\tremaining: 1.27s\n",
      "990:\tlearn: 0.2055649\ttotal: 2m 5s\tremaining: 1.14s\n",
      "991:\tlearn: 0.2054355\ttotal: 2m 5s\tremaining: 1.01s\n",
      "992:\tlearn: 0.2053503\ttotal: 2m 5s\tremaining: 887ms\n",
      "993:\tlearn: 0.2052637\ttotal: 2m 5s\tremaining: 760ms\n",
      "994:\tlearn: 0.2052186\ttotal: 2m 6s\tremaining: 634ms\n",
      "995:\tlearn: 0.2051633\ttotal: 2m 6s\tremaining: 507ms\n",
      "996:\tlearn: 0.2051169\ttotal: 2m 6s\tremaining: 380ms\n",
      "997:\tlearn: 0.2049937\ttotal: 2m 6s\tremaining: 253ms\n",
      "998:\tlearn: 0.2049180\ttotal: 2m 6s\tremaining: 127ms\n",
      "999:\tlearn: 0.2048544\ttotal: 2m 6s\tremaining: 0us\n",
      "Accuracy Score: 0.5678\n",
      "f1 Score: 0.4940\n"
     ]
    }
   ],
   "source": [
    "pred_cb_1= run_CB(_train, target, _test)"
   ]
  },
  {
   "cell_type": "code",
   "execution_count": 71,
   "metadata": {},
   "outputs": [
    {
     "data": {
      "text/plain": [
       "Counter({0.0: 2257, 1.0: 2967})"
      ]
     },
     "execution_count": 71,
     "metadata": {},
     "output_type": "execute_result"
    }
   ],
   "source": [
    "Counter(pred_cb_1)"
   ]
  },
  {
   "cell_type": "code",
   "execution_count": 140,
   "metadata": {},
   "outputs": [],
   "source": [
    "pred_cb_1= pred_cb_1.astype(int)"
   ]
  },
  {
   "cell_type": "code",
   "execution_count": 141,
   "metadata": {},
   "outputs": [],
   "source": [
    "sample_1['essay_score']= pred_cb_1"
   ]
  },
  {
   "cell_type": "code",
   "execution_count": 142,
   "metadata": {},
   "outputs": [],
   "source": [
    "sample_1.to_csv('sample_4.csv', index= False)"
   ]
  },
  {
   "cell_type": "code",
   "execution_count": 61,
   "metadata": {},
   "outputs": [],
   "source": [
    "def run_ML(model, train, target, test):\n",
    "    \n",
    "    X_train, X_test, y_train, y_test= train_test_split(train, target, test_size= 0.25, random_state= 2019)\n",
    "    \n",
    "    #model= cb.CatBoostClassifier(random_seed= 2019)\n",
    "    \n",
    "    model.fit(X_train, y_train)\n",
    "    \n",
    "    prediction= model.predict(X_test)\n",
    "    \n",
    "    print('Accuracy Score: {:.4f}' .format(accuracy_score(y_test, prediction)))\n",
    "    #print('ROC AUC Score: {:.4f}' .format(roc_auc_score(y_test, prediction_)))\n",
    "    print('f1 Score: {:.4f}' .format(f1_score(y_test, prediction, average= 'weighted')))\n",
    "    #print('The ROC CURVE (AUC): {:.4f}' .format(auc_))\n",
    "    \n",
    "    return model.predict(test)"
   ]
  },
  {
   "cell_type": "code",
   "execution_count": 62,
   "metadata": {},
   "outputs": [],
   "source": [
    "import xgboost as xgb"
   ]
  },
  {
   "cell_type": "code",
   "execution_count": 64,
   "metadata": {},
   "outputs": [],
   "source": [
    "clf_xgb= xgb.XGBClassifier(random_state= 2019)"
   ]
  },
  {
   "cell_type": "code",
   "execution_count": 75,
   "metadata": {},
   "outputs": [
    {
     "name": "stdout",
     "output_type": "stream",
     "text": [
      "Accuracy Score: 0.7391\n",
      "f1 Score: 0.7289\n"
     ]
    },
    {
     "name": "stderr",
     "output_type": "stream",
     "text": [
      "C:\\Users\\sngupta\\Anaconda3\\lib\\site-packages\\sklearn\\preprocessing\\label.py:151: DeprecationWarning: The truth value of an empty array is ambiguous. Returning False, but in future this will result in an error. Use `array.size > 0` to check that an array is not empty.\n",
      "  if diff:\n",
      "C:\\Users\\sngupta\\Anaconda3\\lib\\site-packages\\sklearn\\preprocessing\\label.py:151: DeprecationWarning: The truth value of an empty array is ambiguous. Returning False, but in future this will result in an error. Use `array.size > 0` to check that an array is not empty.\n",
      "  if diff:\n"
     ]
    }
   ],
   "source": [
    "pred_xgb_1= run_ML(clf_xgb, _train, target, _test)"
   ]
  },
  {
   "cell_type": "code",
   "execution_count": 76,
   "metadata": {},
   "outputs": [
    {
     "data": {
      "text/plain": [
       "Counter({0: 2247, 1: 1311, 2: 1606, 3: 60})"
      ]
     },
     "execution_count": 76,
     "metadata": {},
     "output_type": "execute_result"
    }
   ],
   "source": [
    "Counter(pred_xgb_1)"
   ]
  },
  {
   "cell_type": "code",
   "execution_count": 77,
   "metadata": {},
   "outputs": [],
   "source": [
    "sample_1['essay_score']= pred_xgb_1"
   ]
  },
  {
   "cell_type": "code",
   "execution_count": 78,
   "metadata": {},
   "outputs": [],
   "source": [
    "sample_1.to_csv('sample_11.csv', index= False)"
   ]
  },
  {
   "cell_type": "code",
   "execution_count": 63,
   "metadata": {},
   "outputs": [],
   "source": [
    "from sklearn.naive_bayes import GaussianNB, MultinomialNB, BernoulliNB\n",
    "from sklearn.svm import SVC"
   ]
  },
  {
   "cell_type": "code",
   "execution_count": 80,
   "metadata": {},
   "outputs": [],
   "source": [
    "clf_mnb= MultinomialNB()"
   ]
  },
  {
   "cell_type": "code",
   "execution_count": 81,
   "metadata": {},
   "outputs": [
    {
     "name": "stdout",
     "output_type": "stream",
     "text": [
      "Accuracy Score: 0.4500\n",
      "f1 Score: 0.4216\n"
     ]
    }
   ],
   "source": [
    "pred_mnb_1= run_ML(clf_mnb, _train, target, _test)"
   ]
  },
  {
   "cell_type": "code",
   "execution_count": 82,
   "metadata": {},
   "outputs": [],
   "source": [
    "clf_svc= SVC(random_state= 2019, C= 0.1)"
   ]
  },
  {
   "cell_type": "code",
   "execution_count": 83,
   "metadata": {},
   "outputs": [
    {
     "name": "stdout",
     "output_type": "stream",
     "text": [
      "Accuracy Score: 0.3934\n",
      "f1 Score: 0.2222\n"
     ]
    }
   ],
   "source": [
    "pred_svc_1= run_ML(clf_svc, _train, target, _test)"
   ]
  },
  {
   "cell_type": "code",
   "execution_count": 80,
   "metadata": {},
   "outputs": [],
   "source": [
    "from sklearn.ensemble import BaggingClassifier, AdaBoostClassifier, ExtraTreesClassifier, VotingClassifier"
   ]
  },
  {
   "cell_type": "code",
   "execution_count": 81,
   "metadata": {},
   "outputs": [],
   "source": [
    "clf_xgb_bag= BaggingClassifier(clf_xgb, random_state= 2019)"
   ]
  },
  {
   "cell_type": "code",
   "execution_count": 83,
   "metadata": {},
   "outputs": [
    {
     "name": "stdout",
     "output_type": "stream",
     "text": [
      "Accuracy Score: 0.7374\n",
      "f1 Score: 0.7282\n"
     ]
    }
   ],
   "source": [
    "pred_xgb_bag_1= run_ML(clf_xgb_bag, _train, target, _test)"
   ]
  },
  {
   "cell_type": "code",
   "execution_count": 65,
   "metadata": {},
   "outputs": [],
   "source": [
    "_train1= df_all[:len(train)]\n",
    "_test1= df_all[len(train):]"
   ]
  },
  {
   "cell_type": "code",
   "execution_count": 66,
   "metadata": {},
   "outputs": [],
   "source": [
    "for col in ['clarity', 'coherent']:\n",
    "    encoder= LabelEncoder().fit(_train1[col])\n",
    "    _train1[col]= encoder.transform(_train1[col].astype(str))\n",
    "    _test1[col]= encoder.transform(_test1[col].astype(str))"
   ]
  },
  {
   "cell_type": "code",
   "execution_count": 67,
   "metadata": {},
   "outputs": [
    {
     "data": {
      "text/html": [
       "<div>\n",
       "<style scoped>\n",
       "    .dataframe tbody tr th:only-of-type {\n",
       "        vertical-align: middle;\n",
       "    }\n",
       "\n",
       "    .dataframe tbody tr th {\n",
       "        vertical-align: top;\n",
       "    }\n",
       "\n",
       "    .dataframe thead th {\n",
       "        text-align: right;\n",
       "    }\n",
       "</style>\n",
       "<table border=\"1\" class=\"dataframe\">\n",
       "  <thead>\n",
       "    <tr style=\"text-align: right;\">\n",
       "      <th></th>\n",
       "      <th>Essayset</th>\n",
       "      <th>clarity</th>\n",
       "      <th>coherent</th>\n",
       "      <th>EssayText</th>\n",
       "      <th>num_chars</th>\n",
       "      <th>num_numeric</th>\n",
       "      <th>num_special_chars</th>\n",
       "      <th>num_stopword</th>\n",
       "      <th>num_upper_case</th>\n",
       "      <th>num_word</th>\n",
       "      <th>avg_words_len</th>\n",
       "    </tr>\n",
       "  </thead>\n",
       "  <tbody>\n",
       "    <tr>\n",
       "      <th>0</th>\n",
       "      <td>1</td>\n",
       "      <td>1</td>\n",
       "      <td>3</td>\n",
       "      <td>Some additional information that we would need...</td>\n",
       "      <td>56</td>\n",
       "      <td>0</td>\n",
       "      <td>0</td>\n",
       "      <td>28</td>\n",
       "      <td>0</td>\n",
       "      <td>56</td>\n",
       "      <td>4.625000</td>\n",
       "    </tr>\n",
       "    <tr>\n",
       "      <th>2</th>\n",
       "      <td>1</td>\n",
       "      <td>3</td>\n",
       "      <td>0</td>\n",
       "      <td>What you need is more trials, a control set up...</td>\n",
       "      <td>35</td>\n",
       "      <td>2</td>\n",
       "      <td>0</td>\n",
       "      <td>13</td>\n",
       "      <td>0</td>\n",
       "      <td>35</td>\n",
       "      <td>3.857143</td>\n",
       "    </tr>\n",
       "    <tr>\n",
       "      <th>3</th>\n",
       "      <td>1</td>\n",
       "      <td>3</td>\n",
       "      <td>3</td>\n",
       "      <td>The student should list what rock is better an...</td>\n",
       "      <td>17</td>\n",
       "      <td>0</td>\n",
       "      <td>0</td>\n",
       "      <td>9</td>\n",
       "      <td>0</td>\n",
       "      <td>17</td>\n",
       "      <td>4.235294</td>\n",
       "    </tr>\n",
       "    <tr>\n",
       "      <th>4</th>\n",
       "      <td>1</td>\n",
       "      <td>0</td>\n",
       "      <td>3</td>\n",
       "      <td>For the students to be able to make a replicat...</td>\n",
       "      <td>31</td>\n",
       "      <td>0</td>\n",
       "      <td>0</td>\n",
       "      <td>15</td>\n",
       "      <td>0</td>\n",
       "      <td>31</td>\n",
       "      <td>4.129032</td>\n",
       "    </tr>\n",
       "    <tr>\n",
       "      <th>5</th>\n",
       "      <td>1</td>\n",
       "      <td>3</td>\n",
       "      <td>3</td>\n",
       "      <td>I would need the information of why you would ...</td>\n",
       "      <td>24</td>\n",
       "      <td>0</td>\n",
       "      <td>0</td>\n",
       "      <td>11</td>\n",
       "      <td>1</td>\n",
       "      <td>24</td>\n",
       "      <td>4.416667</td>\n",
       "    </tr>\n",
       "  </tbody>\n",
       "</table>\n",
       "</div>"
      ],
      "text/plain": [
       "   Essayset  clarity  coherent  \\\n",
       "0         1        1         3   \n",
       "2         1        3         0   \n",
       "3         1        3         3   \n",
       "4         1        0         3   \n",
       "5         1        3         3   \n",
       "\n",
       "                                           EssayText  num_chars  num_numeric  \\\n",
       "0  Some additional information that we would need...         56            0   \n",
       "2  What you need is more trials, a control set up...         35            2   \n",
       "3  The student should list what rock is better an...         17            0   \n",
       "4  For the students to be able to make a replicat...         31            0   \n",
       "5  I would need the information of why you would ...         24            0   \n",
       "\n",
       "   num_special_chars  num_stopword  num_upper_case  num_word  avg_words_len  \n",
       "0                  0            28               0        56       4.625000  \n",
       "2                  0            13               0        35       3.857143  \n",
       "3                  0             9               0        17       4.235294  \n",
       "4                  0            15               0        31       4.129032  \n",
       "5                  0            11               1        24       4.416667  "
      ]
     },
     "execution_count": 67,
     "metadata": {},
     "output_type": "execute_result"
    }
   ],
   "source": [
    "_train1.head()"
   ]
  },
  {
   "cell_type": "code",
   "execution_count": 68,
   "metadata": {},
   "outputs": [],
   "source": [
    "col_to_add= _train1.columns.tolist()"
   ]
  },
  {
   "cell_type": "code",
   "execution_count": 69,
   "metadata": {},
   "outputs": [],
   "source": [
    "col_to_add.remove('EssayText')"
   ]
  },
  {
   "cell_type": "code",
   "execution_count": 70,
   "metadata": {},
   "outputs": [],
   "source": [
    "_train1= _train1.rename(columns= {'EssayText': 'tweets'})\n",
    "_test1= _test1.rename(columns= {'EssayText': 'tweets'})"
   ]
  },
  {
   "cell_type": "code",
   "execution_count": 71,
   "metadata": {},
   "outputs": [],
   "source": [
    "from scipy.sparse import hstack"
   ]
  },
  {
   "cell_type": "code",
   "execution_count": 72,
   "metadata": {},
   "outputs": [],
   "source": [
    "from sklearn.feature_extraction.text import TfidfVectorizer, CountVectorizer"
   ]
  },
  {
   "cell_type": "code",
   "execution_count": 73,
   "metadata": {},
   "outputs": [],
   "source": [
    "from sklearn.metrics import confusion_matrix, classification_report"
   ]
  },
  {
   "cell_type": "code",
   "execution_count": 74,
   "metadata": {},
   "outputs": [],
   "source": [
    "def ml_modeling(model, train, target, test, countVectorizer= True, tfidfVectorizer= False, col_to_add= col_to_add):\n",
    "    \n",
    "    X_train, X_test, y_train, y_test= train_test_split(train, target, random_state= 2019)\n",
    "    \n",
    "    if countVectorizer:\n",
    "        vect= CountVectorizer().fit(X_train['tweets'])\n",
    "        X_train_vect= vect.transform(X_train['tweets'])\n",
    "        X_test_vect= vect.transform(X_test['tweets'])\n",
    "        test_vect= vect.transform(test['tweets'])\n",
    "        \n",
    "        #now add the columns to the sparse matrix using the scipy library\n",
    "        for col in col_to_add:\n",
    "            X_train_vect= hstack((X_train_vect, np.array(X_train[col])[:, None]))\n",
    "            X_test_vect= hstack((X_test_vect, np.array(X_test[col])[:, None]))\n",
    "            test_vect= hstack((test_vect, np.array(test[col])[:, None]))\n",
    "        \n",
    "        print('X_train_vect', X_train_vect.shape)\n",
    "        print('X_test_vect', X_test_vect.shape)\n",
    "        print('test_vect', test_vect.shape)\n",
    "        \n",
    "        #modeling and prediction\n",
    "        model.fit(X_train_vect, y_train)\n",
    "        prediction= model.predict(X_test_vect)\n",
    "        \n",
    "        #print accuracies\n",
    "        train_acc= model.score(X_train_vect, y_train)\n",
    "        test_acc= accuracy_score(y_test, prediction)\n",
    "        f1= f1_score(y_test, prediction, average= 'weighted')\n",
    "        \n",
    "        print('Training accuracy: {}' .format(train_acc))\n",
    "        print('Testing accuracy: {}' .format(test_acc))\n",
    "        print('f1 score: {}' .format(f1))\n",
    "        \n",
    "        print('Classification Report: ')\n",
    "        print(classification_report(y_test, prediction))\n",
    "        \n",
    "    if tfidfVectorizer:\n",
    "        vect= TfidfVectorizer(min_df= 5, ngram_range= (1, 3)).fit(X_train['tweets'])\n",
    "        X_train_vect= vect.transform(X_train['tweets'])\n",
    "        X_test_vect= vect.transform(X_test['tweets'])\n",
    "        test_vect= vect.transform(test['tweets'])\n",
    "        \n",
    "        #now add the columns to the sparse matrix using the scipy library\n",
    "        for col in col_to_add:\n",
    "            X_train_vect= hstack((X_train_vect, np.array(X_train[col])[:, None]))\n",
    "            X_test_vect= hstack((X_test_vect, np.array(X_test[col])[:, None]))\n",
    "            test_vect= hstack((test_vect, np.array(test[col])[:, None]))\n",
    "        \n",
    "        print('X_train_vect', X_train_vect.shape)\n",
    "        print('X_test_vect', X_test_vect.shape)\n",
    "        print('test_vect', test_vect.shape)\n",
    "        \n",
    "        #modeling and prediction\n",
    "        model.fit(X_train_vect, y_train)\n",
    "        prediction= model.predict(X_test_vect)\n",
    "        \n",
    "        #print accuracies\n",
    "        train_acc= model.score(X_train_vect, y_train)\n",
    "        test_acc= accuracy_score(y_test, prediction)\n",
    "        f1= f1_score(y_test, prediction, average= 'weighted')\n",
    "        \n",
    "        print('Training accuracy: {}' .format(train_acc))\n",
    "        print('Testing accuracy: {}' .format(test_acc))\n",
    "        print('f1 score: {}' .format(f1))\n",
    "        \n",
    "        print('Classification Report: ')\n",
    "        print(classification_report(y_test, prediction))\n",
    "        \n",
    "    return model.predict(test_vect)"
   ]
  },
  {
   "cell_type": "code",
   "execution_count": 109,
   "metadata": {},
   "outputs": [
    {
     "name": "stdout",
     "output_type": "stream",
     "text": [
      "X_train_vect (12132, 13140)\n",
      "X_test_vect (4044, 13140)\n",
      "test_vect (5224, 13140)\n"
     ]
    },
    {
     "name": "stderr",
     "output_type": "stream",
     "text": [
      "C:\\Users\\sngupta\\Anaconda3\\lib\\site-packages\\sklearn\\preprocessing\\label.py:151: DeprecationWarning: The truth value of an empty array is ambiguous. Returning False, but in future this will result in an error. Use `array.size > 0` to check that an array is not empty.\n",
      "  if diff:\n",
      "C:\\Users\\sngupta\\Anaconda3\\lib\\site-packages\\sklearn\\preprocessing\\label.py:151: DeprecationWarning: The truth value of an empty array is ambiguous. Returning False, but in future this will result in an error. Use `array.size > 0` to check that an array is not empty.\n",
      "  if diff:\n"
     ]
    },
    {
     "name": "stdout",
     "output_type": "stream",
     "text": [
      "Training accuracy: 0.7905539070227497\n",
      "Testing accuracy: 0.7700296735905044\n",
      "f1 score: 0.7639548854643\n",
      "Classification Report: \n",
      "             precision    recall  f1-score   support\n",
      "\n",
      "          0       0.81      0.84      0.82      1591\n",
      "          1       0.71      0.72      0.72      1355\n",
      "          2       0.80      0.83      0.82       934\n",
      "          3       0.59      0.23      0.33       164\n",
      "\n",
      "avg / total       0.76      0.77      0.76      4044\n",
      "\n"
     ]
    },
    {
     "name": "stderr",
     "output_type": "stream",
     "text": [
      "C:\\Users\\sngupta\\Anaconda3\\lib\\site-packages\\sklearn\\preprocessing\\label.py:151: DeprecationWarning: The truth value of an empty array is ambiguous. Returning False, but in future this will result in an error. Use `array.size > 0` to check that an array is not empty.\n",
      "  if diff:\n"
     ]
    }
   ],
   "source": [
    "pred_count_xgb_1= ml_modeling(clf_xgb, _train1, target, _test1)"
   ]
  },
  {
   "cell_type": "code",
   "execution_count": 110,
   "metadata": {},
   "outputs": [
    {
     "name": "stdout",
     "output_type": "stream",
     "text": [
      "X_train_vect (12132, 28378)\n",
      "X_test_vect (4044, 28378)\n",
      "test_vect (5224, 28378)\n"
     ]
    },
    {
     "name": "stderr",
     "output_type": "stream",
     "text": [
      "C:\\Users\\sngupta\\Anaconda3\\lib\\site-packages\\sklearn\\preprocessing\\label.py:151: DeprecationWarning: The truth value of an empty array is ambiguous. Returning False, but in future this will result in an error. Use `array.size > 0` to check that an array is not empty.\n",
      "  if diff:\n",
      "C:\\Users\\sngupta\\Anaconda3\\lib\\site-packages\\sklearn\\preprocessing\\label.py:151: DeprecationWarning: The truth value of an empty array is ambiguous. Returning False, but in future this will result in an error. Use `array.size > 0` to check that an array is not empty.\n",
      "  if diff:\n"
     ]
    },
    {
     "name": "stdout",
     "output_type": "stream",
     "text": [
      "Training accuracy: 0.8028354764259809\n",
      "Testing accuracy: 0.7764589515331355\n",
      "f1 score: 0.7712290475302479\n",
      "Classification Report: \n",
      "             precision    recall  f1-score   support\n",
      "\n",
      "          0       0.81      0.84      0.83      1591\n",
      "          1       0.72      0.72      0.72      1355\n",
      "          2       0.81      0.83      0.82       934\n",
      "          3       0.64      0.27      0.38       164\n",
      "\n",
      "avg / total       0.77      0.78      0.77      4044\n",
      "\n"
     ]
    },
    {
     "name": "stderr",
     "output_type": "stream",
     "text": [
      "C:\\Users\\sngupta\\Anaconda3\\lib\\site-packages\\sklearn\\preprocessing\\label.py:151: DeprecationWarning: The truth value of an empty array is ambiguous. Returning False, but in future this will result in an error. Use `array.size > 0` to check that an array is not empty.\n",
      "  if diff:\n"
     ]
    }
   ],
   "source": [
    "pred_tfidf_xgb_1= ml_modeling(clf_xgb, _train1, target, _test1, False, True)"
   ]
  },
  {
   "cell_type": "code",
   "execution_count": 111,
   "metadata": {},
   "outputs": [
    {
     "data": {
      "text/plain": [
       "Counter({0: 2317, 1: 1236, 2: 1575, 3: 96})"
      ]
     },
     "execution_count": 111,
     "metadata": {},
     "output_type": "execute_result"
    }
   ],
   "source": [
    "Counter(pred_tfidf_xgb_1)"
   ]
  },
  {
   "cell_type": "code",
   "execution_count": 114,
   "metadata": {},
   "outputs": [],
   "source": [
    "sample_1['essay_score']= pred_tfidf_xgb_1"
   ]
  },
  {
   "cell_type": "code",
   "execution_count": 115,
   "metadata": {},
   "outputs": [],
   "source": [
    "sample_1.to_csv('sample_12.csv', index= False)"
   ]
  },
  {
   "cell_type": "code",
   "execution_count": 116,
   "metadata": {},
   "outputs": [],
   "source": [
    "sample_1['essay_score']= pred_count_xgb_1"
   ]
  },
  {
   "cell_type": "code",
   "execution_count": 117,
   "metadata": {},
   "outputs": [],
   "source": [
    "sample_1.to_csv('sample_13.csv', index= False)"
   ]
  },
  {
   "cell_type": "code",
   "execution_count": 77,
   "metadata": {},
   "outputs": [],
   "source": [
    "clf_lgbm= lgbm.LGBMClassifier(random_state= 2019)"
   ]
  },
  {
   "cell_type": "code",
   "execution_count": 120,
   "metadata": {},
   "outputs": [
    {
     "name": "stdout",
     "output_type": "stream",
     "text": [
      "X_train_vect (12132, 13140)\n",
      "X_test_vect (4044, 13140)\n",
      "test_vect (5224, 13140)\n"
     ]
    },
    {
     "name": "stderr",
     "output_type": "stream",
     "text": [
      "C:\\Users\\sngupta\\Anaconda3\\lib\\site-packages\\sklearn\\preprocessing\\label.py:151: DeprecationWarning: The truth value of an empty array is ambiguous. Returning False, but in future this will result in an error. Use `array.size > 0` to check that an array is not empty.\n",
      "  if diff:\n",
      "C:\\Users\\sngupta\\Anaconda3\\lib\\site-packages\\sklearn\\preprocessing\\label.py:151: DeprecationWarning: The truth value of an empty array is ambiguous. Returning False, but in future this will result in an error. Use `array.size > 0` to check that an array is not empty.\n",
      "  if diff:\n"
     ]
    },
    {
     "name": "stdout",
     "output_type": "stream",
     "text": [
      "Training accuracy: 0.9096604022420046\n",
      "Testing accuracy: 0.8039070227497527\n",
      "f1 score: 0.8019038972517816\n",
      "Classification Report: \n",
      "             precision    recall  f1-score   support\n",
      "\n",
      "          0       0.84      0.87      0.85      1591\n",
      "          1       0.77      0.75      0.76      1355\n",
      "          2       0.83      0.84      0.83       934\n",
      "          3       0.58      0.45      0.50       164\n",
      "\n",
      "avg / total       0.80      0.80      0.80      4044\n",
      "\n"
     ]
    },
    {
     "name": "stderr",
     "output_type": "stream",
     "text": [
      "C:\\Users\\sngupta\\Anaconda3\\lib\\site-packages\\sklearn\\preprocessing\\label.py:151: DeprecationWarning: The truth value of an empty array is ambiguous. Returning False, but in future this will result in an error. Use `array.size > 0` to check that an array is not empty.\n",
      "  if diff:\n"
     ]
    }
   ],
   "source": [
    "pred_count_lgbm_1= ml_modeling(clf_lgbm, _train1, target, _test1)"
   ]
  },
  {
   "cell_type": "code",
   "execution_count": 121,
   "metadata": {},
   "outputs": [
    {
     "name": "stdout",
     "output_type": "stream",
     "text": [
      "X_train_vect (12132, 28378)\n",
      "X_test_vect (4044, 28378)\n",
      "test_vect (5224, 28378)\n"
     ]
    },
    {
     "name": "stderr",
     "output_type": "stream",
     "text": [
      "C:\\Users\\sngupta\\Anaconda3\\lib\\site-packages\\sklearn\\preprocessing\\label.py:151: DeprecationWarning: The truth value of an empty array is ambiguous. Returning False, but in future this will result in an error. Use `array.size > 0` to check that an array is not empty.\n",
      "  if diff:\n",
      "C:\\Users\\sngupta\\Anaconda3\\lib\\site-packages\\sklearn\\preprocessing\\label.py:151: DeprecationWarning: The truth value of an empty array is ambiguous. Returning False, but in future this will result in an error. Use `array.size > 0` to check that an array is not empty.\n",
      "  if diff:\n"
     ]
    },
    {
     "name": "stdout",
     "output_type": "stream",
     "text": [
      "Training accuracy: 0.9413946587537092\n",
      "Testing accuracy: 0.8009396636993076\n",
      "f1 score: 0.7981759006688851\n",
      "Classification Report: \n",
      "             precision    recall  f1-score   support\n",
      "\n",
      "          0       0.83      0.88      0.85      1591\n",
      "          1       0.77      0.74      0.76      1355\n",
      "          2       0.81      0.83      0.82       934\n",
      "          3       0.56      0.41      0.47       164\n",
      "\n",
      "avg / total       0.80      0.80      0.80      4044\n",
      "\n"
     ]
    },
    {
     "name": "stderr",
     "output_type": "stream",
     "text": [
      "C:\\Users\\sngupta\\Anaconda3\\lib\\site-packages\\sklearn\\preprocessing\\label.py:151: DeprecationWarning: The truth value of an empty array is ambiguous. Returning False, but in future this will result in an error. Use `array.size > 0` to check that an array is not empty.\n",
      "  if diff:\n"
     ]
    }
   ],
   "source": [
    "pred_tfidf_lgbm_1= ml_modeling(clf_lgbm, _train1, target, _test1, False, True)"
   ]
  },
  {
   "cell_type": "code",
   "execution_count": 122,
   "metadata": {},
   "outputs": [
    {
     "data": {
      "text/plain": [
       "(Counter({0: 2254, 1: 1302, 2: 1448, 3: 220}),\n",
       " Counter({0: 2268, 1: 1294, 2: 1463, 3: 199}))"
      ]
     },
     "execution_count": 122,
     "metadata": {},
     "output_type": "execute_result"
    }
   ],
   "source": [
    "Counter(pred_count_lgbm_1), Counter(pred_tfidf_lgbm_1)"
   ]
  },
  {
   "cell_type": "code",
   "execution_count": 123,
   "metadata": {},
   "outputs": [],
   "source": [
    "sample_1['essay_score']= pred_count_lgbm_1\n",
    "sample_1.to_csv('sample_14.csv', index= False)"
   ]
  },
  {
   "cell_type": "code",
   "execution_count": 124,
   "metadata": {},
   "outputs": [],
   "source": [
    "sample_1['essay_score']= pred_tfidf_lgbm_1\n",
    "sample_1.to_csv('sample_15.csv', index= False)"
   ]
  },
  {
   "cell_type": "code",
   "execution_count": 82,
   "metadata": {},
   "outputs": [],
   "source": [
    "def ml_modeling(model, train, target, test, countVectorizer= True, tfidfVectorizer= False, col_to_add= col_to_add):\n",
    "    \n",
    "    X_train, X_test, y_train, y_test= train_test_split(train, target, random_state= 2019)\n",
    "    \n",
    "    if countVectorizer:\n",
    "        vect= CountVectorizer(ngram_range= (1, 3)).fit(X_train['tweets'])\n",
    "        X_train_vect= vect.transform(X_train['tweets'])\n",
    "        X_test_vect= vect.transform(X_test['tweets'])\n",
    "        test_vect= vect.transform(test['tweets'])\n",
    "        \n",
    "        #now add the columns to the sparse matrix using the scipy library\n",
    "        for col in col_to_add:\n",
    "            X_train_vect= hstack((X_train_vect, np.array(X_train[col])[:, None]))\n",
    "            X_test_vect= hstack((X_test_vect, np.array(X_test[col])[:, None]))\n",
    "            test_vect= hstack((test_vect, np.array(test[col])[:, None]))\n",
    "        \n",
    "        print('X_train_vect', X_train_vect.shape)\n",
    "        print('X_test_vect', X_test_vect.shape)\n",
    "        print('test_vect', test_vect.shape)\n",
    "        \n",
    "        #modeling and prediction\n",
    "        model.fit(X_train_vect, y_train)\n",
    "        prediction= model.predict(X_test_vect)\n",
    "        \n",
    "        #print accuracies\n",
    "        train_acc= model.score(X_train_vect, y_train)\n",
    "        test_acc= accuracy_score(y_test, prediction)\n",
    "        f1= f1_score(y_test, prediction, average= 'weighted')\n",
    "        \n",
    "        print('Training accuracy: {}' .format(train_acc))\n",
    "        print('Testing accuracy: {}' .format(test_acc))\n",
    "        print('f1 score: {}' .format(f1))\n",
    "        \n",
    "        print('Classification Report: ')\n",
    "        print(classification_report(y_test, prediction))\n",
    "        \n",
    "    if tfidfVectorizer:\n",
    "        vect_word= TfidfVectorizer(min_df= 5, ngram_range= (1, 3)).fit(X_train['tweets'])\n",
    "        X_train_vect= vect_word.transform(X_train['tweets'])\n",
    "        X_test_vect= vect_word.transform(X_test['tweets'])\n",
    "        test_vect= vect_word.transform(test['tweets'])\n",
    "        \n",
    "        vect_char= TfidfVectorizer(min_df= 5, analyzer= 'char', ngram_range= (1, 3)).fit(X_train['tweets'])\n",
    "        X_train_char= vect_char.transform(X_train['tweets'])\n",
    "        X_test_char= vect_char.transform(X_test['tweets'])\n",
    "        test_char= vect_char.transform(test['tweets'])\n",
    "        \n",
    "        X_train_vect= hstack((X_train_vect, X_train_char))\n",
    "        X_test_vect= hstack((X_test_vect, X_test_char))\n",
    "        test_vect= hstack((test_vect, test_char))\n",
    "        \n",
    "        #now add the columns to the sparse matrix using the scipy library\n",
    "        for col in col_to_add:\n",
    "            X_train_vect= hstack((X_train_vect, np.array(X_train[col])[:, None]))\n",
    "            X_test_vect= hstack((X_test_vect, np.array(X_test[col])[:, None]))\n",
    "            test_vect= hstack((test_vect, np.array(test[col])[:, None]))\n",
    "        \n",
    "        print('X_train_vect', X_train_vect.shape)\n",
    "        print('X_test_vect', X_test_vect.shape)\n",
    "        print('test_vect', test_vect.shape)\n",
    "        \n",
    "        #modeling and prediction\n",
    "        model.fit(X_train_vect, y_train)\n",
    "        prediction= model.predict(X_test_vect)\n",
    "        \n",
    "        #print accuracies\n",
    "        train_acc= model.score(X_train_vect, y_train)\n",
    "        test_acc= accuracy_score(y_test, prediction)\n",
    "        f1= f1_score(y_test, prediction, average= 'weighted')\n",
    "        \n",
    "        print('Training accuracy: {}' .format(train_acc))\n",
    "        print('Testing accuracy: {}' .format(test_acc))\n",
    "        print('f1 score: {}' .format(f1))\n",
    "        \n",
    "        print('Classification Report: ')\n",
    "        print(classification_report(y_test, prediction))\n",
    "        \n",
    "    return model.predict(test_vect), X_train_vect, X_test_vect, test_vect"
   ]
  },
  {
   "cell_type": "code",
   "execution_count": 83,
   "metadata": {},
   "outputs": [
    {
     "name": "stdout",
     "output_type": "stream",
     "text": [
      "X_train_vect (12132, 34889)\n",
      "X_test_vect (4044, 34889)\n",
      "test_vect (5224, 34889)\n"
     ]
    },
    {
     "name": "stderr",
     "output_type": "stream",
     "text": [
      "C:\\Users\\sngupta\\Anaconda3\\lib\\site-packages\\sklearn\\preprocessing\\label.py:151: DeprecationWarning: The truth value of an empty array is ambiguous. Returning False, but in future this will result in an error. Use `array.size > 0` to check that an array is not empty.\n",
      "  if diff:\n",
      "C:\\Users\\sngupta\\Anaconda3\\lib\\site-packages\\sklearn\\preprocessing\\label.py:151: DeprecationWarning: The truth value of an empty array is ambiguous. Returning False, but in future this will result in an error. Use `array.size > 0` to check that an array is not empty.\n",
      "  if diff:\n"
     ]
    },
    {
     "name": "stdout",
     "output_type": "stream",
     "text": [
      "Training accuracy: 0.976178700956149\n",
      "Testing accuracy: 0.8118199802176064\n",
      "f1 score: 0.809761500545742\n",
      "Classification Report: \n",
      "             precision    recall  f1-score   support\n",
      "\n",
      "          0       0.85      0.88      0.86      1591\n",
      "          1       0.78      0.76      0.77      1355\n",
      "          2       0.82      0.84      0.83       934\n",
      "          3       0.58      0.45      0.50       164\n",
      "\n",
      "avg / total       0.81      0.81      0.81      4044\n",
      "\n"
     ]
    },
    {
     "name": "stderr",
     "output_type": "stream",
     "text": [
      "C:\\Users\\sngupta\\Anaconda3\\lib\\site-packages\\sklearn\\preprocessing\\label.py:151: DeprecationWarning: The truth value of an empty array is ambiguous. Returning False, but in future this will result in an error. Use `array.size > 0` to check that an array is not empty.\n",
      "  if diff:\n"
     ]
    }
   ],
   "source": [
    "pred_tfidf_lgbm_2, train_vect, valid_vect, test_vect= ml_modeling(clf_lgbm, _train1, target, _test1, False, True)"
   ]
  },
  {
   "cell_type": "code",
   "execution_count": 84,
   "metadata": {},
   "outputs": [],
   "source": [
    "sample_1['essay_score']= pred_tfidf_lgbm_2"
   ]
  },
  {
   "cell_type": "code",
   "execution_count": 85,
   "metadata": {},
   "outputs": [],
   "source": [
    "sample_1.to_csv('sample_17.csv', index= False)"
   ]
  },
  {
   "cell_type": "code",
   "execution_count": 86,
   "metadata": {},
   "outputs": [],
   "source": [
    "from keras.models import Sequential\n",
    "from keras.layers import Dense, Dropout, LeakyReLU, Activation\n",
    "from keras.losses import binary_crossentropy, categorical_crossentropy, sparse_categorical_crossentropy\n",
    "from keras.optimizers import SGD, Adam"
   ]
  },
  {
   "cell_type": "code",
   "execution_count": 90,
   "metadata": {},
   "outputs": [],
   "source": [
    "#Created a function that vectorize the nlp data\n",
    "def vectorize_data(train, test, col_to_add= col_to_add):\n",
    "    #only using tfidf vectorizer\n",
    "    vect_word= TfidfVectorizer(min_df= 5, ngram_range= (1, 3)).fit(train['tweets'])\n",
    "    train_vect= vect_word.transform(train['tweets'])\n",
    "    #test_vect= vect_word.transform(X_test['tweets'])\n",
    "    test_vect= vect_word.transform(test['tweets'])\n",
    "\n",
    "    vect_char= TfidfVectorizer(min_df= 5, analyzer= 'char', ngram_range= (1, 3)).fit(train['tweets'])\n",
    "    train_char= vect_char.transform(train['tweets'])\n",
    "    #X_test_char= vect_char.transform(X_test['tweets'])\n",
    "    test_char= vect_char.transform(test['tweets'])\n",
    "\n",
    "    train_vect= hstack((train_vect, train_char))\n",
    "    #X_test_vect= hstack((X_test_vect, X_test_char))\n",
    "    test_vect= hstack((test_vect, test_char))\n",
    "    \n",
    "    #now add the columns to the sparse matrix using the scipy library\n",
    "    for col in col_to_add:\n",
    "        train_vect= hstack((train_vect, np.array(train[col])[:, None]))\n",
    "        #X_test_vect= hstack((X_test_vect, np.array(X_test[col])[:, None]))\n",
    "        test_vect= hstack((test_vect, np.array(test[col])[:, None]))\n",
    "        \n",
    "    return train_vect, test_vect"
   ]
  },
  {
   "cell_type": "code",
   "execution_count": 91,
   "metadata": {},
   "outputs": [],
   "source": [
    "_train_vect, _test_vect= vectorize_data(_train1, _test1)"
   ]
  },
  {
   "cell_type": "code",
   "execution_count": 92,
   "metadata": {},
   "outputs": [
    {
     "data": {
      "text/plain": [
       "((16176, 43667),\n",
       " (5224, 43667),\n",
       " scipy.sparse.coo.coo_matrix,\n",
       " scipy.sparse.coo.coo_matrix)"
      ]
     },
     "execution_count": 92,
     "metadata": {},
     "output_type": "execute_result"
    }
   ],
   "source": [
    "_train_vect.shape, _test_vect.shape, type(_train_vect), type(_test_vect)"
   ]
  },
  {
   "cell_type": "code",
   "execution_count": 93,
   "metadata": {},
   "outputs": [],
   "source": [
    "_train_vect= csr_matrix(_train_vect)\n",
    "#valid_vect= csr_matrix(valid_vect)\n",
    "_test_vect= csr_matrix(_test_vect)"
   ]
  },
  {
   "cell_type": "code",
   "execution_count": 94,
   "metadata": {},
   "outputs": [
    {
     "data": {
      "text/plain": [
       "(scipy.sparse.csr.csr_matrix,\n",
       " scipy.sparse.csr.csr_matrix,\n",
       " (16176, 43667),\n",
       " (5224, 43667))"
      ]
     },
     "execution_count": 94,
     "metadata": {},
     "output_type": "execute_result"
    }
   ],
   "source": [
    "type(_train_vect), type(_test_vect), _train_vect.shape, _test_vect.shape"
   ]
  },
  {
   "cell_type": "code",
   "execution_count": 95,
   "metadata": {},
   "outputs": [],
   "source": [
    "#now using this data in NN\n",
    "X_train, X_test, y_train, y_test= train_test_split(_train_vect, target, test_size= 0.25, random_state= 2019)"
   ]
  },
  {
   "cell_type": "code",
   "execution_count": 96,
   "metadata": {},
   "outputs": [],
   "source": [
    "input_shape= X_train.shape[1]"
   ]
  },
  {
   "cell_type": "code",
   "execution_count": 101,
   "metadata": {},
   "outputs": [
    {
     "name": "stdout",
     "output_type": "stream",
     "text": [
      "Train on 12132 samples, validate on 4044 samples\n",
      "Epoch 1/15\n",
      "12132/12132 [==============================] - 22s 2ms/step - loss: 0.9857 - acc: 0.5706 - val_loss: 0.7510 - val_acc: 0.6798\n",
      "Epoch 2/15\n",
      "12132/12132 [==============================] - 20s 2ms/step - loss: 0.6217 - acc: 0.7453 - val_loss: 0.5941 - val_acc: 0.7418\n",
      "Epoch 3/15\n",
      "12132/12132 [==============================] - 20s 2ms/step - loss: 0.4404 - acc: 0.8347 - val_loss: 0.5287 - val_acc: 0.7718\n",
      "Epoch 4/15\n",
      "12132/12132 [==============================] - 21s 2ms/step - loss: 0.3168 - acc: 0.8959 - val_loss: 0.5174 - val_acc: 0.7762\n",
      "Epoch 5/15\n",
      "12132/12132 [==============================] - 21s 2ms/step - loss: 0.2311 - acc: 0.9322 - val_loss: 0.6311 - val_acc: 0.7352\n",
      "Epoch 6/15\n",
      "12132/12132 [==============================] - 20s 2ms/step - loss: 0.1861 - acc: 0.9453 - val_loss: 0.6344 - val_acc: 0.7347\n",
      "Epoch 7/15\n",
      "12132/12132 [==============================] - 21s 2ms/step - loss: 0.1528 - acc: 0.9568 - val_loss: 0.8840 - val_acc: 0.6803\n",
      "Epoch 8/15\n",
      "12132/12132 [==============================] - 21s 2ms/step - loss: 0.1185 - acc: 0.9676 - val_loss: 0.8371 - val_acc: 0.7033\n",
      "Epoch 9/15\n",
      "12132/12132 [==============================] - 21s 2ms/step - loss: 0.0934 - acc: 0.9758 - val_loss: 0.6947 - val_acc: 0.7473\n",
      "Epoch 10/15\n",
      "12132/12132 [==============================] - 21s 2ms/step - loss: 0.0546 - acc: 0.9923 - val_loss: 0.7705 - val_acc: 0.7337\n",
      "Epoch 11/15\n",
      "12132/12132 [==============================] - 21s 2ms/step - loss: 0.0445 - acc: 0.9953 - val_loss: 0.9857 - val_acc: 0.7090\n",
      "Epoch 12/15\n",
      "12132/12132 [==============================] - 21s 2ms/step - loss: 0.0450 - acc: 0.9937 - val_loss: 1.4754 - val_acc: 0.6617\n",
      "Epoch 13/15\n",
      "12132/12132 [==============================] - 21s 2ms/step - loss: 0.0556 - acc: 0.9871 - val_loss: 1.1207 - val_acc: 0.6958\n",
      "Epoch 14/15\n",
      "12132/12132 [==============================] - 21s 2ms/step - loss: 0.0629 - acc: 0.9805 - val_loss: 0.7964 - val_acc: 0.7488\n",
      "Epoch 15/15\n",
      "12132/12132 [==============================] - 21s 2ms/step - loss: 0.0264 - acc: 0.9965 - val_loss: 0.9036 - val_acc: 0.7391\n",
      "12132/12132 [==============================] - 7s 549us/step\n",
      "Detail of training losses and accuracies:  [0.029930579001952957, 0.9953016815034619]\n",
      "Testing accuracy: 0.7391196834817013\n",
      "f1 score: 0.7288480121385342\n"
     ]
    }
   ],
   "source": [
    "model= Sequential()\n",
    "model.add(Dense(units= 100, activation= 'relu', input_dim= input_shape, kernel_initializer= 'uniform'))\n",
    "model.add(Dense(units= 20, activation= 'relu'))\n",
    "#model.add(Dense(units= 20, activation= 'relu'))\n",
    "model.add(Dense(units= 4, activation= 'softmax'))\n",
    "\n",
    "#sgd= SGD(lr= 0.1)\n",
    "\n",
    "model.compile(optimizer= 'adam', loss= 'sparse_categorical_crossentropy', metrics= ['accuracy'])\n",
    "model.fit(x= X_train, y= y_train, batch_size= 128, epochs= 15, shuffle= False,\n",
    "          validation_data= (X_test, y_test))\n",
    "\n",
    "y_pred= model.predict_classes(X_test, batch_size= 128)\n",
    "\n",
    "#print accuracies\n",
    "train_acc= model.evaluate(X_train, y_train, batch_size= 128)\n",
    "test_acc= accuracy_score(y_test, y_pred)\n",
    "f1= f1_score(y_test, y_pred, average= 'weighted')\n",
    "\n",
    "print('Detail of training losses and accuracies: ', train_acc)\n",
    "print('Testing accuracy: {}' .format(test_acc))\n",
    "print('f1 score: {}' .format(f1))\n",
    "\n",
    "y_pred_real= model.predict_classes(_test_vect)"
   ]
  },
  {
   "cell_type": "code",
   "execution_count": 102,
   "metadata": {},
   "outputs": [
    {
     "data": {
      "text/plain": [
       "Counter({0: 2357, 1: 1050, 2: 1595, 3: 222})"
      ]
     },
     "execution_count": 102,
     "metadata": {},
     "output_type": "execute_result"
    }
   ],
   "source": [
    "Counter(y_pred_real)"
   ]
  },
  {
   "cell_type": "code",
   "execution_count": 103,
   "metadata": {},
   "outputs": [],
   "source": [
    "sample_1['essay_score']= y_pred_real"
   ]
  },
  {
   "cell_type": "code",
   "execution_count": 104,
   "metadata": {},
   "outputs": [],
   "source": [
    "sample_1.to_csv('sample_18.csv', index= False)"
   ]
  },
  {
   "cell_type": "code",
   "execution_count": 105,
   "metadata": {},
   "outputs": [],
   "source": [
    "def run_LGBM(X_train, X_test, y_train, y_test):\n",
    "    np.random.seed(2019)\n",
    "    \n",
    "    #X_train, X_test, y_train, y_test= train_test_split(train, target, test_size= 0.30, random_state= 2019)\n",
    "    #print(X_train.shape, X_test.shape, y_train.shape, y_test.shape)\n",
    "    dtrain= lgbm.Dataset(X_train, y_train)\n",
    "    dtest= lgbm.Dataset(X_test, y_test)\n",
    "    \n",
    "    param_lgbm= {}\n",
    "    param_lgbm['learning_rate']= 0.03\n",
    "    #param_lgbm['num_leaves']= 21\n",
    "    param_lgbm['objective']= 'multiclass'\n",
    "    param_lgbm['num_iterations']= 10000\n",
    "    param_lgbm['seed']= 2019\n",
    "    param_lgbm['num_class']= 4\n",
    "    #param_lgbm['metric']= 'auc'\n",
    "    #param_lgbm['is_unbalance']= True\n",
    "    \n",
    "    model= lgbm.train(param_lgbm, dtrain, valid_sets= (dtrain, dtest), valid_names= ('train', 'valid'), \n",
    "                      verbose_eval= 100, early_stopping_rounds= 50)\n",
    "    \n",
    "    prediction= model.predict(X_test)\n",
    "    \n",
    "    #prediction_= np.round(prediction).astype(int)\n",
    "    \n",
    "    #fpr, tpr, _ = roc_curve(y_test, prediction)\n",
    "    \n",
    "    #auc_= auc(fpr, tpr)\n",
    "    #prediction= np.argsort(prediction)\n",
    "    #prediction= prediction.flatten()\n",
    "    prediction= [np.argmax(line) for line in prediction]\n",
    "        \n",
    "    \n",
    "    print('Accuracy Score: {:.4f}' .format(accuracy_score(y_test, prediction)))\n",
    "    #print('ROC AUC Score: {:.4f}' .format(roc_auc_score(y_test, prediction_)))\n",
    "    print('f1 Score: {:.4f}' .format(f1_score(y_test, prediction, average= 'weighted')))\n",
    "    #print('The ROC CURVE (AUC): {:.4f}' .format(auc_))\n",
    "    \n",
    "    return model"
   ]
  },
  {
   "cell_type": "code",
   "execution_count": 106,
   "metadata": {},
   "outputs": [
    {
     "name": "stdout",
     "output_type": "stream",
     "text": [
      "Training until validation scores don't improve for 50 rounds.\n",
      "[100]\ttrain's multi_logloss: 0.431488\tvalid's multi_logloss: 0.529365\n",
      "[200]\ttrain's multi_logloss: 0.271851\tvalid's multi_logloss: 0.446231\n",
      "[300]\ttrain's multi_logloss: 0.196209\tvalid's multi_logloss: 0.424277\n",
      "[400]\ttrain's multi_logloss: 0.148319\tvalid's multi_logloss: 0.417715\n",
      "[500]\ttrain's multi_logloss: 0.114714\tvalid's multi_logloss: 0.415945\n",
      "Early stopping, best iteration is:\n",
      "[506]\ttrain's multi_logloss: 0.113005\tvalid's multi_logloss: 0.41578\n",
      "Accuracy Score: 0.8140\n",
      "f1 Score: 0.8116\n"
     ]
    }
   ],
   "source": [
    "model_lgbm_1= run_LGBM(X_train, X_test, y_train, y_test)"
   ]
  },
  {
   "cell_type": "code",
   "execution_count": 107,
   "metadata": {},
   "outputs": [],
   "source": [
    "pred_tfidf_lgbm_3= model_lgbm_1.predict(_test_vect)"
   ]
  },
  {
   "cell_type": "code",
   "execution_count": 108,
   "metadata": {},
   "outputs": [],
   "source": [
    "pred_tfidf_lgbm_3= [np.argmax(line) for line in pred_tfidf_lgbm_3]"
   ]
  },
  {
   "cell_type": "code",
   "execution_count": 109,
   "metadata": {},
   "outputs": [
    {
     "data": {
      "text/plain": [
       "Counter({0: 2266, 1: 1304, 2: 1467, 3: 187})"
      ]
     },
     "execution_count": 109,
     "metadata": {},
     "output_type": "execute_result"
    }
   ],
   "source": [
    "Counter(pred_tfidf_lgbm_3)"
   ]
  },
  {
   "cell_type": "code",
   "execution_count": 110,
   "metadata": {},
   "outputs": [],
   "source": [
    "sample_1['essay_score']= pred_tfidf_lgbm_3"
   ]
  },
  {
   "cell_type": "code",
   "execution_count": 111,
   "metadata": {},
   "outputs": [],
   "source": [
    "sample_1.to_csv('sample_19.csv', index= False)"
   ]
  },
  {
   "cell_type": "code",
   "execution_count": null,
   "metadata": {},
   "outputs": [],
   "source": []
  }
 ],
 "metadata": {
  "kernelspec": {
   "display_name": "Python 3",
   "language": "python",
   "name": "python3"
  },
  "language_info": {
   "codemirror_mode": {
    "name": "ipython",
    "version": 3
   },
   "file_extension": ".py",
   "mimetype": "text/x-python",
   "name": "python",
   "nbconvert_exporter": "python",
   "pygments_lexer": "ipython3",
   "version": "3.6.6"
  }
 },
 "nbformat": 4,
 "nbformat_minor": 2
}
