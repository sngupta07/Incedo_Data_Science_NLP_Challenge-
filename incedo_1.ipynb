{
 "cells": [
  {
   "cell_type": "markdown",
   "metadata": {},
   "source": [
    "## Problem Statement\n",
    "\n",
    "In this problem I have to predict the addiction probability to drugs"
   ]
  },
  {
   "cell_type": "code",
   "execution_count": 1,
   "metadata": {},
   "outputs": [
    {
     "name": "stderr",
     "output_type": "stream",
     "text": [
      "C:\\Users\\sngupta\\Anaconda3\\lib\\site-packages\\statsmodels\\compat\\pandas.py:56: FutureWarning: The pandas.core.datetools module is deprecated and will be removed in a future version. Please use the pandas.tseries module instead.\n",
      "  from pandas.core import datetools\n"
     ]
    }
   ],
   "source": [
    "#Import dependencies\n",
    "import numpy as np\n",
    "import pandas as pd\n",
    "import matplotlib.pyplot as plt\n",
    "import seaborn as sns\n",
    "import scipy.stats as st\n",
    "import statsmodels.api as sm\n",
    "from collections import Counter"
   ]
  },
  {
   "cell_type": "code",
   "execution_count": 2,
   "metadata": {},
   "outputs": [],
   "source": [
    "import warnings\n",
    "warnings.filterwarnings('ignore')"
   ]
  },
  {
   "cell_type": "code",
   "execution_count": 3,
   "metadata": {},
   "outputs": [],
   "source": [
    "%matplotlib inline"
   ]
  },
  {
   "cell_type": "code",
   "execution_count": 4,
   "metadata": {},
   "outputs": [],
   "source": [
    "sns.set(color_codes= True, palette= 'muted')\n",
    "\n",
    "pd.options.display.max_columns= 1000\n",
    "pd.options.display.max_rows= 1000"
   ]
  },
  {
   "cell_type": "code",
   "execution_count": 5,
   "metadata": {},
   "outputs": [],
   "source": [
    "#Data Reading\n",
    "train= pd.read_csv('train_file.csv')\n",
    "test= pd.read_csv('test_file.csv')\n",
    "sample= pd.read_excel('sample_submission08f968d.xlsx')"
   ]
  },
  {
   "cell_type": "code",
   "execution_count": 6,
   "metadata": {},
   "outputs": [
    {
     "data": {
      "text/html": [
       "<div>\n",
       "<style scoped>\n",
       "    .dataframe tbody tr th:only-of-type {\n",
       "        vertical-align: middle;\n",
       "    }\n",
       "\n",
       "    .dataframe tbody tr th {\n",
       "        vertical-align: top;\n",
       "    }\n",
       "\n",
       "    .dataframe thead th {\n",
       "        text-align: right;\n",
       "    }\n",
       "</style>\n",
       "<table border=\"1\" class=\"dataframe\">\n",
       "  <thead>\n",
       "    <tr style=\"text-align: right;\">\n",
       "      <th></th>\n",
       "      <th>Patient_ID</th>\n",
       "      <th>YEAR</th>\n",
       "      <th>LocationDesc</th>\n",
       "      <th>Subtopic</th>\n",
       "      <th>Greater_Risk_Question</th>\n",
       "      <th>Description</th>\n",
       "      <th>Sample_Size</th>\n",
       "      <th>Sex</th>\n",
       "      <th>Race</th>\n",
       "      <th>Grade</th>\n",
       "      <th>GeoLocation</th>\n",
       "      <th>QuestionCode</th>\n",
       "      <th>StratID1</th>\n",
       "      <th>StratID2</th>\n",
       "      <th>StratID3</th>\n",
       "      <th>StratificationType</th>\n",
       "      <th>Greater_Risk_Probability</th>\n",
       "    </tr>\n",
       "  </thead>\n",
       "  <tbody>\n",
       "    <tr>\n",
       "      <th>0</th>\n",
       "      <td>1</td>\n",
       "      <td>1995</td>\n",
       "      <td>Houston, TX</td>\n",
       "      <td>1</td>\n",
       "      <td>Ever used cocaine</td>\n",
       "      <td>any form of cocaine, such as powder, crack, or...</td>\n",
       "      <td>335.0</td>\n",
       "      <td>Female</td>\n",
       "      <td>Hispanic or Latino</td>\n",
       "      <td>4</td>\n",
       "      <td>(29.760427, -95.369803)</td>\n",
       "      <td>H49</td>\n",
       "      <td>1</td>\n",
       "      <td>4</td>\n",
       "      <td>0</td>\n",
       "      <td>Local</td>\n",
       "      <td>7.4793</td>\n",
       "    </tr>\n",
       "    <tr>\n",
       "      <th>1</th>\n",
       "      <td>2</td>\n",
       "      <td>1997</td>\n",
       "      <td>Houston, TX</td>\n",
       "      <td>0</td>\n",
       "      <td>Currently drank alcohol</td>\n",
       "      <td>at least one drink of alcohol, on at least 1 d...</td>\n",
       "      <td>382.0</td>\n",
       "      <td>Total</td>\n",
       "      <td>Black or African American</td>\n",
       "      <td>4</td>\n",
       "      <td>(29.760427, -95.369803)</td>\n",
       "      <td>H42</td>\n",
       "      <td>0</td>\n",
       "      <td>3</td>\n",
       "      <td>0</td>\n",
       "      <td>Local</td>\n",
       "      <td>49.6852</td>\n",
       "    </tr>\n",
       "    <tr>\n",
       "      <th>2</th>\n",
       "      <td>3</td>\n",
       "      <td>1993</td>\n",
       "      <td>Nevada</td>\n",
       "      <td>0</td>\n",
       "      <td>Had their first drink of alcohol before age 13...</td>\n",
       "      <td>other than a few sips</td>\n",
       "      <td>196.0</td>\n",
       "      <td>Female</td>\n",
       "      <td>White</td>\n",
       "      <td>0</td>\n",
       "      <td>(39.493240390000494, -117.07184056399967)</td>\n",
       "      <td>H41</td>\n",
       "      <td>1</td>\n",
       "      <td>6</td>\n",
       "      <td>2</td>\n",
       "      <td>State</td>\n",
       "      <td>47.8132</td>\n",
       "    </tr>\n",
       "  </tbody>\n",
       "</table>\n",
       "</div>"
      ],
      "text/plain": [
       "   Patient_ID  YEAR LocationDesc  Subtopic  \\\n",
       "0           1  1995  Houston, TX         1   \n",
       "1           2  1997  Houston, TX         0   \n",
       "2           3  1993       Nevada         0   \n",
       "\n",
       "                               Greater_Risk_Question  \\\n",
       "0                                  Ever used cocaine   \n",
       "1                            Currently drank alcohol   \n",
       "2  Had their first drink of alcohol before age 13...   \n",
       "\n",
       "                                         Description  Sample_Size     Sex  \\\n",
       "0  any form of cocaine, such as powder, crack, or...        335.0  Female   \n",
       "1  at least one drink of alcohol, on at least 1 d...        382.0   Total   \n",
       "2                              other than a few sips        196.0  Female   \n",
       "\n",
       "                        Race  Grade  \\\n",
       "0         Hispanic or Latino      4   \n",
       "1  Black or African American      4   \n",
       "2                      White      0   \n",
       "\n",
       "                                 GeoLocation QuestionCode  StratID1  StratID2  \\\n",
       "0                    (29.760427, -95.369803)          H49         1         4   \n",
       "1                    (29.760427, -95.369803)          H42         0         3   \n",
       "2  (39.493240390000494, -117.07184056399967)          H41         1         6   \n",
       "\n",
       "   StratID3 StratificationType  Greater_Risk_Probability  \n",
       "0         0              Local                    7.4793  \n",
       "1         0              Local                   49.6852  \n",
       "2         2              State                   47.8132  "
      ]
     },
     "execution_count": 6,
     "metadata": {},
     "output_type": "execute_result"
    }
   ],
   "source": [
    "train.head(3)"
   ]
  },
  {
   "cell_type": "code",
   "execution_count": 7,
   "metadata": {},
   "outputs": [
    {
     "name": "stdout",
     "output_type": "stream",
     "text": [
      "<class 'pandas.core.frame.DataFrame'>\n",
      "RangeIndex: 55399 entries, 0 to 55398\n",
      "Data columns (total 17 columns):\n",
      "Patient_ID                  55399 non-null int64\n",
      "YEAR                        55399 non-null int64\n",
      "LocationDesc                55399 non-null object\n",
      "Subtopic                    55399 non-null int64\n",
      "Greater_Risk_Question       55399 non-null object\n",
      "Description                 55399 non-null object\n",
      "Sample_Size                 55399 non-null float64\n",
      "Sex                         55399 non-null object\n",
      "Race                        55399 non-null object\n",
      "Grade                       55399 non-null int64\n",
      "GeoLocation                 52098 non-null object\n",
      "QuestionCode                55399 non-null object\n",
      "StratID1                    55399 non-null int64\n",
      "StratID2                    55399 non-null int64\n",
      "StratID3                    55399 non-null int64\n",
      "StratificationType          55399 non-null object\n",
      "Greater_Risk_Probability    55399 non-null float64\n",
      "dtypes: float64(2), int64(7), object(8)\n",
      "memory usage: 7.2+ MB\n"
     ]
    }
   ],
   "source": [
    "#the target is Greate_Risk_Probability\n",
    "#the data is quit messy, the knowledge of nlp required to solve this problem\n",
    "#let's check the info of the dataset\n",
    "train.info()"
   ]
  },
  {
   "cell_type": "code",
   "execution_count": 8,
   "metadata": {},
   "outputs": [
    {
     "data": {
      "text/plain": [
       "GeoLocation                 3301\n",
       "Greater_Risk_Probability       0\n",
       "dtype: int64"
      ]
     },
     "execution_count": 8,
     "metadata": {},
     "output_type": "execute_result"
    }
   ],
   "source": [
    "#there are 55398 data points are present with 17 independent features\n",
    "#Check for the null values\n",
    "train.isnull().sum().sort_values(ascending= False)[:2]"
   ]
  },
  {
   "cell_type": "code",
   "execution_count": 9,
   "metadata": {},
   "outputs": [
    {
     "data": {
      "text/plain": [
       "GeoLocation           2167\n",
       "StratificationType       0\n",
       "dtype: int64"
      ]
     },
     "execution_count": 9,
     "metadata": {},
     "output_type": "execute_result"
    }
   ],
   "source": [
    "test.isnull().sum().sort_values(ascending= False)[:2]"
   ]
  },
  {
   "cell_type": "code",
   "execution_count": 10,
   "metadata": {},
   "outputs": [
    {
     "data": {
      "text/plain": [
       "count                       52098\n",
       "unique                         85\n",
       "top       (40.712784, -74.005941)\n",
       "freq                         1396\n",
       "Name: GeoLocation, dtype: object"
      ]
     },
     "execution_count": 10,
     "metadata": {},
     "output_type": "execute_result"
    }
   ],
   "source": [
    "train['GeoLocation'].describe()"
   ]
  },
  {
   "cell_type": "code",
   "execution_count": 11,
   "metadata": {},
   "outputs": [
    {
     "data": {
      "text/plain": [
       "count    55399.000000\n",
       "mean        24.365664\n",
       "std         20.492551\n",
       "min          0.000000\n",
       "25%          8.280050\n",
       "50%         17.555600\n",
       "75%         35.430750\n",
       "max         99.449400\n",
       "Name: Greater_Risk_Probability, dtype: float64"
      ]
     },
     "execution_count": 11,
     "metadata": {},
     "output_type": "execute_result"
    }
   ],
   "source": [
    "#Let's check how the target variable is distributed\n",
    "train['Greater_Risk_Probability'].describe()"
   ]
  },
  {
   "cell_type": "code",
   "execution_count": 12,
   "metadata": {},
   "outputs": [
    {
     "data": {
      "image/png": "[encoded data removed]",
      "text/plain": [
       "<matplotlib.figure.Figure at 0x38049dccf8>"
      ]
     },
     "metadata": {},
     "output_type": "display_data"
    }
   ],
   "source": [
    "#here, the probability is counted in range(0-100)\n",
    "plt.figure(figsize= (14, 10))\n",
    "\n",
    "plt.subplot(221)\n",
    "sns.distplot(train['Greater_Risk_Probability'], bins= 200)\n",
    "plt.title('Distribution of the Risk Probability')\n",
    "\n",
    "plt.subplot(222)\n",
    "plt.hist(train['Greater_Risk_Probability'], bins= 200)\n",
    "plt.xlabel('Greater_Risk_Probability')\n",
    "plt.title('Histogram')\n",
    "\n",
    "plt.subplot(223)\n",
    "st.probplot(train['Greater_Risk_Probability'], plot= plt, rvalue= True)\n",
    "plt.title('Probability Plot of the Risk Probability')\n",
    "\n",
    "plt.subplot(224)\n",
    "plt.scatter(train.index, train['Greater_Risk_Probability'].sort_values(), alpha= 0.8)\n",
    "plt.xlabel('Greater_Risk_Probability')\n",
    "\n",
    "plt.tight_layout()\n",
    "plt.show()"
   ]
  },
  {
   "cell_type": "code",
   "execution_count": 13,
   "metadata": {},
   "outputs": [],
   "source": [
    "#According to the Rick Graph most of the patient are in safe zone because the most of the probbaility lies  closer to 0 and 10"
   ]
  },
  {
   "cell_type": "code",
   "execution_count": 14,
   "metadata": {},
   "outputs": [
    {
     "data": {
      "image/png": "[encoded data removed]",
      "text/plain": [
       "<matplotlib.figure.Figure at 0x3804b41f98>"
      ]
     },
     "metadata": {},
     "output_type": "display_data"
    }
   ],
   "source": [
    "plt.figure(figsize= (14, 10))\n",
    "\n",
    "plt.subplot(221)\n",
    "sns.distplot(np.log(train['Greater_Risk_Probability']+1), bins= 200)\n",
    "plt.title('Distribution of the Risk Probability')\n",
    "\n",
    "plt.subplot(222)\n",
    "plt.hist(np.log(train['Greater_Risk_Probability']+1), bins= 200)\n",
    "plt.xlabel('Greater_Risk_Probability')\n",
    "plt.title('Histogram')\n",
    "\n",
    "plt.subplot(223)\n",
    "st.probplot(np.log(train['Greater_Risk_Probability']+1), plot= plt, rvalue= True)\n",
    "plt.title('Probability Plot of the Risk Probability')\n",
    "\n",
    "plt.subplot(224)\n",
    "plt.scatter(train.index, np.log(train['Greater_Risk_Probability'].sort_values()+1), alpha= 0.8)\n",
    "plt.xlabel('Greater_Risk_Probability')\n",
    "\n",
    "plt.tight_layout()\n",
    "plt.show()"
   ]
  },
  {
   "cell_type": "code",
   "execution_count": 15,
   "metadata": {},
   "outputs": [],
   "source": [
    "#The probability plot is accurately fit after the log transformation with 0.98 (R2 Value)\n",
    "#Thus it's better to transform the Risk Probability"
   ]
  },
  {
   "cell_type": "code",
   "execution_count": 16,
   "metadata": {},
   "outputs": [
    {
     "name": "stdout",
     "output_type": "stream",
     "text": [
      "Patient_ID 55399\n",
      "YEAR 14\n",
      "LocationDesc 91\n",
      "Subtopic 2\n",
      "Greater_Risk_Question 20\n",
      "Description 20\n",
      "Sample_Size 3583\n",
      "Sex 3\n",
      "Race 8\n",
      "Grade 5\n",
      "GeoLocation 86\n",
      "QuestionCode 20\n",
      "StratID1 3\n",
      "StratID2 8\n",
      "StratID3 5\n",
      "StratificationType 5\n",
      "Greater_Risk_Probability 51821\n"
     ]
    }
   ],
   "source": [
    "for col in list(train):\n",
    "    print(col, len(train[col].unique()))"
   ]
  },
  {
   "cell_type": "code",
   "execution_count": 17,
   "metadata": {},
   "outputs": [
    {
     "data": {
      "text/plain": [
       "array(['any form of cocaine, such as powder, crack, or freebase, one or more times during their life',\n",
       "       'at least one drink of alcohol, on at least 1 day during the 30 days before the survey',\n",
       "       'other than a few sips',\n",
       "       'pills or shots, one or more times during their life',\n",
       "       'sniffed glue, breathed the contents of aerosol spray cans, or inhaled any paints or sprays to get high, one or more times during their life',\n",
       "       'during the 12 months before the survey',\n",
       "       'also called grass, pot, or weed, one or more times during their life',\n",
       "       'also called \"smack,\" \"junk,\" or \"China White,\" one or more times during their life',\n",
       "       'at least one drink of alcohol, on at least 1 day during their life',\n",
       "       'also called grass, pot, or weed, one or more times during the 30 days before the survey',\n",
       "       'also called \"K2,\" \"Spice,\" \"fake weed,\" \"King Kong,\" \"Yucatan Fire,\" \"Skunk,\" or \"Moon Rocks,\" one or more times during their life',\n",
       "       'also called grass, pot, or weed',\n",
       "       'also called \"speed,\" \"crystal,\" \"crank,\" or \"ice,\" one or more times during their life',\n",
       "       'used a needle to inject any illegal drug into their body, one or more times during their life',\n",
       "       'also called \"MDMA,\" one or more times during their life',\n",
       "       'within a couple of hours, during the 30 days before the survey',\n",
       "       'during the 30 days before the survey, among students who currently drank alcohol',\n",
       "       'counting drugs such as codeine, Vicodin, Oxycontin, Hydrocodone, and Percocet, one or more times during their life',\n",
       "       'such as LSD, acid, PCP, angel dust, mescaline, or mushrooms, one or more times during their life',\n",
       "       'four or more drinks of alcohol in a row (if they were female) or five or more drinks of alcohol in a row (if they were male), within a couple of hours, on at least 1 day during the 30 days before the survey'],\n",
       "      dtype=object)"
      ]
     },
     "execution_count": 17,
     "metadata": {},
     "output_type": "execute_result"
    }
   ],
   "source": [
    "train['Description'].unique()"
   ]
  },
  {
   "cell_type": "code",
   "execution_count": 18,
   "metadata": {},
   "outputs": [],
   "source": [
    "#Vectorization is better option than Encoding the respective description"
   ]
  },
  {
   "cell_type": "code",
   "execution_count": 19,
   "metadata": {},
   "outputs": [],
   "source": [
    "target= train['Greater_Risk_Probability']"
   ]
  },
  {
   "cell_type": "code",
   "execution_count": 20,
   "metadata": {},
   "outputs": [],
   "source": [
    "train.drop(['Greater_Risk_Probability'], axis= 1, inplace= True)"
   ]
  },
  {
   "cell_type": "code",
   "execution_count": 21,
   "metadata": {},
   "outputs": [],
   "source": [
    "train['Greater_Risk_Probability']= target"
   ]
  },
  {
   "cell_type": "code",
   "execution_count": 22,
   "metadata": {},
   "outputs": [
    {
     "name": "stdout",
     "output_type": "stream",
     "text": [
      "['Patient_ID', 'YEAR', 'LocationDesc', 'Subtopic', 'Greater_Risk_Question', 'Description', 'Sample_Size', 'Sex', 'Race', 'Grade', 'GeoLocation', 'QuestionCode', 'StratID1', 'StratID2', 'StratID3', 'StratificationType', 'Greater_Risk_Probability']\n"
     ]
    }
   ],
   "source": [
    "print(train.columns.tolist())"
   ]
  },
  {
   "cell_type": "code",
   "execution_count": 23,
   "metadata": {},
   "outputs": [
    {
     "name": "stdout",
     "output_type": "stream",
     "text": [
      "['Patient_ID', 'YEAR', 'LocationDesc', 'Subtopic', 'Greater_Risk_Question', 'Description', 'Sample_Size', 'Sex', 'Race', 'Grade', 'GeoLocation', 'QuestionCode', 'StratID1', 'StratID2', 'StratID3', 'StratificationType']\n"
     ]
    }
   ],
   "source": [
    "print(test.columns.tolist())"
   ]
  },
  {
   "cell_type": "code",
   "execution_count": 24,
   "metadata": {},
   "outputs": [
    {
     "data": {
      "image/png": "[encoded data removed]",
      "text/plain": [
       "<matplotlib.figure.Figure at 0x380645b048>"
      ]
     },
     "metadata": {},
     "output_type": "display_data"
    }
   ],
   "source": [
    "#Let's check how does the Risk varies with  sex\n",
    "plt.figure(figsize= (5, 5))\n",
    "sns.boxplot('Sex', 'Greater_Risk_Probability', data= train)\n",
    "plt.title('Sex vs Risk Probability')\n",
    "plt.show()"
   ]
  },
  {
   "cell_type": "code",
   "execution_count": 25,
   "metadata": {},
   "outputs": [],
   "source": [
    "#The average risk in male is greater than female and total."
   ]
  },
  {
   "cell_type": "code",
   "execution_count": 26,
   "metadata": {},
   "outputs": [
    {
     "data": {
      "image/png": "[encoded data removed]",
      "text/plain": [
       "<matplotlib.figure.Figure at 0x3804af74e0>"
      ]
     },
     "metadata": {},
     "output_type": "display_data"
    }
   ],
   "source": [
    "plt.figure(figsize= (7, 5))\n",
    "sns.boxplot('Grade', 'Greater_Risk_Probability', data= train)\n",
    "plt.show()"
   ]
  },
  {
   "cell_type": "code",
   "execution_count": 28,
   "metadata": {},
   "outputs": [],
   "source": [
    "train['latitude']= np.nan\n",
    "train['longitude']= np.nan"
   ]
  },
  {
   "cell_type": "code",
   "execution_count": 38,
   "metadata": {},
   "outputs": [],
   "source": [
    "for geoloc in train['GeoLocation'].unique():\n",
    "    \n",
    "    try:\n",
    "        \n",
    "        mask= (train['GeoLocation']== geoloc)\n",
    "\n",
    "        geoloc= str(geoloc).replace('(', '')\n",
    "        geoloc= geoloc.replace(')', '')\n",
    "\n",
    "        split= str(geoloc).split(',')\n",
    "        lat= float(split[0])\n",
    "        lon= float(split[1])\n",
    "\n",
    "        #lat= str(lat).replace('(', '')\n",
    "        #lat= float(lat)\n",
    "\n",
    "        #lon= str(lon).replace(')', '')\n",
    "        #lon= float(lon)\n",
    "\n",
    "        train.loc[mask, 'latitude']= lat\n",
    "        train.loc[mask, 'longitude']= lon\n",
    "        \n",
    "    except:\n",
    "        pass"
   ]
  },
  {
   "cell_type": "code",
   "execution_count": 41,
   "metadata": {},
   "outputs": [],
   "source": [
    "for geoloc in test['GeoLocation'].unique():\n",
    "    \n",
    "    try:\n",
    "        \n",
    "        mask= (test['GeoLocation']== geoloc)\n",
    "\n",
    "        geoloc= str(geoloc).replace('(', '')\n",
    "        geoloc= geoloc.replace(')', '')\n",
    "\n",
    "        split= str(geoloc).split(',')\n",
    "        lat= float(split[0])\n",
    "        lon= float(split[1])\n",
    "\n",
    "        #lat= str(lat).replace('(', '')\n",
    "        #lat= float(lat)\n",
    "\n",
    "        #lon= str(lon).replace(')', '')\n",
    "        #lon= float(lon)\n",
    "\n",
    "        test.loc[mask, 'latitude']= lat\n",
    "        test.loc[mask, 'longitude']= lon\n",
    "        \n",
    "    except:\n",
    "        pass"
   ]
  },
  {
   "cell_type": "code",
   "execution_count": 44,
   "metadata": {},
   "outputs": [],
   "source": [
    "cat_var= [var for var in list(train) if train[var].dtypes== 'O']"
   ]
  },
  {
   "cell_type": "code",
   "execution_count": 46,
   "metadata": {},
   "outputs": [],
   "source": [
    "cat_var.remove('GeoLocation')"
   ]
  },
  {
   "cell_type": "code",
   "execution_count": 47,
   "metadata": {},
   "outputs": [],
   "source": [
    "from sklearn.preprocessing import LabelEncoder"
   ]
  },
  {
   "cell_type": "code",
   "execution_count": 48,
   "metadata": {},
   "outputs": [],
   "source": [
    "for var in cat_var:\n",
    "    encoder= LabelEncoder().fit(train[var])\n",
    "    train[var]= encoder.transform(train[var].astype(str))\n",
    "    test[var]= encoder.transform(test[var].astype(str))"
   ]
  },
  {
   "cell_type": "code",
   "execution_count": 49,
   "metadata": {},
   "outputs": [],
   "source": [
    "train_= train.copy()\n",
    "test_= test.copy()"
   ]
  },
  {
   "cell_type": "code",
   "execution_count": 50,
   "metadata": {},
   "outputs": [
    {
     "data": {
      "text/html": [
       "<div>\n",
       "<style scoped>\n",
       "    .dataframe tbody tr th:only-of-type {\n",
       "        vertical-align: middle;\n",
       "    }\n",
       "\n",
       "    .dataframe tbody tr th {\n",
       "        vertical-align: top;\n",
       "    }\n",
       "\n",
       "    .dataframe thead th {\n",
       "        text-align: right;\n",
       "    }\n",
       "</style>\n",
       "<table border=\"1\" class=\"dataframe\">\n",
       "  <thead>\n",
       "    <tr style=\"text-align: right;\">\n",
       "      <th></th>\n",
       "      <th>Patient_ID</th>\n",
       "      <th>YEAR</th>\n",
       "      <th>LocationDesc</th>\n",
       "      <th>Subtopic</th>\n",
       "      <th>Greater_Risk_Question</th>\n",
       "      <th>Description</th>\n",
       "      <th>Sample_Size</th>\n",
       "      <th>Sex</th>\n",
       "      <th>Race</th>\n",
       "      <th>Grade</th>\n",
       "      <th>GeoLocation</th>\n",
       "      <th>QuestionCode</th>\n",
       "      <th>StratID1</th>\n",
       "      <th>StratID2</th>\n",
       "      <th>StratID3</th>\n",
       "      <th>StratificationType</th>\n",
       "      <th>Greater_Risk_Probability</th>\n",
       "      <th>latitude</th>\n",
       "      <th>longitude</th>\n",
       "    </tr>\n",
       "  </thead>\n",
       "  <tbody>\n",
       "    <tr>\n",
       "      <th>0</th>\n",
       "      <td>1</td>\n",
       "      <td>1995</td>\n",
       "      <td>32</td>\n",
       "      <td>1</td>\n",
       "      <td>6</td>\n",
       "      <td>7</td>\n",
       "      <td>335.0</td>\n",
       "      <td>0</td>\n",
       "      <td>3</td>\n",
       "      <td>4</td>\n",
       "      <td>(29.760427, -95.369803)</td>\n",
       "      <td>9</td>\n",
       "      <td>1</td>\n",
       "      <td>4</td>\n",
       "      <td>0</td>\n",
       "      <td>0</td>\n",
       "      <td>7.4793</td>\n",
       "      <td>29.760427</td>\n",
       "      <td>-95.369803</td>\n",
       "    </tr>\n",
       "    <tr>\n",
       "      <th>1</th>\n",
       "      <td>2</td>\n",
       "      <td>1997</td>\n",
       "      <td>32</td>\n",
       "      <td>0</td>\n",
       "      <td>0</td>\n",
       "      <td>8</td>\n",
       "      <td>382.0</td>\n",
       "      <td>2</td>\n",
       "      <td>2</td>\n",
       "      <td>4</td>\n",
       "      <td>(29.760427, -95.369803)</td>\n",
       "      <td>2</td>\n",
       "      <td>0</td>\n",
       "      <td>3</td>\n",
       "      <td>0</td>\n",
       "      <td>0</td>\n",
       "      <td>49.6852</td>\n",
       "      <td>29.760427</td>\n",
       "      <td>-95.369803</td>\n",
       "    </tr>\n",
       "  </tbody>\n",
       "</table>\n",
       "</div>"
      ],
      "text/plain": [
       "   Patient_ID  YEAR  LocationDesc  Subtopic  Greater_Risk_Question  \\\n",
       "0           1  1995            32         1                      6   \n",
       "1           2  1997            32         0                      0   \n",
       "\n",
       "   Description  Sample_Size  Sex  Race  Grade              GeoLocation  \\\n",
       "0            7        335.0    0     3      4  (29.760427, -95.369803)   \n",
       "1            8        382.0    2     2      4  (29.760427, -95.369803)   \n",
       "\n",
       "   QuestionCode  StratID1  StratID2  StratID3  StratificationType  \\\n",
       "0             9         1         4         0                   0   \n",
       "1             2         0         3         0                   0   \n",
       "\n",
       "   Greater_Risk_Probability   latitude  longitude  \n",
       "0                    7.4793  29.760427 -95.369803  \n",
       "1                   49.6852  29.760427 -95.369803  "
      ]
     },
     "execution_count": 50,
     "metadata": {},
     "output_type": "execute_result"
    }
   ],
   "source": [
    "train.head(2)"
   ]
  },
  {
   "cell_type": "code",
   "execution_count": 51,
   "metadata": {},
   "outputs": [],
   "source": [
    "train.drop(['Patient_ID', 'GeoLocation', 'Greater_Risk_Probability'], axis= 1, inplace= True)\n",
    "test.drop(['Patient_ID', 'GeoLocation'], axis= 1, inplace= True)"
   ]
  },
  {
   "cell_type": "code",
   "execution_count": 53,
   "metadata": {},
   "outputs": [],
   "source": [
    "#It is a problem Regression\n",
    "target= np.log(target+1)"
   ]
  },
  {
   "cell_type": "code",
   "execution_count": 54,
   "metadata": {},
   "outputs": [],
   "source": [
    "import catboost as cb\n",
    "from sklearn.model_selection import KFold"
   ]
  },
  {
   "cell_type": "code",
   "execution_count": 55,
   "metadata": {},
   "outputs": [],
   "source": [
    "cat_feat_index_= np.where(train.dtypes!= np.float)[0]"
   ]
  },
  {
   "cell_type": "code",
   "execution_count": 56,
   "metadata": {},
   "outputs": [],
   "source": [
    "from sklearn.metrics import r2_score, mean_squared_error, mean_squared_log_error"
   ]
  },
  {
   "cell_type": "code",
   "execution_count": 61,
   "metadata": {},
   "outputs": [],
   "source": [
    "def run_CB(train, target, test, cat_feat_index= cat_feat_index_):\n",
    "    #from sklearn.model_selection import train_test_split\n",
    "    from sklearn.metrics import r2_score, mean_squared_error, mean_squared_log_error\n",
    "    #X_train, X_test, y_train, y_test= train_test_split(train, target, random_state= 0)\n",
    "    \n",
    "    r_squared_1= []\n",
    "    mse_1= []\n",
    "    rmse_1= []\n",
    "    rmsle_1= []\n",
    "    y_test_1= []\n",
    "    #msle_1= []\n",
    "    \n",
    "    kf = KFold(n_splits=5, shuffle= True, random_state= 2019) \n",
    "\n",
    "    for train_index, test_index in kf.split(train, target):\n",
    "        #print(\"Train:\", train_index, \"Validation:\",test_index)\n",
    "        X_train, X_test = train.loc[train_index,:], train.loc[test_index,:] \n",
    "        y_train, y_test = target[train_index], target[test_index]\n",
    "    \n",
    "        param_cb= {}\n",
    "        param_cb['iterations']= 10000\n",
    "        param_cb['learning_rate']= 0.1\n",
    "        #param_cb['max_depth']= 3\n",
    "        param_cb['random_seed']= 2019\n",
    "\n",
    "        model= cb.CatBoostRegressor(**param_cb)\n",
    "\n",
    "        #model.fit(X_train, y_train, cat_feat_index, eval_set= (X_test, y_test), early_stopping_rounds= 50, verbose= 1000)\n",
    "        model.fit(X_train, y_train, cat_feat_index, eval_set= (X_test, y_test), verbose= 100, early_stopping_rounds= 50)\n",
    "\n",
    "\n",
    "        y_pred= model.predict(X_test)\n",
    "        #y_pred_1.append(y_pred)\n",
    "        y_test_= model.predict(test)\n",
    "        y_test_1.append(y_test_)\n",
    "        \n",
    "        r_squared= r2_score(y_test, y_pred)\n",
    "        mse= mean_squared_error(y_test, y_pred)\n",
    "        rmse= np.sqrt(mse)\n",
    "        msle= mean_squared_log_error(y_test, y_pred)\n",
    "        rmsle= np.sqrt(msle)\n",
    "        \n",
    "        r_squared_1.append(r_squared)\n",
    "        mse_1.append(mse)\n",
    "        rmse_1.append(rmse)\n",
    "        rmsle_1.append(rmsle)\n",
    "        #msle_1.append(msle)\n",
    "    print('The R-Squared value: {:.4f}' .format(np.mean(r_squared_1)))\n",
    "    print('Mean Squared Error: {:.4f}' .format(np.mean(mse_1)))\n",
    "    print('Root Mean Squared Error: {:.4f}' .format(np.mean(rmse_1)))\n",
    "    print('Root Mean Squared Log Error: {:.4f}' .format(np.mean(rmsle_1)))\n",
    "\n",
    "    return np.mean(y_test_1, axis= 0)"
   ]
  },
  {
   "cell_type": "code",
   "execution_count": 62,
   "metadata": {},
   "outputs": [
    {
     "name": "stdout",
     "output_type": "stream",
     "text": [
      "0:\tlearn: 2.7375094\ttest: 2.7374550\tbest: 2.7374550 (0)\ttotal: 62.8ms\tremaining: 10m 27s\n",
      "100:\tlearn: 0.3661165\ttest: 0.3580523\tbest: 0.3580522 (98)\ttotal: 18.9s\tremaining: 30m 54s\n",
      "200:\tlearn: 0.3484664\ttest: 0.3404529\tbest: 0.3404529 (199)\ttotal: 44.4s\tremaining: 36m 5s\n",
      "300:\tlearn: 0.3389024\ttest: 0.3313925\tbest: 0.3313925 (300)\ttotal: 1m 8s\tremaining: 36m 36s\n",
      "400:\tlearn: 0.3324314\ttest: 0.3259654\tbest: 0.3259654 (400)\ttotal: 1m 37s\tremaining: 38m 47s\n",
      "500:\tlearn: 0.3288882\ttest: 0.3226914\tbest: 0.3226914 (500)\ttotal: 1m 58s\tremaining: 37m 24s\n",
      "600:\tlearn: 0.3247105\ttest: 0.3194717\tbest: 0.3194717 (600)\ttotal: 2m 19s\tremaining: 36m 27s\n",
      "700:\tlearn: 0.3207425\ttest: 0.3164690\tbest: 0.3164690 (700)\ttotal: 2m 42s\tremaining: 35m 55s\n",
      "800:\tlearn: 0.3183330\ttest: 0.3147759\tbest: 0.3147759 (800)\ttotal: 3m 4s\tremaining: 35m 17s\n",
      "900:\tlearn: 0.3168487\ttest: 0.3137948\tbest: 0.3137948 (899)\ttotal: 3m 32s\tremaining: 35m 48s\n",
      "1000:\tlearn: 0.3139319\ttest: 0.3118076\tbest: 0.3118076 (1000)\ttotal: 4m 2s\tremaining: 36m 23s\n",
      "1100:\tlearn: 0.3116504\ttest: 0.3105960\tbest: 0.3105921 (1099)\ttotal: 4m 35s\tremaining: 37m 3s\n",
      "1200:\tlearn: 0.3086287\ttest: 0.3087661\tbest: 0.3087600 (1199)\ttotal: 5m 8s\tremaining: 37m 40s\n",
      "1300:\tlearn: 0.3063597\ttest: 0.3076028\tbest: 0.3076010 (1299)\ttotal: 5m 36s\tremaining: 37m 31s\n",
      "1400:\tlearn: 0.3037768\ttest: 0.3063268\tbest: 0.3063268 (1400)\ttotal: 6m 6s\tremaining: 37m 32s\n",
      "1500:\tlearn: 0.3014308\ttest: 0.3054903\tbest: 0.3054903 (1500)\ttotal: 6m 43s\tremaining: 38m 4s\n",
      "1600:\tlearn: 0.2987212\ttest: 0.3043282\tbest: 0.3043282 (1600)\ttotal: 7m 16s\tremaining: 38m 10s\n",
      "1700:\tlearn: 0.2960006\ttest: 0.3035137\tbest: 0.3034923 (1698)\ttotal: 7m 44s\tremaining: 37m 47s\n",
      "1800:\tlearn: 0.2939192\ttest: 0.3028263\tbest: 0.3028263 (1800)\ttotal: 8m 11s\tremaining: 37m 16s\n",
      "1900:\tlearn: 0.2919506\ttest: 0.3023422\tbest: 0.3023195 (1897)\ttotal: 8m 40s\tremaining: 36m 58s\n",
      "2000:\tlearn: 0.2898605\ttest: 0.3015635\tbest: 0.3015635 (2000)\ttotal: 9m 10s\tremaining: 36m 41s\n",
      "2100:\tlearn: 0.2878332\ttest: 0.3011599\tbest: 0.3011599 (2100)\ttotal: 9m 39s\tremaining: 36m 18s\n",
      "2200:\tlearn: 0.2855841\ttest: 0.3007859\tbest: 0.3007859 (2200)\ttotal: 10m 5s\tremaining: 35m 43s\n",
      "2300:\tlearn: 0.2835294\ttest: 0.3002356\tbest: 0.3002356 (2300)\ttotal: 10m 28s\tremaining: 35m 2s\n",
      "2400:\tlearn: 0.2817523\ttest: 0.2996977\tbest: 0.2996977 (2400)\ttotal: 10m 55s\tremaining: 34m 33s\n",
      "2500:\tlearn: 0.2803585\ttest: 0.2992281\tbest: 0.2992281 (2500)\ttotal: 11m 23s\tremaining: 34m 9s\n",
      "2600:\tlearn: 0.2787419\ttest: 0.2989567\tbest: 0.2989322 (2597)\ttotal: 11m 48s\tremaining: 33m 36s\n",
      "2700:\tlearn: 0.2769171\ttest: 0.2983998\tbest: 0.2983998 (2700)\ttotal: 12m 15s\tremaining: 33m 8s\n",
      "2800:\tlearn: 0.2753724\ttest: 0.2978364\tbest: 0.2978228 (2798)\ttotal: 12m 42s\tremaining: 32m 40s\n",
      "2900:\tlearn: 0.2741819\ttest: 0.2975841\tbest: 0.2975841 (2900)\ttotal: 13m 6s\tremaining: 32m 3s\n",
      "3000:\tlearn: 0.2725417\ttest: 0.2973372\tbest: 0.2973283 (2996)\ttotal: 13m 33s\tremaining: 31m 37s\n",
      "3100:\tlearn: 0.2711564\ttest: 0.2972258\tbest: 0.2971489 (3081)\ttotal: 14m\tremaining: 31m 9s\n",
      "Stopped by overfitting detector  (50 iterations wait)\n",
      "\n",
      "bestTest = 0.297148868\n",
      "bestIteration = 3081\n",
      "\n",
      "Shrink model to first 3082 iterations.\n",
      "0:\tlearn: 2.7374430\ttest: 2.7383080\tbest: 2.7383080 (0)\ttotal: 70.4ms\tremaining: 11m 44s\n",
      "100:\tlearn: 0.3574995\ttest: 0.3589464\tbest: 0.3589464 (100)\ttotal: 25s\tremaining: 40m 50s\n",
      "200:\tlearn: 0.3455766\ttest: 0.3467217\tbest: 0.3467217 (200)\ttotal: 55.8s\tremaining: 45m 21s\n",
      "300:\tlearn: 0.3387612\ttest: 0.3400792\tbest: 0.3400792 (300)\ttotal: 1m 20s\tremaining: 42m 58s\n",
      "400:\tlearn: 0.3353869\ttest: 0.3367653\tbest: 0.3367651 (395)\ttotal: 1m 44s\tremaining: 41m 34s\n",
      "500:\tlearn: 0.3327171\ttest: 0.3346635\tbest: 0.3346635 (499)\ttotal: 2m 6s\tremaining: 39m 56s\n",
      "600:\tlearn: 0.3283483\ttest: 0.3311685\tbest: 0.3311685 (600)\ttotal: 2m 35s\tremaining: 40m 28s\n",
      "700:\tlearn: 0.3257389\ttest: 0.3289673\tbest: 0.3289673 (700)\ttotal: 3m 5s\tremaining: 41m\n",
      "800:\tlearn: 0.3234501\ttest: 0.3272851\tbest: 0.3272851 (800)\ttotal: 3m 30s\tremaining: 40m 15s\n",
      "900:\tlearn: 0.3185342\ttest: 0.3233234\tbest: 0.3233234 (899)\ttotal: 3m 56s\tremaining: 39m 53s\n",
      "Stopped by overfitting detector  (50 iterations wait)\n",
      "\n",
      "bestTest = 0.3233097311\n",
      "bestIteration = 922\n",
      "\n",
      "Shrink model to first 923 iterations.\n",
      "0:\tlearn: 2.7374943\ttest: 2.7368401\tbest: 2.7368401 (0)\ttotal: 66.8ms\tremaining: 11m 8s\n",
      "100:\tlearn: 0.3567706\ttest: 0.3567304\tbest: 0.3567304 (100)\ttotal: 21.9s\tremaining: 35m 45s\n",
      "200:\tlearn: 0.3374876\ttest: 0.3386120\tbest: 0.3386120 (200)\ttotal: 45.9s\tremaining: 37m 18s\n",
      "300:\tlearn: 0.3291336\ttest: 0.3317303\tbest: 0.3317303 (298)\ttotal: 1m 10s\tremaining: 38m 3s\n",
      "400:\tlearn: 0.3229632\ttest: 0.3273596\tbest: 0.3273596 (400)\ttotal: 1m 34s\tremaining: 37m 34s\n",
      "500:\tlearn: 0.3182978\ttest: 0.3240368\tbest: 0.3240368 (500)\ttotal: 2m\tremaining: 38m 5s\n",
      "600:\tlearn: 0.3154093\ttest: 0.3222793\tbest: 0.3222793 (600)\ttotal: 2m 37s\tremaining: 41m 5s\n",
      "700:\tlearn: 0.3118167\ttest: 0.3200848\tbest: 0.3200848 (700)\ttotal: 3m 9s\tremaining: 41m 53s\n",
      "800:\tlearn: 0.3081681\ttest: 0.3180366\tbest: 0.3180366 (800)\ttotal: 3m 35s\tremaining: 41m 16s\n",
      "900:\tlearn: 0.3061569\ttest: 0.3173849\tbest: 0.3173835 (899)\ttotal: 4m 4s\tremaining: 41m 12s\n",
      "1000:\tlearn: 0.3032602\ttest: 0.3161526\tbest: 0.3161526 (1000)\ttotal: 4m 29s\tremaining: 40m 24s\n",
      "1100:\tlearn: 0.3002424\ttest: 0.3149553\tbest: 0.3148789 (1097)\ttotal: 4m 54s\tremaining: 39m 40s\n",
      "1200:\tlearn: 0.2972379\ttest: 0.3135124\tbest: 0.3135065 (1199)\ttotal: 5m 18s\tremaining: 38m 53s\n",
      "1300:\tlearn: 0.2954236\ttest: 0.3126826\tbest: 0.3126826 (1300)\ttotal: 5m 42s\tremaining: 38m 8s\n",
      "1400:\tlearn: 0.2934379\ttest: 0.3119634\tbest: 0.3119559 (1397)\ttotal: 6m 6s\tremaining: 37m 26s\n",
      "1500:\tlearn: 0.2905755\ttest: 0.3112047\tbest: 0.3112044 (1499)\ttotal: 6m 31s\tremaining: 36m 54s\n",
      "1600:\tlearn: 0.2883111\ttest: 0.3104764\tbest: 0.3104554 (1596)\ttotal: 6m 56s\tremaining: 36m 24s\n",
      "1700:\tlearn: 0.2859008\ttest: 0.3097469\tbest: 0.3097449 (1694)\ttotal: 7m 20s\tremaining: 35m 49s\n",
      "1800:\tlearn: 0.2836786\ttest: 0.3091422\tbest: 0.3090752 (1796)\ttotal: 7m 45s\tremaining: 35m 19s\n",
      "1900:\tlearn: 0.2818922\ttest: 0.3088178\tbest: 0.3088178 (1900)\ttotal: 8m 10s\tremaining: 34m 48s\n",
      "2000:\tlearn: 0.2798024\ttest: 0.3082375\tbest: 0.3082350 (1999)\ttotal: 8m 39s\tremaining: 34m 36s\n",
      "2100:\tlearn: 0.2779234\ttest: 0.3076255\tbest: 0.3076255 (2100)\ttotal: 9m 5s\tremaining: 34m 9s\n",
      "2200:\tlearn: 0.2763944\ttest: 0.3071808\tbest: 0.3071808 (2200)\ttotal: 9m 31s\tremaining: 33m 44s\n",
      "2300:\tlearn: 0.2749760\ttest: 0.3068813\tbest: 0.3068813 (2300)\ttotal: 9m 56s\tremaining: 33m 17s\n",
      "2400:\tlearn: 0.2737072\ttest: 0.3066843\tbest: 0.3066806 (2395)\ttotal: 10m 20s\tremaining: 32m 45s\n",
      "2500:\tlearn: 0.2721483\ttest: 0.3065911\tbest: 0.3065397 (2476)\ttotal: 10m 46s\tremaining: 32m 17s\n",
      "2600:\tlearn: 0.2707712\ttest: 0.3062724\tbest: 0.3062724 (2600)\ttotal: 11m 11s\tremaining: 31m 49s\n",
      "2700:\tlearn: 0.2694174\ttest: 0.3060863\tbest: 0.3060654 (2692)\ttotal: 11m 36s\tremaining: 31m 22s\n",
      "2800:\tlearn: 0.2678566\ttest: 0.3059422\tbest: 0.3059116 (2753)\ttotal: 12m 3s\tremaining: 31m\n",
      "Stopped by overfitting detector  (50 iterations wait)\n",
      "\n",
      "bestTest = 0.3059116198\n",
      "bestIteration = 2753\n",
      "\n",
      "Shrink model to first 2754 iterations.\n",
      "0:\tlearn: 2.7372080\ttest: 2.7387520\tbest: 2.7387520 (0)\ttotal: 63.3ms\tremaining: 10m 33s\n",
      "100:\tlearn: 0.3614401\ttest: 0.3569571\tbest: 0.3569571 (100)\ttotal: 24.3s\tremaining: 39m 45s\n",
      "200:\tlearn: 0.3492006\ttest: 0.3445340\tbest: 0.3445340 (200)\ttotal: 47.3s\tremaining: 38m 26s\n",
      "300:\tlearn: 0.3402858\ttest: 0.3359445\tbest: 0.3359445 (300)\ttotal: 1m 16s\tremaining: 41m 8s\n",
      "400:\tlearn: 0.3345936\ttest: 0.3308569\tbest: 0.3308569 (400)\ttotal: 1m 47s\tremaining: 42m 55s\n",
      "500:\tlearn: 0.3312581\ttest: 0.3281804\tbest: 0.3281803 (499)\ttotal: 2m 11s\tremaining: 41m 38s\n",
      "600:\tlearn: 0.3276228\ttest: 0.3254802\tbest: 0.3254802 (600)\ttotal: 2m 37s\tremaining: 40m 59s\n",
      "700:\tlearn: 0.3243908\ttest: 0.3231231\tbest: 0.3231231 (699)\ttotal: 3m 12s\tremaining: 42m 32s\n",
      "800:\tlearn: 0.3210893\ttest: 0.3207883\tbest: 0.3207883 (800)\ttotal: 3m 47s\tremaining: 43m 28s\n",
      "900:\tlearn: 0.3184452\ttest: 0.3187658\tbest: 0.3187658 (900)\ttotal: 4m 15s\tremaining: 43m 3s\n",
      "1000:\tlearn: 0.3153298\ttest: 0.3166287\tbest: 0.3166287 (1000)\ttotal: 4m 45s\tremaining: 42m 49s\n",
      "1100:\tlearn: 0.3104835\ttest: 0.3134790\tbest: 0.3134790 (1098)\ttotal: 5m 17s\tremaining: 42m 45s\n",
      "1200:\tlearn: 0.3067909\ttest: 0.3114044\tbest: 0.3114044 (1200)\ttotal: 5m 52s\tremaining: 43m 4s\n",
      "1300:\tlearn: 0.3044905\ttest: 0.3103790\tbest: 0.3103790 (1299)\ttotal: 6m 26s\tremaining: 43m 1s\n",
      "1400:\tlearn: 0.3024025\ttest: 0.3094208\tbest: 0.3094208 (1400)\ttotal: 6m 58s\tremaining: 42m 50s\n",
      "1500:\tlearn: 0.2994770\ttest: 0.3084102\tbest: 0.3084102 (1500)\ttotal: 7m 34s\tremaining: 42m 50s\n",
      "1600:\tlearn: 0.2967749\ttest: 0.3071079\tbest: 0.3071079 (1600)\ttotal: 8m 5s\tremaining: 42m 25s\n",
      "1700:\tlearn: 0.2943408\ttest: 0.3062862\tbest: 0.3062862 (1700)\ttotal: 8m 39s\tremaining: 42m 16s\n",
      "1800:\tlearn: 0.2924472\ttest: 0.3056493\tbest: 0.3056157 (1780)\ttotal: 9m 17s\tremaining: 42m 16s\n",
      "1900:\tlearn: 0.2900287\ttest: 0.3050352\tbest: 0.3050169 (1896)\ttotal: 9m 50s\tremaining: 41m 56s\n",
      "2000:\tlearn: 0.2876870\ttest: 0.3043388\tbest: 0.3043388 (2000)\ttotal: 10m 28s\tremaining: 41m 51s\n",
      "2100:\tlearn: 0.2852567\ttest: 0.3040908\tbest: 0.3040354 (2075)\ttotal: 10m 59s\tremaining: 41m 19s\n",
      "2200:\tlearn: 0.2831877\ttest: 0.3035028\tbest: 0.3034455 (2197)\ttotal: 11m 28s\tremaining: 40m 38s\n",
      "2300:\tlearn: 0.2812050\ttest: 0.3030121\tbest: 0.3030096 (2299)\ttotal: 11m 58s\tremaining: 40m 4s\n",
      "Stopped by overfitting detector  (50 iterations wait)\n",
      "\n",
      "bestTest = 0.3028728033\n",
      "bestIteration = 2346\n",
      "\n",
      "Shrink model to first 2347 iterations.\n",
      "0:\tlearn: 2.7380270\ttest: 2.7363095\tbest: 2.7363095 (0)\ttotal: 256ms\tremaining: 42m 37s\n",
      "100:\tlearn: 0.3648931\ttest: 0.3525676\tbest: 0.3525676 (100)\ttotal: 25.2s\tremaining: 41m 13s\n",
      "200:\tlearn: 0.3458899\ttest: 0.3351731\tbest: 0.3351731 (200)\ttotal: 50.7s\tremaining: 41m 11s\n",
      "300:\tlearn: 0.3377945\ttest: 0.3281271\tbest: 0.3281271 (299)\ttotal: 1m 20s\tremaining: 43m 13s\n",
      "400:\tlearn: 0.3321341\ttest: 0.3243934\tbest: 0.3243934 (400)\ttotal: 1m 49s\tremaining: 43m 37s\n",
      "500:\tlearn: 0.3265982\ttest: 0.3204919\tbest: 0.3204919 (500)\ttotal: 2m 20s\tremaining: 44m 23s\n",
      "600:\tlearn: 0.3233034\ttest: 0.3182116\tbest: 0.3182116 (599)\ttotal: 2m 49s\tremaining: 44m 10s\n",
      "700:\tlearn: 0.3194153\ttest: 0.3160372\tbest: 0.3160273 (698)\ttotal: 3m 18s\tremaining: 43m 54s\n",
      "800:\tlearn: 0.3161889\ttest: 0.3139299\tbest: 0.3139299 (799)\ttotal: 3m 47s\tremaining: 43m 36s\n",
      "900:\tlearn: 0.3129922\ttest: 0.3123580\tbest: 0.3123580 (900)\ttotal: 4m 17s\tremaining: 43m 16s\n",
      "1000:\tlearn: 0.3091739\ttest: 0.3105728\tbest: 0.3105728 (1000)\ttotal: 4m 44s\tremaining: 42m 34s\n",
      "1100:\tlearn: 0.3072343\ttest: 0.3100249\tbest: 0.3100249 (1100)\ttotal: 5m 11s\tremaining: 42m\n",
      "1200:\tlearn: 0.3045326\ttest: 0.3089992\tbest: 0.3089992 (1200)\ttotal: 5m 40s\tremaining: 41m 33s\n",
      "1300:\tlearn: 0.3016309\ttest: 0.3077419\tbest: 0.3077419 (1300)\ttotal: 6m 9s\tremaining: 41m 13s\n",
      "1400:\tlearn: 0.2998431\ttest: 0.3070595\tbest: 0.3070595 (1400)\ttotal: 6m 38s\tremaining: 40m 47s\n",
      "1500:\tlearn: 0.2975989\ttest: 0.3065406\tbest: 0.3065405 (1499)\ttotal: 7m 8s\tremaining: 40m 28s\n",
      "1600:\tlearn: 0.2956478\ttest: 0.3059364\tbest: 0.3059364 (1600)\ttotal: 7m 38s\tremaining: 40m 4s\n",
      "1700:\tlearn: 0.2934328\ttest: 0.3052184\tbest: 0.3051532 (1681)\ttotal: 8m 8s\tremaining: 39m 41s\n",
      "1800:\tlearn: 0.2910382\ttest: 0.3047521\tbest: 0.3047442 (1793)\ttotal: 8m 40s\tremaining: 39m 30s\n",
      "1900:\tlearn: 0.2883159\ttest: 0.3036969\tbest: 0.3036969 (1900)\ttotal: 9m 12s\tremaining: 39m 15s\n",
      "2000:\tlearn: 0.2864631\ttest: 0.3031053\tbest: 0.3031053 (2000)\ttotal: 9m 45s\tremaining: 39m 1s\n",
      "2100:\tlearn: 0.2847885\ttest: 0.3026099\tbest: 0.3026099 (2100)\ttotal: 10m 17s\tremaining: 38m 40s\n",
      "2200:\tlearn: 0.2826837\ttest: 0.3020251\tbest: 0.3020210 (2190)\ttotal: 10m 49s\tremaining: 38m 20s\n",
      "2300:\tlearn: 0.2812837\ttest: 0.3017529\tbest: 0.3017499 (2299)\ttotal: 11m 19s\tremaining: 37m 54s\n",
      "2400:\tlearn: 0.2795758\ttest: 0.3013553\tbest: 0.3013553 (2400)\ttotal: 11m 50s\tremaining: 37m 27s\n",
      "2500:\tlearn: 0.2777392\ttest: 0.3010613\tbest: 0.3010581 (2498)\ttotal: 12m 20s\tremaining: 36m 59s\n",
      "2600:\tlearn: 0.2758527\ttest: 0.3004400\tbest: 0.3004385 (2599)\ttotal: 12m 49s\tremaining: 36m 28s\n",
      "2700:\tlearn: 0.2743045\ttest: 0.3002469\tbest: 0.3002360 (2687)\ttotal: 13m 19s\tremaining: 36m\n",
      "2800:\tlearn: 0.2726905\ttest: 0.2998641\tbest: 0.2998641 (2800)\ttotal: 13m 49s\tremaining: 35m 31s\n",
      "2900:\tlearn: 0.2708753\ttest: 0.2996220\tbest: 0.2996137 (2897)\ttotal: 14m 21s\tremaining: 35m 8s\n",
      "3000:\tlearn: 0.2694717\ttest: 0.2994422\tbest: 0.2994299 (2985)\ttotal: 14m 54s\tremaining: 34m 46s\n",
      "3100:\tlearn: 0.2680113\ttest: 0.2992675\tbest: 0.2992675 (3100)\ttotal: 15m 26s\tremaining: 34m 21s\n",
      "3200:\tlearn: 0.2666616\ttest: 0.2992554\tbest: 0.2991749 (3183)\ttotal: 15m 55s\tremaining: 33m 49s\n",
      "3300:\tlearn: 0.2654485\ttest: 0.2990022\tbest: 0.2989864 (3289)\ttotal: 16m 26s\tremaining: 33m 20s\n",
      "3400:\tlearn: 0.2641906\ttest: 0.2987389\tbest: 0.2987284 (3399)\ttotal: 16m 55s\tremaining: 32m 51s\n",
      "3500:\tlearn: 0.2630310\ttest: 0.2986432\tbest: 0.2986080 (3467)\ttotal: 17m 25s\tremaining: 32m 20s\n",
      "3600:\tlearn: 0.2617169\ttest: 0.2984558\tbest: 0.2984558 (3600)\ttotal: 17m 55s\tremaining: 31m 51s\n",
      "3700:\tlearn: 0.2604501\ttest: 0.2982780\tbest: 0.2982528 (3692)\ttotal: 18m 26s\tremaining: 31m 22s\n",
      "Stopped by overfitting detector  (50 iterations wait)\n",
      "\n",
      "bestTest = 0.298252844\n",
      "bestIteration = 3692\n",
      "\n",
      "Shrink model to first 3693 iterations.\n",
      "The R-Squared value: 0.8803\n",
      "Mean Squared Error: 0.0934\n",
      "Root Mean Squared Error: 0.3055\n",
      "Root Mean Squared Log Error: 0.1223\n"
     ]
    }
   ],
   "source": [
    "pred_cb_1= run_CB(train, target, test)"
   ]
  },
  {
   "cell_type": "code",
   "execution_count": 64,
   "metadata": {},
   "outputs": [],
   "source": [
    "pred_cb_2= np.exp(pred_cb_1)"
   ]
  },
  {
   "cell_type": "code",
   "execution_count": 65,
   "metadata": {},
   "outputs": [
    {
     "data": {
      "text/plain": [
       "array([56.84222424, 31.70892767, 46.16853863, ..., 16.83210112,\n",
       "        4.5331452 , 62.07473784])"
      ]
     },
     "execution_count": 65,
     "metadata": {},
     "output_type": "execute_result"
    }
   ],
   "source": [
    "pred_cb_2"
   ]
  },
  {
   "cell_type": "code",
   "execution_count": 67,
   "metadata": {},
   "outputs": [
    {
     "data": {
      "text/plain": [
       "((5, 2), (36932, 16))"
      ]
     },
     "execution_count": 67,
     "metadata": {},
     "output_type": "execute_result"
    }
   ],
   "source": [
    "sample.shape, test.shape"
   ]
  },
  {
   "cell_type": "code",
   "execution_count": 78,
   "metadata": {},
   "outputs": [],
   "source": [
    "sample_1= test_[['Patient_ID']]"
   ]
  },
  {
   "cell_type": "code",
   "execution_count": 80,
   "metadata": {},
   "outputs": [],
   "source": [
    "sample_1['Greate_Risk_Probability']= pred_cb_2"
   ]
  },
  {
   "cell_type": "code",
   "execution_count": 82,
   "metadata": {},
   "outputs": [
    {
     "data": {
      "text/html": [
       "<div>\n",
       "<style scoped>\n",
       "    .dataframe tbody tr th:only-of-type {\n",
       "        vertical-align: middle;\n",
       "    }\n",
       "\n",
       "    .dataframe tbody tr th {\n",
       "        vertical-align: top;\n",
       "    }\n",
       "\n",
       "    .dataframe thead th {\n",
       "        text-align: right;\n",
       "    }\n",
       "</style>\n",
       "<table border=\"1\" class=\"dataframe\">\n",
       "  <thead>\n",
       "    <tr style=\"text-align: right;\">\n",
       "      <th></th>\n",
       "      <th>Patient_ID</th>\n",
       "      <th>Greater_Risk_Probability</th>\n",
       "    </tr>\n",
       "  </thead>\n",
       "  <tbody>\n",
       "    <tr>\n",
       "      <th>0</th>\n",
       "      <td>212114</td>\n",
       "      <td>19.9652</td>\n",
       "    </tr>\n",
       "    <tr>\n",
       "      <th>1</th>\n",
       "      <td>212115</td>\n",
       "      <td>70.4790</td>\n",
       "    </tr>\n",
       "    <tr>\n",
       "      <th>2</th>\n",
       "      <td>212116</td>\n",
       "      <td>22.5626</td>\n",
       "    </tr>\n",
       "    <tr>\n",
       "      <th>3</th>\n",
       "      <td>212117</td>\n",
       "      <td>37.4393</td>\n",
       "    </tr>\n",
       "    <tr>\n",
       "      <th>4</th>\n",
       "      <td>212118</td>\n",
       "      <td>35.3642</td>\n",
       "    </tr>\n",
       "  </tbody>\n",
       "</table>\n",
       "</div>"
      ],
      "text/plain": [
       "   Patient_ID  Greater_Risk_Probability\n",
       "0      212114                   19.9652\n",
       "1      212115                   70.4790\n",
       "2      212116                   22.5626\n",
       "3      212117                   37.4393\n",
       "4      212118                   35.3642"
      ]
     },
     "execution_count": 82,
     "metadata": {},
     "output_type": "execute_result"
    }
   ],
   "source": [
    "sample.head()"
   ]
  },
  {
   "cell_type": "code",
   "execution_count": 84,
   "metadata": {},
   "outputs": [],
   "source": [
    "sample_1.rename(columns={'Greate_Risk_Probability': 'Greater_Risk_Probability'}, inplace= True)"
   ]
  },
  {
   "cell_type": "code",
   "execution_count": 85,
   "metadata": {},
   "outputs": [
    {
     "data": {
      "text/html": [
       "<div>\n",
       "<style scoped>\n",
       "    .dataframe tbody tr th:only-of-type {\n",
       "        vertical-align: middle;\n",
       "    }\n",
       "\n",
       "    .dataframe tbody tr th {\n",
       "        vertical-align: top;\n",
       "    }\n",
       "\n",
       "    .dataframe thead th {\n",
       "        text-align: right;\n",
       "    }\n",
       "</style>\n",
       "<table border=\"1\" class=\"dataframe\">\n",
       "  <thead>\n",
       "    <tr style=\"text-align: right;\">\n",
       "      <th></th>\n",
       "      <th>Patient_ID</th>\n",
       "      <th>Greater_Risk_Probability</th>\n",
       "    </tr>\n",
       "  </thead>\n",
       "  <tbody>\n",
       "    <tr>\n",
       "      <th>0</th>\n",
       "      <td>55400</td>\n",
       "      <td>56.842224</td>\n",
       "    </tr>\n",
       "    <tr>\n",
       "      <th>1</th>\n",
       "      <td>55401</td>\n",
       "      <td>31.708928</td>\n",
       "    </tr>\n",
       "    <tr>\n",
       "      <th>2</th>\n",
       "      <td>55402</td>\n",
       "      <td>46.168539</td>\n",
       "    </tr>\n",
       "    <tr>\n",
       "      <th>3</th>\n",
       "      <td>55403</td>\n",
       "      <td>19.316248</td>\n",
       "    </tr>\n",
       "    <tr>\n",
       "      <th>4</th>\n",
       "      <td>55404</td>\n",
       "      <td>7.435873</td>\n",
       "    </tr>\n",
       "  </tbody>\n",
       "</table>\n",
       "</div>"
      ],
      "text/plain": [
       "   Patient_ID  Greater_Risk_Probability\n",
       "0       55400                 56.842224\n",
       "1       55401                 31.708928\n",
       "2       55402                 46.168539\n",
       "3       55403                 19.316248\n",
       "4       55404                  7.435873"
      ]
     },
     "execution_count": 85,
     "metadata": {},
     "output_type": "execute_result"
    }
   ],
   "source": [
    "sample_1.head()"
   ]
  },
  {
   "cell_type": "code",
   "execution_count": 86,
   "metadata": {},
   "outputs": [],
   "source": [
    "sample_1.to_csv('sample_1.csv', index= False)"
   ]
  },
  {
   "cell_type": "code",
   "execution_count": null,
   "metadata": {},
   "outputs": [],
   "source": []
  }
 ],
 "metadata": {
  "kernelspec": {
   "display_name": "Python 3",
   "language": "python",
   "name": "python3"
  },
  "language_info": {
   "codemirror_mode": {
    "name": "ipython",
    "version": 3
   },
   "file_extension": ".py",
   "mimetype": "text/x-python",
   "name": "python",
   "nbconvert_exporter": "python",
   "pygments_lexer": "ipython3",
   "version": "3.6.6"
  }
 },
 "nbformat": 4,
 "nbformat_minor": 2
}
